{
  "cells": [
    {
      "cell_type": "markdown",
      "metadata": {
        "id": "2tvkF0-WT33N"
      },
      "source": [
        "# ConfWorks demo\n",
        "### [![GitHub](https://img.shields.io/badge/GitHub-100000?style=for-the-badge&logo=github&logoColor=white)](https://github.com/moldagulovg/confWorks) This demonstration notebook shows basic usage of confWorks python-wrapper.\n",
        "\n",
        "\n",
        "### [![Open In Colab](https://colab.research.google.com/assets/colab-badge.svg)](https://colab.research.google.com/github/moldagulovg/confWorks/blob/main/demo.ipynb) You may open this .ipynb notebook in Google Collab\n"
      ]
    },
    {
      "cell_type": "markdown",
      "metadata": {
        "id": "E0iRLboYV8GI"
      },
      "source": [
        "## 0. Setup  "
      ]
    },
    {
      "cell_type": "markdown",
      "metadata": {
        "id": "AOCOjMNGW-CH"
      },
      "source": [
        "### 0.1 Install required packages"
      ]
    },
    {
      "cell_type": "code",
      "execution_count": 1,
      "metadata": {
        "colab": {
          "base_uri": "https://localhost:8080/"
        },
        "id": "5mw-Zi_uJ_Z-",
        "outputId": "ab3e23f6-4ee3-480c-c74b-172152c2756d"
      },
      "outputs": [
        {
          "name": "stdout",
          "output_type": "stream",
          "text": [
            "✨🍰✨ Everything looks OK!\n"
          ]
        }
      ],
      "source": [
        "!pip install -q condacolab\n",
        "import condacolab\n",
        "condacolab.install() # expect a kernel restart"
      ]
    },
    {
      "cell_type": "code",
      "execution_count": 2,
      "metadata": {
        "colab": {
          "base_uri": "https://localhost:8080/"
        },
        "collapsed": true,
        "id": "Np9t6GpQKBQe",
        "outputId": "6d274e21-18d1-4584-c8d0-f21f0237c8ef"
      },
      "outputs": [
        {
          "name": "stdout",
          "output_type": "stream",
          "text": [
            "\n",
            "Looking for: ['xtb']\n",
            "\n",
            "\u001b[?25l\u001b[2K\u001b[0G[+] 0.0s\n",
            "conda-forge/linux-64  ⣾  \n",
            "conda-forge/noarch    ⣾  \u001b[2K\u001b[1A\u001b[2K\u001b[1A\u001b[2K\u001b[0G[+] 0.1s\n",
            "conda-forge/linux-64  ⣾  \n",
            "conda-forge/noarch    ⣾  \u001b[2K\u001b[1A\u001b[2K\u001b[1A\u001b[2K\u001b[0Gconda-forge/linux-64                                          No change\n",
            "[+] 0.2s\n",
            "conda-forge/noarch   1%\u001b[2K\u001b[1A\u001b[2K\u001b[0G[+] 0.3s\n",
            "conda-forge/noarch   4%\u001b[2K\u001b[1A\u001b[2K\u001b[0G[+] 0.4s\n",
            "conda-forge/noarch  13%\u001b[2K\u001b[1A\u001b[2K\u001b[0G[+] 0.5s\n",
            "conda-forge/noarch  24%\u001b[2K\u001b[1A\u001b[2K\u001b[0G[+] 0.6s\n",
            "conda-forge/noarch  26%\u001b[2K\u001b[1A\u001b[2K\u001b[0G[+] 0.7s\n",
            "conda-forge/noarch  36%\u001b[2K\u001b[1A\u001b[2K\u001b[0G[+] 0.8s\n",
            "conda-forge/noarch  45%\u001b[2K\u001b[1A\u001b[2K\u001b[0G[+] 0.9s\n",
            "conda-forge/noarch  61%\u001b[2K\u001b[1A\u001b[2K\u001b[0G[+] 1.0s\n",
            "conda-forge/noarch  67%\u001b[2K\u001b[1A\u001b[2K\u001b[0G[+] 1.1s\n",
            "conda-forge/noarch  76%\u001b[2K\u001b[1A\u001b[2K\u001b[0G[+] 1.2s\n",
            "conda-forge/noarch  87%\u001b[2K\u001b[1A\u001b[2K\u001b[0G[+] 1.3s\n",
            "conda-forge/noarch  96%\u001b[2K\u001b[1A\u001b[2K\u001b[0G[+] 1.4s\n",
            "conda-forge/noarch 100%\u001b[2K\u001b[1A\u001b[2K\u001b[0G[+] 1.5s\n",
            "conda-forge/noarch 100%\u001b[2K\u001b[1A\u001b[2K\u001b[0G[+] 1.6s\n",
            "conda-forge/noarch 100%\u001b[2K\u001b[1A\u001b[2K\u001b[0Gconda-forge/noarch                                \n",
            "\u001b[?25h\n",
            "Pinned packages:\n",
            "  - python 3.11.*\n",
            "  - python 3.11.*\n",
            "  - python_abi 3.11.* *cp311*\n",
            "  - cuda-version 12.*\n",
            "\n",
            "\n",
            "Transaction\n",
            "\n",
            "  Prefix: /usr/local\n",
            "\n",
            "  All requested packages already installed\n",
            "\n",
            "\u001b[?25l\u001b[2K\u001b[0G\u001b[?25h"
          ]
        }
      ],
      "source": [
        "! mamba install xtb"
      ]
    },
    {
      "cell_type": "code",
      "execution_count": 1,
      "metadata": {
        "colab": {
          "base_uri": "https://localhost:8080/"
        },
        "id": "akDx4EmHKihV",
        "outputId": "f227c8ff-8bd5-40bb-8005-d1482a96edea"
      },
      "outputs": [
        {
          "name": "stdout",
          "output_type": "stream",
          "text": [
            "      -----------------------------------------------------------      \n",
            "     |                   =====================                   |     \n",
            "     |                           x T B                           |     \n",
            "     |                   =====================                   |     \n",
            "     |                         S. Grimme                         |     \n",
            "     |          Mulliken Center for Theoretical Chemistry        |     \n",
            "     |                    University of Bonn                     |     \n",
            "      -----------------------------------------------------------      \n",
            "\n",
            "   * xtb version 6.6.1 (8d0f1dd) compiled by 'conda@1efc2f54142f' on 2023-08-01\n",
            "\n",
            "normal termination of xtb\n"
          ]
        }
      ],
      "source": [
        "! xtb --version"
      ]
    },
    {
      "cell_type": "code",
      "execution_count": 4,
      "metadata": {
        "colab": {
          "base_uri": "https://localhost:8080/"
        },
        "collapsed": true,
        "id": "U7VQCD_aKxbr",
        "outputId": "f2bc6e73-d5ff-4abc-bfca-725bf739c6ff"
      },
      "outputs": [
        {
          "name": "stdout",
          "output_type": "stream",
          "text": [
            "Collecting git+https://github.com/moldagulovg/confWorks.git\n",
            "  Cloning https://github.com/moldagulovg/confWorks.git to /tmp/pip-req-build-76sa8z7t\n",
            "  Running command git clone --filter=blob:none --quiet https://github.com/moldagulovg/confWorks.git /tmp/pip-req-build-76sa8z7t\n",
            "  Resolved https://github.com/moldagulovg/confWorks.git to commit be93b2025a3285c6338390827956357ae56d62cb\n",
            "  Installing build dependencies ... \u001b[?25l\u001b[?25hdone\n",
            "  Getting requirements to build wheel ... \u001b[?25l\u001b[?25hdone\n",
            "  Preparing metadata (pyproject.toml) ... \u001b[?25l\u001b[?25hdone\n",
            "Requirement already satisfied: rdkit==2025.3.3 in /usr/local/lib/python3.11/site-packages (from confWorks==2025.7) (2025.3.3)\n",
            "Requirement already satisfied: tqdm in /usr/local/lib/python3.11/site-packages (from confWorks==2025.7) (4.67.1)\n",
            "Requirement already satisfied: numpy==1.26.4 in /usr/local/lib/python3.11/site-packages (from confWorks==2025.7) (1.26.4)\n",
            "Requirement already satisfied: pandas in /usr/local/lib/python3.11/site-packages (from confWorks==2025.7) (2.3.1)\n",
            "Requirement already satisfied: joblib in /usr/local/lib/python3.11/site-packages (from confWorks==2025.7) (1.5.1)\n",
            "Requirement already satisfied: chemiscope in /usr/local/lib/python3.11/site-packages (from confWorks==2025.7) (0.8.6)\n",
            "Requirement already satisfied: stk in /usr/local/lib/python3.11/site-packages (from confWorks==2025.7) (2024.10.2.0)\n",
            "Requirement already satisfied: stko in /usr/local/lib/python3.11/site-packages (from confWorks==2025.7) (2024.10.12.0)\n",
            "Requirement already satisfied: opentsne in /usr/local/lib/python3.11/site-packages (from confWorks==2025.7) (1.0.2)\n",
            "Requirement already satisfied: py3Dmol in /usr/local/lib/python3.11/site-packages (from confWorks==2025.7) (2.5.1)\n",
            "Requirement already satisfied: Pillow in /usr/local/lib/python3.11/site-packages (from rdkit==2025.3.3->confWorks==2025.7) (11.3.0)\n",
            "Requirement already satisfied: ipywidgets<9,>=7 in /usr/local/lib/python3.11/site-packages (from chemiscope->confWorks==2025.7) (8.1.7)\n",
            "Requirement already satisfied: scikit-learn>=0.20 in /usr/local/lib/python3.11/site-packages (from opentsne->confWorks==2025.7) (1.7.1)\n",
            "Requirement already satisfied: scipy in /usr/local/lib/python3.11/site-packages (from opentsne->confWorks==2025.7) (1.16.0)\n",
            "Requirement already satisfied: python-dateutil>=2.8.2 in /usr/local/lib/python3.11/site-packages (from pandas->confWorks==2025.7) (2.9.0.post0)\n",
            "Requirement already satisfied: pytz>=2020.1 in /usr/local/lib/python3.11/site-packages (from pandas->confWorks==2025.7) (2025.2)\n",
            "Requirement already satisfied: tzdata>=2022.7 in /usr/local/lib/python3.11/site-packages (from pandas->confWorks==2025.7) (2025.2)\n",
            "Requirement already satisfied: atomlite in /usr/local/lib/python3.11/site-packages (from stk->confWorks==2025.7) (4.5.0)\n",
            "Requirement already satisfied: matplotlib in /usr/local/lib/python3.11/site-packages (from stk->confWorks==2025.7) (3.10.3)\n",
            "Requirement already satisfied: pathos in /usr/local/lib/python3.11/site-packages (from stk->confWorks==2025.7) (0.3.4)\n",
            "Requirement already satisfied: seaborn in /usr/local/lib/python3.11/site-packages (from stk->confWorks==2025.7) (0.13.2)\n",
            "Requirement already satisfied: pymongo[srv] in /usr/local/lib/python3.11/site-packages (from stk->confWorks==2025.7) (4.13.2)\n",
            "Requirement already satisfied: MCHammer in /usr/local/lib/python3.11/site-packages (from stk->confWorks==2025.7) (2024.2.29.0)\n",
            "Requirement already satisfied: SpinDry in /usr/local/lib/python3.11/site-packages (from stk->confWorks==2025.7) (2024.2.29.0)\n",
            "Requirement already satisfied: vabene in /usr/local/lib/python3.11/site-packages (from stk->confWorks==2025.7) (0.0.5)\n",
            "Requirement already satisfied: networkx in /usr/local/lib/python3.11/site-packages (from stko->confWorks==2025.7) (3.5)\n",
            "Requirement already satisfied: rmsd in /usr/local/lib/python3.11/site-packages (from stko->confWorks==2025.7) (1.6.4)\n",
            "Requirement already satisfied: espaloma-charge in /usr/local/lib/python3.11/site-packages (from stko->confWorks==2025.7) (0.0.8)\n",
            "Requirement already satisfied: comm>=0.1.3 in /usr/local/lib/python3.11/site-packages (from ipywidgets<9,>=7->chemiscope->confWorks==2025.7) (0.2.2)\n",
            "Requirement already satisfied: ipython>=6.1.0 in /usr/local/lib/python3.11/site-packages (from ipywidgets<9,>=7->chemiscope->confWorks==2025.7) (9.4.0)\n",
            "Requirement already satisfied: traitlets>=4.3.1 in /usr/local/lib/python3.11/site-packages (from ipywidgets<9,>=7->chemiscope->confWorks==2025.7) (5.14.3)\n",
            "Requirement already satisfied: widgetsnbextension~=4.0.14 in /usr/local/lib/python3.11/site-packages (from ipywidgets<9,>=7->chemiscope->confWorks==2025.7) (4.0.14)\n",
            "Requirement already satisfied: jupyterlab_widgets~=3.0.15 in /usr/local/lib/python3.11/site-packages (from ipywidgets<9,>=7->chemiscope->confWorks==2025.7) (3.0.15)\n",
            "Requirement already satisfied: six>=1.5 in /usr/local/lib/python3.11/site-packages (from python-dateutil>=2.8.2->pandas->confWorks==2025.7) (1.17.0)\n",
            "Requirement already satisfied: threadpoolctl>=3.1.0 in /usr/local/lib/python3.11/site-packages (from scikit-learn>=0.20->opentsne->confWorks==2025.7) (3.6.0)\n",
            "Requirement already satisfied: polars in /usr/local/lib/python3.11/site-packages (from atomlite->stk->confWorks==2025.7) (1.31.0)\n",
            "Requirement already satisfied: dgl in /usr/local/lib/python3.11/site-packages (from espaloma-charge->stko->confWorks==2025.7) (2.1.0)\n",
            "Requirement already satisfied: torch in /usr/local/lib/python3.11/site-packages (from espaloma-charge->stko->confWorks==2025.7) (2.7.1)\n",
            "Requirement already satisfied: contourpy>=1.0.1 in /usr/local/lib/python3.11/site-packages (from matplotlib->stk->confWorks==2025.7) (1.3.2)\n",
            "Requirement already satisfied: cycler>=0.10 in /usr/local/lib/python3.11/site-packages (from matplotlib->stk->confWorks==2025.7) (0.12.1)\n",
            "Requirement already satisfied: fonttools>=4.22.0 in /usr/local/lib/python3.11/site-packages (from matplotlib->stk->confWorks==2025.7) (4.59.0)\n",
            "Requirement already satisfied: kiwisolver>=1.3.1 in /usr/local/lib/python3.11/site-packages (from matplotlib->stk->confWorks==2025.7) (1.4.8)\n",
            "Requirement already satisfied: packaging>=20.0 in /usr/local/lib/python3.11/site-packages (from matplotlib->stk->confWorks==2025.7) (24.2)\n",
            "Requirement already satisfied: pyparsing>=2.3.1 in /usr/local/lib/python3.11/site-packages (from matplotlib->stk->confWorks==2025.7) (3.2.3)\n",
            "Requirement already satisfied: ppft>=1.7.7 in /usr/local/lib/python3.11/site-packages (from pathos->stk->confWorks==2025.7) (1.7.7)\n",
            "Requirement already satisfied: dill>=0.4.0 in /usr/local/lib/python3.11/site-packages (from pathos->stk->confWorks==2025.7) (0.4.0)\n",
            "Requirement already satisfied: pox>=0.3.6 in /usr/local/lib/python3.11/site-packages (from pathos->stk->confWorks==2025.7) (0.3.6)\n",
            "Requirement already satisfied: multiprocess>=0.70.18 in /usr/local/lib/python3.11/site-packages (from pathos->stk->confWorks==2025.7) (0.70.18)\n",
            "\u001b[33mWARNING: pymongo 4.13.2 does not provide the extra 'srv'\u001b[0m\u001b[33m\n",
            "\u001b[0mRequirement already satisfied: dnspython<3.0.0,>=1.16.0 in /usr/local/lib/python3.11/site-packages (from pymongo[srv]->stk->confWorks==2025.7) (2.7.0)\n",
            "Requirement already satisfied: decorator in /usr/local/lib/python3.11/site-packages (from ipython>=6.1.0->ipywidgets<9,>=7->chemiscope->confWorks==2025.7) (5.2.1)\n",
            "Requirement already satisfied: ipython-pygments-lexers in /usr/local/lib/python3.11/site-packages (from ipython>=6.1.0->ipywidgets<9,>=7->chemiscope->confWorks==2025.7) (1.1.1)\n",
            "Requirement already satisfied: jedi>=0.16 in /usr/local/lib/python3.11/site-packages (from ipython>=6.1.0->ipywidgets<9,>=7->chemiscope->confWorks==2025.7) (0.19.2)\n",
            "Requirement already satisfied: matplotlib-inline in /usr/local/lib/python3.11/site-packages (from ipython>=6.1.0->ipywidgets<9,>=7->chemiscope->confWorks==2025.7) (0.1.7)\n",
            "Requirement already satisfied: pexpect>4.3 in /usr/local/lib/python3.11/site-packages (from ipython>=6.1.0->ipywidgets<9,>=7->chemiscope->confWorks==2025.7) (4.9.0)\n",
            "Requirement already satisfied: prompt_toolkit<3.1.0,>=3.0.41 in /usr/local/lib/python3.11/site-packages (from ipython>=6.1.0->ipywidgets<9,>=7->chemiscope->confWorks==2025.7) (3.0.51)\n",
            "Requirement already satisfied: pygments>=2.4.0 in /usr/local/lib/python3.11/site-packages (from ipython>=6.1.0->ipywidgets<9,>=7->chemiscope->confWorks==2025.7) (2.19.2)\n",
            "Requirement already satisfied: stack_data in /usr/local/lib/python3.11/site-packages (from ipython>=6.1.0->ipywidgets<9,>=7->chemiscope->confWorks==2025.7) (0.6.3)\n",
            "Requirement already satisfied: typing_extensions>=4.6 in /usr/local/lib/python3.11/site-packages (from ipython>=6.1.0->ipywidgets<9,>=7->chemiscope->confWorks==2025.7) (4.14.1)\n",
            "Requirement already satisfied: requests>=2.19.0 in /usr/local/lib/python3.11/site-packages (from dgl->espaloma-charge->stko->confWorks==2025.7) (2.32.3)\n",
            "Requirement already satisfied: psutil>=5.8.0 in /usr/local/lib/python3.11/site-packages (from dgl->espaloma-charge->stko->confWorks==2025.7) (7.0.0)\n",
            "Requirement already satisfied: torchdata>=0.5.0 in /usr/local/lib/python3.11/site-packages (from dgl->espaloma-charge->stko->confWorks==2025.7) (0.11.0)\n",
            "Requirement already satisfied: filelock in /usr/local/lib/python3.11/site-packages (from torch->espaloma-charge->stko->confWorks==2025.7) (3.18.0)\n",
            "Requirement already satisfied: sympy>=1.13.3 in /usr/local/lib/python3.11/site-packages (from torch->espaloma-charge->stko->confWorks==2025.7) (1.14.0)\n",
            "Requirement already satisfied: jinja2 in /usr/local/lib/python3.11/site-packages (from torch->espaloma-charge->stko->confWorks==2025.7) (3.1.6)\n",
            "Requirement already satisfied: fsspec in /usr/local/lib/python3.11/site-packages (from torch->espaloma-charge->stko->confWorks==2025.7) (2025.7.0)\n",
            "Requirement already satisfied: nvidia-cuda-nvrtc-cu12==12.6.77 in /usr/local/lib/python3.11/site-packages (from torch->espaloma-charge->stko->confWorks==2025.7) (12.6.77)\n",
            "Requirement already satisfied: nvidia-cuda-runtime-cu12==12.6.77 in /usr/local/lib/python3.11/site-packages (from torch->espaloma-charge->stko->confWorks==2025.7) (12.6.77)\n",
            "Requirement already satisfied: nvidia-cuda-cupti-cu12==12.6.80 in /usr/local/lib/python3.11/site-packages (from torch->espaloma-charge->stko->confWorks==2025.7) (12.6.80)\n",
            "Requirement already satisfied: nvidia-cudnn-cu12==9.5.1.17 in /usr/local/lib/python3.11/site-packages (from torch->espaloma-charge->stko->confWorks==2025.7) (9.5.1.17)\n",
            "Requirement already satisfied: nvidia-cublas-cu12==12.6.4.1 in /usr/local/lib/python3.11/site-packages (from torch->espaloma-charge->stko->confWorks==2025.7) (12.6.4.1)\n",
            "Requirement already satisfied: nvidia-cufft-cu12==11.3.0.4 in /usr/local/lib/python3.11/site-packages (from torch->espaloma-charge->stko->confWorks==2025.7) (11.3.0.4)\n",
            "Requirement already satisfied: nvidia-curand-cu12==10.3.7.77 in /usr/local/lib/python3.11/site-packages (from torch->espaloma-charge->stko->confWorks==2025.7) (10.3.7.77)\n",
            "Requirement already satisfied: nvidia-cusolver-cu12==11.7.1.2 in /usr/local/lib/python3.11/site-packages (from torch->espaloma-charge->stko->confWorks==2025.7) (11.7.1.2)\n",
            "Requirement already satisfied: nvidia-cusparse-cu12==12.5.4.2 in /usr/local/lib/python3.11/site-packages (from torch->espaloma-charge->stko->confWorks==2025.7) (12.5.4.2)\n",
            "Requirement already satisfied: nvidia-cusparselt-cu12==0.6.3 in /usr/local/lib/python3.11/site-packages (from torch->espaloma-charge->stko->confWorks==2025.7) (0.6.3)\n",
            "Requirement already satisfied: nvidia-nccl-cu12==2.26.2 in /usr/local/lib/python3.11/site-packages (from torch->espaloma-charge->stko->confWorks==2025.7) (2.26.2)\n",
            "Requirement already satisfied: nvidia-nvtx-cu12==12.6.77 in /usr/local/lib/python3.11/site-packages (from torch->espaloma-charge->stko->confWorks==2025.7) (12.6.77)\n",
            "Requirement already satisfied: nvidia-nvjitlink-cu12==12.6.85 in /usr/local/lib/python3.11/site-packages (from torch->espaloma-charge->stko->confWorks==2025.7) (12.6.85)\n",
            "Requirement already satisfied: nvidia-cufile-cu12==1.11.1.6 in /usr/local/lib/python3.11/site-packages (from torch->espaloma-charge->stko->confWorks==2025.7) (1.11.1.6)\n",
            "Requirement already satisfied: triton==3.3.1 in /usr/local/lib/python3.11/site-packages (from torch->espaloma-charge->stko->confWorks==2025.7) (3.3.1)\n",
            "Requirement already satisfied: setuptools>=40.8.0 in /usr/local/lib/python3.11/site-packages (from triton==3.3.1->torch->espaloma-charge->stko->confWorks==2025.7) (65.6.3)\n",
            "Requirement already satisfied: parso<0.9.0,>=0.8.4 in /usr/local/lib/python3.11/site-packages (from jedi>=0.16->ipython>=6.1.0->ipywidgets<9,>=7->chemiscope->confWorks==2025.7) (0.8.4)\n",
            "Requirement already satisfied: ptyprocess>=0.5 in /usr/local/lib/python3.11/site-packages (from pexpect>4.3->ipython>=6.1.0->ipywidgets<9,>=7->chemiscope->confWorks==2025.7) (0.7.0)\n",
            "Requirement already satisfied: wcwidth in /usr/local/lib/python3.11/site-packages (from prompt_toolkit<3.1.0,>=3.0.41->ipython>=6.1.0->ipywidgets<9,>=7->chemiscope->confWorks==2025.7) (0.2.13)\n",
            "Requirement already satisfied: charset_normalizer<4,>=2 in /usr/local/lib/python3.11/site-packages (from requests>=2.19.0->dgl->espaloma-charge->stko->confWorks==2025.7) (3.4.1)\n",
            "Requirement already satisfied: idna<4,>=2.5 in /usr/local/lib/python3.11/site-packages (from requests>=2.19.0->dgl->espaloma-charge->stko->confWorks==2025.7) (3.10)\n",
            "Requirement already satisfied: urllib3<3,>=1.21.1 in /usr/local/lib/python3.11/site-packages (from requests>=2.19.0->dgl->espaloma-charge->stko->confWorks==2025.7) (2.3.0)\n",
            "Requirement already satisfied: certifi>=2017.4.17 in /usr/local/lib/python3.11/site-packages (from requests>=2.19.0->dgl->espaloma-charge->stko->confWorks==2025.7) (2025.7.14)\n",
            "Requirement already satisfied: mpmath<1.4,>=1.1.0 in /usr/local/lib/python3.11/site-packages (from sympy>=1.13.3->torch->espaloma-charge->stko->confWorks==2025.7) (1.3.0)\n",
            "Requirement already satisfied: MarkupSafe>=2.0 in /usr/local/lib/python3.11/site-packages (from jinja2->torch->espaloma-charge->stko->confWorks==2025.7) (3.0.2)\n",
            "Requirement already satisfied: executing>=1.2.0 in /usr/local/lib/python3.11/site-packages (from stack_data->ipython>=6.1.0->ipywidgets<9,>=7->chemiscope->confWorks==2025.7) (2.2.0)\n",
            "Requirement already satisfied: asttokens>=2.1.0 in /usr/local/lib/python3.11/site-packages (from stack_data->ipython>=6.1.0->ipywidgets<9,>=7->chemiscope->confWorks==2025.7) (3.0.0)\n",
            "Requirement already satisfied: pure-eval in /usr/local/lib/python3.11/site-packages (from stack_data->ipython>=6.1.0->ipywidgets<9,>=7->chemiscope->confWorks==2025.7) (0.2.3)\n"
          ]
        }
      ],
      "source": [
        "! pip install git+https://github.com/moldagulovg/confWorks.git"
      ]
    },
    {
      "cell_type": "markdown",
      "metadata": {
        "id": "7avQ0cWiWF0v"
      },
      "source": [
        "### 0.2. Import packages"
      ]
    },
    {
      "cell_type": "code",
      "execution_count": 1,
      "metadata": {
        "colab": {
          "base_uri": "https://localhost:8080/"
        },
        "id": "tUS_ZmGyLxXe",
        "outputId": "c42227ea-ac34-4969-bd96-385222c3c220"
      },
      "outputs": [
        {
          "name": "stdout",
          "output_type": "stream",
          "text": [
            "2022.09.5\n"
          ]
        }
      ],
      "source": [
        "import os\n",
        "import shutil\n",
        "import subprocess\n",
        "import time\n",
        "\n",
        "import rdkit\n",
        "from rdkit import Chem\n",
        "from rdkit.Chem import AllChem\n",
        "from rdkit.Chem import Draw\n",
        "print(rdkit.__version__)\n",
        "from tqdm import tqdm\n",
        "import pandas as pd\n",
        "import numpy as np\n",
        "import matplotlib.pyplot as plt\n",
        "\n",
        "from rdkit.Chem.Draw import IPythonConsole\n",
        "IPythonConsole.ipython_3d = True\n",
        "import py3Dmol\n",
        "\n",
        "import confworks\n",
        "from confworks.util import calc_rmsd_single_mol\n",
        "from confworks.util import optimize_molecule, xtb_SP, conformer_search"
      ]
    },
    {
      "cell_type": "markdown",
      "metadata": {
        "id": "b7RbmeFbWVwn"
      },
      "source": [
        "## 1. xTB Single Point Calculation"
      ]
    },
    {
      "cell_type": "markdown",
      "metadata": {
        "id": "Bl0adBfTXHoZ"
      },
      "source": [
        "### 1.1. Define a molecule here"
      ]
    },
    {
      "cell_type": "code",
      "execution_count": 2,
      "metadata": {
        "colab": {
          "base_uri": "https://localhost:8080/",
          "height": 167
        },
        "id": "UGiFnlLgNlJy",
        "outputId": "a88c9fba-247a-478a-c060-90f66dcf2378"
      },
      "outputs": [
        {
          "data": {
            "image/png": "[encoded data removed]",
            "text/plain": [
              "<rdkit.Chem.rdchem.Mol at 0x7f4afff42a50>"
            ]
          },
          "metadata": {},
          "output_type": "display_data"
        }
      ],
      "source": [
        "mol = Chem.MolFromSmiles('CN1CC[C@]23[C@@H]4[C@H]1CC5=C2C(=C(C=C5)O)O[C@H]3[C@H](C=C4)O')\n",
        "display(mol)"
      ]
    },
    {
      "cell_type": "markdown",
      "metadata": {
        "id": "ClImZAhMXbzX"
      },
      "source": [
        "### 1.2 Embed 3D conformers for mol using RDKit's ETKDGv3 method"
      ]
    },
    {
      "cell_type": "code",
      "execution_count": 3,
      "metadata": {
        "colab": {
          "base_uri": "https://localhost:8080/",
          "height": 417
        },
        "id": "fLpxZT4_RY4D",
        "outputId": "8a13cd65-11c6-42fc-eef4-034e51756213"
      },
      "outputs": [
        {
          "data": {
            "application/3dmoljs_load.v0": "<div id=\"3dmolviewer_17532612771621385\"  style=\"position: relative; width: 400px; height: 400px;\">\n        <p id=\"3dmolwarning_17532612771621385\" style=\"background-color:#ffcccc;color:black\">3Dmol.js failed to load for some reason.  Please check your browser console for error messages.<br></p>\n        </div>\n<script>\n\nvar loadScriptAsync = function(uri){\n  return new Promise((resolve, reject) => {\n    //this is to ignore the existence of requirejs amd\n    var savedexports, savedmodule;\n    if (typeof exports !== 'undefined') savedexports = exports;\n    else exports = {}\n    if (typeof module !== 'undefined') savedmodule = module;\n    else module = {}\n\n    var tag = document.createElement('script');\n    tag.src = uri;\n    tag.async = true;\n    tag.onload = () => {\n        exports = savedexports;\n        module = savedmodule;\n        resolve();\n    };\n  var firstScriptTag = document.getElementsByTagName('script')[0];\n  firstScriptTag.parentNode.insertBefore(tag, firstScriptTag);\n});\n};\n\nif(typeof $3Dmolpromise === 'undefined') {\n$3Dmolpromise = null;\n  $3Dmolpromise = loadScriptAsync('https://cdnjs.cloudflare.com/ajax/libs/3Dmol/2.4.0/3Dmol-min.js');\n}\n\nvar viewer_17532612771621385 = null;\nvar warn = document.getElementById(\"3dmolwarning_17532612771621385\");\nif(warn) {\n    warn.parentNode.removeChild(warn);\n}\n$3Dmolpromise.then(function() {\nviewer_17532612771621385 = $3Dmol.createViewer(document.getElementById(\"3dmolviewer_17532612771621385\"),{backgroundColor:\"white\"});\nviewer_17532612771621385.zoomTo();\n\tviewer_17532612771621385.removeAllModels();\n\tviewer_17532612771621385.addModel(\"\\n     RDKit          3D\\n\\n 40 44  0  0  0  0  0  0  0  0999 V2000\\n    3.5904   -1.4881    0.1541 C   0  0  0  0  0  0  0  0  0  0  0  0\\n    2.1825   -1.6071   -0.1401 N   0  0  0  0  0  0  0  0  0  0  0  0\\n    1.8308   -1.3943   -1.4815 C   0  0  0  0  0  0  0  0  0  0  0  0\\n    0.5588   -0.7202   -1.7840 C   0  0  0  0  0  0  0  0  0  0  0  0\\n    0.0374    0.2431   -0.7887 C   0  0  2  0  0  0  0  0  0  0  0  0\\n    1.0843    0.4329    0.2851 C   0  0  2  0  0  0  0  0  0  0  0  0\\n    1.3714   -0.9306    0.8414 C   0  0  1  0  0  0  0  0  0  0  0  0\\n    0.2276   -1.7780    1.2475 C   0  0  0  0  0  0  0  0  0  0  0  0\\n   -1.0933   -1.2064    0.8734 C   0  0  0  0  0  0  0  0  0  0  0  0\\n   -1.1696   -0.2392   -0.0618 C   0  0  0  0  0  0  0  0  0  0  0  0\\n   -2.2880    0.3969   -0.4732 C   0  0  0  0  0  0  0  0  0  0  0  0\\n   -3.4674    0.0031    0.1318 C   0  0  0  0  0  0  0  0  0  0  0  0\\n   -3.4601   -0.9980    1.1099 C   0  0  0  0  0  0  0  0  0  0  0  0\\n   -2.2597   -1.6010    1.4771 C   0  0  0  0  0  0  0  0  0  0  0  0\\n   -4.6508    0.6037   -0.2354 O   0  0  0  0  0  0  0  0  0  0  0  0\\n   -1.9149    1.3443   -1.4610 O   0  0  0  0  0  0  0  0  0  0  0  0\\n   -0.4715    1.5063   -1.3921 C   0  0  1  0  0  0  0  0  0  0  0  0\\n   -0.0738    2.7329   -0.6399 C   0  0  2  0  0  0  0  0  0  0  0  0\\n    0.0555    2.5196    0.8189 C   0  0  0  0  0  0  0  0  0  0  0  0\\n    0.6159    1.4085    1.2634 C   0  0  0  0  0  0  0  0  0  0  0  0\\n   -0.9527    3.7910   -0.9025 O   0  0  0  0  0  0  0  0  0  0  0  0\\n    4.0536   -0.6394   -0.4215 H   0  0  0  0  0  0  0  0  0  0  0  0\\n    3.6925   -1.2045    1.2231 H   0  0  0  0  0  0  0  0  0  0  0  0\\n    4.1492   -2.4246    0.0150 H   0  0  0  0  0  0  0  0  0  0  0  0\\n    2.6617   -0.7957   -1.9630 H   0  0  0  0  0  0  0  0  0  0  0  0\\n    1.8864   -2.3866   -2.0212 H   0  0  0  0  0  0  0  0  0  0  0  0\\n   -0.2352   -1.5088   -1.9410 H   0  0  0  0  0  0  0  0  0  0  0  0\\n    0.5935   -0.1869   -2.7795 H   0  0  0  0  0  0  0  0  0  0  0  0\\n    2.0029    0.7978   -0.1997 H   0  0  0  0  0  0  0  0  0  0  0  0\\n    2.0259   -0.7779    1.7440 H   0  0  0  0  0  0  0  0  0  0  0  0\\n    0.2920   -2.7761    0.7396 H   0  0  0  0  0  0  0  0  0  0  0  0\\n    0.2176   -2.0164    2.3494 H   0  0  0  0  0  0  0  0  0  0  0  0\\n   -4.3969   -1.2955    1.5748 H   0  0  0  0  0  0  0  0  0  0  0  0\\n   -2.2775   -2.3837    2.2473 H   0  0  0  0  0  0  0  0  0  0  0  0\\n   -4.6608    1.3183   -0.9326 H   0  0  0  0  0  0  0  0  0  0  0  0\\n   -0.1868    1.6076   -2.4650 H   0  0  0  0  0  0  0  0  0  0  0  0\\n    0.9011    3.0726   -1.0850 H   0  0  0  0  0  0  0  0  0  0  0  0\\n   -0.3177    3.2916    1.5267 H   0  0  0  0  0  0  0  0  0  0  0  0\\n    0.7361    1.2033    2.3195 H   0  0  0  0  0  0  0  0  0  0  0  0\\n   -0.8901    4.0854   -1.8366 H   0  0  0  0  0  0  0  0  0  0  0  0\\n  1  2  1  0\\n  2  3  1  0\\n  3  4  1  0\\n  5  4  1  6\\n  5  6  1  0\\n  6  7  1  0\\n  7  8  1  0\\n  8  9  1  0\\n  9 10  2  0\\n 10 11  1  0\\n 11 12  2  0\\n 12 13  1  0\\n 13 14  2  0\\n 12 15  1  0\\n 11 16  1  0\\n 16 17  1  0\\n 17 18  1  0\\n 18 19  1  0\\n 19 20  2  0\\n 18 21  1  0\\n  7  2  1  0\\n 10  5  1  0\\n 17  5  1  0\\n 20  6  1  0\\n 14  9  1  0\\n  1 22  1  0\\n  1 23  1  0\\n  1 24  1  0\\n  3 25  1  0\\n  3 26  1  0\\n  4 27  1  0\\n  4 28  1  0\\n  6 29  1  6\\n  7 30  1  1\\n  8 31  1  0\\n  8 32  1  0\\n 13 33  1  0\\n 14 34  1  0\\n 15 35  1  0\\n 17 36  1  6\\n 18 37  1  6\\n 19 38  1  0\\n 20 39  1  0\\n 21 40  1  0\\nM  END\\n\",\"sdf\");\n\tviewer_17532612771621385.setStyle({\"stick\": {}});\n\tviewer_17532612771621385.setBackgroundColor(\"0xeeeeee\");\n\tviewer_17532612771621385.zoomTo();\nviewer_17532612771621385.render();\n});\n</script>",
            "text/html": [
              "<div id=\"3dmolviewer_17532612771621385\"  style=\"position: relative; width: 400px; height: 400px;\">\n",
              "        <p id=\"3dmolwarning_17532612771621385\" style=\"background-color:#ffcccc;color:black\">3Dmol.js failed to load for some reason.  Please check your browser console for error messages.<br></p>\n",
              "        </div>\n",
              "<script>\n",
              "\n",
              "var loadScriptAsync = function(uri){\n",
              "  return new Promise((resolve, reject) => {\n",
              "    //this is to ignore the existence of requirejs amd\n",
              "    var savedexports, savedmodule;\n",
              "    if (typeof exports !== 'undefined') savedexports = exports;\n",
              "    else exports = {}\n",
              "    if (typeof module !== 'undefined') savedmodule = module;\n",
              "    else module = {}\n",
              "\n",
              "    var tag = document.createElement('script');\n",
              "    tag.src = uri;\n",
              "    tag.async = true;\n",
              "    tag.onload = () => {\n",
              "        exports = savedexports;\n",
              "        module = savedmodule;\n",
              "        resolve();\n",
              "    };\n",
              "  var firstScriptTag = document.getElementsByTagName('script')[0];\n",
              "  firstScriptTag.parentNode.insertBefore(tag, firstScriptTag);\n",
              "});\n",
              "};\n",
              "\n",
              "if(typeof $3Dmolpromise === 'undefined') {\n",
              "$3Dmolpromise = null;\n",
              "  $3Dmolpromise = loadScriptAsync('https://cdnjs.cloudflare.com/ajax/libs/3Dmol/2.4.0/3Dmol-min.js');\n",
              "}\n",
              "\n",
              "var viewer_17532612771621385 = null;\n",
              "var warn = document.getElementById(\"3dmolwarning_17532612771621385\");\n",
              "if(warn) {\n",
              "    warn.parentNode.removeChild(warn);\n",
              "}\n",
              "$3Dmolpromise.then(function() {\n",
              "viewer_17532612771621385 = $3Dmol.createViewer(document.getElementById(\"3dmolviewer_17532612771621385\"),{backgroundColor:\"white\"});\n",
              "viewer_17532612771621385.zoomTo();\n",
              "\tviewer_17532612771621385.removeAllModels();\n",
              "\tviewer_17532612771621385.addModel(\"\\n     RDKit          3D\\n\\n 40 44  0  0  0  0  0  0  0  0999 V2000\\n    3.5904   -1.4881    0.1541 C   0  0  0  0  0  0  0  0  0  0  0  0\\n    2.1825   -1.6071   -0.1401 N   0  0  0  0  0  0  0  0  0  0  0  0\\n    1.8308   -1.3943   -1.4815 C   0  0  0  0  0  0  0  0  0  0  0  0\\n    0.5588   -0.7202   -1.7840 C   0  0  0  0  0  0  0  0  0  0  0  0\\n    0.0374    0.2431   -0.7887 C   0  0  2  0  0  0  0  0  0  0  0  0\\n    1.0843    0.4329    0.2851 C   0  0  2  0  0  0  0  0  0  0  0  0\\n    1.3714   -0.9306    0.8414 C   0  0  1  0  0  0  0  0  0  0  0  0\\n    0.2276   -1.7780    1.2475 C   0  0  0  0  0  0  0  0  0  0  0  0\\n   -1.0933   -1.2064    0.8734 C   0  0  0  0  0  0  0  0  0  0  0  0\\n   -1.1696   -0.2392   -0.0618 C   0  0  0  0  0  0  0  0  0  0  0  0\\n   -2.2880    0.3969   -0.4732 C   0  0  0  0  0  0  0  0  0  0  0  0\\n   -3.4674    0.0031    0.1318 C   0  0  0  0  0  0  0  0  0  0  0  0\\n   -3.4601   -0.9980    1.1099 C   0  0  0  0  0  0  0  0  0  0  0  0\\n   -2.2597   -1.6010    1.4771 C   0  0  0  0  0  0  0  0  0  0  0  0\\n   -4.6508    0.6037   -0.2354 O   0  0  0  0  0  0  0  0  0  0  0  0\\n   -1.9149    1.3443   -1.4610 O   0  0  0  0  0  0  0  0  0  0  0  0\\n   -0.4715    1.5063   -1.3921 C   0  0  1  0  0  0  0  0  0  0  0  0\\n   -0.0738    2.7329   -0.6399 C   0  0  2  0  0  0  0  0  0  0  0  0\\n    0.0555    2.5196    0.8189 C   0  0  0  0  0  0  0  0  0  0  0  0\\n    0.6159    1.4085    1.2634 C   0  0  0  0  0  0  0  0  0  0  0  0\\n   -0.9527    3.7910   -0.9025 O   0  0  0  0  0  0  0  0  0  0  0  0\\n    4.0536   -0.6394   -0.4215 H   0  0  0  0  0  0  0  0  0  0  0  0\\n    3.6925   -1.2045    1.2231 H   0  0  0  0  0  0  0  0  0  0  0  0\\n    4.1492   -2.4246    0.0150 H   0  0  0  0  0  0  0  0  0  0  0  0\\n    2.6617   -0.7957   -1.9630 H   0  0  0  0  0  0  0  0  0  0  0  0\\n    1.8864   -2.3866   -2.0212 H   0  0  0  0  0  0  0  0  0  0  0  0\\n   -0.2352   -1.5088   -1.9410 H   0  0  0  0  0  0  0  0  0  0  0  0\\n    0.5935   -0.1869   -2.7795 H   0  0  0  0  0  0  0  0  0  0  0  0\\n    2.0029    0.7978   -0.1997 H   0  0  0  0  0  0  0  0  0  0  0  0\\n    2.0259   -0.7779    1.7440 H   0  0  0  0  0  0  0  0  0  0  0  0\\n    0.2920   -2.7761    0.7396 H   0  0  0  0  0  0  0  0  0  0  0  0\\n    0.2176   -2.0164    2.3494 H   0  0  0  0  0  0  0  0  0  0  0  0\\n   -4.3969   -1.2955    1.5748 H   0  0  0  0  0  0  0  0  0  0  0  0\\n   -2.2775   -2.3837    2.2473 H   0  0  0  0  0  0  0  0  0  0  0  0\\n   -4.6608    1.3183   -0.9326 H   0  0  0  0  0  0  0  0  0  0  0  0\\n   -0.1868    1.6076   -2.4650 H   0  0  0  0  0  0  0  0  0  0  0  0\\n    0.9011    3.0726   -1.0850 H   0  0  0  0  0  0  0  0  0  0  0  0\\n   -0.3177    3.2916    1.5267 H   0  0  0  0  0  0  0  0  0  0  0  0\\n    0.7361    1.2033    2.3195 H   0  0  0  0  0  0  0  0  0  0  0  0\\n   -0.8901    4.0854   -1.8366 H   0  0  0  0  0  0  0  0  0  0  0  0\\n  1  2  1  0\\n  2  3  1  0\\n  3  4  1  0\\n  5  4  1  6\\n  5  6  1  0\\n  6  7  1  0\\n  7  8  1  0\\n  8  9  1  0\\n  9 10  2  0\\n 10 11  1  0\\n 11 12  2  0\\n 12 13  1  0\\n 13 14  2  0\\n 12 15  1  0\\n 11 16  1  0\\n 16 17  1  0\\n 17 18  1  0\\n 18 19  1  0\\n 19 20  2  0\\n 18 21  1  0\\n  7  2  1  0\\n 10  5  1  0\\n 17  5  1  0\\n 20  6  1  0\\n 14  9  1  0\\n  1 22  1  0\\n  1 23  1  0\\n  1 24  1  0\\n  3 25  1  0\\n  3 26  1  0\\n  4 27  1  0\\n  4 28  1  0\\n  6 29  1  6\\n  7 30  1  1\\n  8 31  1  0\\n  8 32  1  0\\n 13 33  1  0\\n 14 34  1  0\\n 15 35  1  0\\n 17 36  1  6\\n 18 37  1  6\\n 19 38  1  0\\n 20 39  1  0\\n 21 40  1  0\\nM  END\\n\",\"sdf\");\n",
              "\tviewer_17532612771621385.setStyle({\"stick\": {}});\n",
              "\tviewer_17532612771621385.setBackgroundColor(\"0xeeeeee\");\n",
              "\tviewer_17532612771621385.zoomTo();\n",
              "viewer_17532612771621385.render();\n",
              "});\n",
              "</script>"
            ]
          },
          "metadata": {},
          "output_type": "display_data"
        },
        {
          "data": {
            "image/png": "[encoded data removed]",
            "text/html": [],
            "text/plain": [
              "<rdkit.Chem.rdchem.Mol at 0x7f4afff42970>"
            ]
          },
          "metadata": {},
          "output_type": "display_data"
        }
      ],
      "source": [
        "mol = Chem.AddHs(mol)\n",
        "AllChem.EmbedMultipleConfs(mol, 10)\n",
        "display(mol)"
      ]
    },
    {
      "cell_type": "markdown",
      "metadata": {
        "id": "JzyURFU2Xhu0"
      },
      "source": [
        "### 1.3 Single point calculation  via *xtb_SP*\n",
        "We can calculate single point energies for each conformer in a molecule using *xtb_SP* function. You may supply xtb arguments (e.g. basis function, optimization level, charge, number of unpaired electrons, solvent, etc. via keywords)"
      ]
    },
    {
      "cell_type": "code",
      "execution_count": 4,
      "metadata": {
        "colab": {
          "base_uri": "https://localhost:8080/"
        },
        "id": "AB8z6NXuSEHr",
        "outputId": "bb422484-5772-4872-cc40-f50f0bf47057"
      },
      "outputs": [
        {
          "name": "stderr",
          "output_type": "stream",
          "text": [
            "100%|██████████| 10/10 [00:03<00:00,  3.00it/s]\n"
          ]
        }
      ],
      "source": [
        "mol = xtb_SP(mol, gfn_xtb=2)"
      ]
    },
    {
      "cell_type": "code",
      "execution_count": 5,
      "metadata": {
        "colab": {
          "base_uri": "https://localhost:8080/"
        },
        "id": "NRh1z5_cYHJJ",
        "outputId": "81d408ae-cfac-4ed7-f0b4-995b1b58e7c8"
      },
      "outputs": [
        {
          "name": "stdout",
          "output_type": "stream",
          "text": [
            "[-61.183325991776, -61.20294925917, -61.183217449087, -61.175883982405, -61.176003204838, -61.194058292155, -61.186170296585, -61.190457740108, -61.190119757365, -61.172445566079]\n",
            "min E: -61.20294925917\n"
          ]
        }
      ],
      "source": [
        "energies = []\n",
        "for conf in mol.GetConformers():\n",
        "    energy = conf.GetDoubleProp('conf_energy')\n",
        "    energies.append(energy)\n",
        "print(energies)\n",
        "print(f'min E: {min(energies)}')\n"
      ]
    },
    {
      "cell_type": "markdown",
      "metadata": {
        "id": "v85V2KrZYJQ-"
      },
      "source": [
        "## 2. Geometry optimization\n",
        "The *optimize_molecule* function will start geometry optimization for every conformer in the original input mol. You may also specify conformer ID for a single optimizatoin. As a result atom coordinates and energies are updated for each conformer.You may add geometry optimization arguments via function keywords."
      ]
    },
    {
      "cell_type": "code",
      "execution_count": null,
      "metadata": {
        "colab": {
          "base_uri": "https://localhost:8080/"
        },
        "id": "fwDt0VuSRdo0",
        "outputId": "27d6d45d-5d09-4816-ab40-439f903fedfa"
      },
      "outputs": [
        {
          "name": "stdout",
          "output_type": "stream",
          "text": [
            "x\n"
          ]
        },
        {
          "name": "stderr",
          "output_type": "stream",
          "text": [
            " 40%|████      | 4/10 [00:29<00:42,  7.13s/it]"
          ]
        }
      ],
      "source": [
        "mol_opt = optimize_molecule(mol, gfn_xtb=2)"
      ]
    },
    {
      "cell_type": "code",
      "execution_count": 24,
      "metadata": {
        "colab": {
          "base_uri": "https://localhost:8080/",
          "height": 417
        },
        "id": "vGcX6_PTRnNE",
        "outputId": "43abe865-6665-4c7d-ba04-94b1d6bdc877"
      },
      "outputs": [
        {
          "data": {
            "application/3dmoljs_load.v0": "<div id=\"3dmolviewer_175325763482354\"  style=\"position: relative; width: 400px; height: 400px;\">\n        <p id=\"3dmolwarning_175325763482354\" style=\"background-color:#ffcccc;color:black\">3Dmol.js failed to load for some reason.  Please check your browser console for error messages.<br></p>\n        </div>\n<script>\n\nvar loadScriptAsync = function(uri){\n  return new Promise((resolve, reject) => {\n    //this is to ignore the existence of requirejs amd\n    var savedexports, savedmodule;\n    if (typeof exports !== 'undefined') savedexports = exports;\n    else exports = {}\n    if (typeof module !== 'undefined') savedmodule = module;\n    else module = {}\n\n    var tag = document.createElement('script');\n    tag.src = uri;\n    tag.async = true;\n    tag.onload = () => {\n        exports = savedexports;\n        module = savedmodule;\n        resolve();\n    };\n  var firstScriptTag = document.getElementsByTagName('script')[0];\n  firstScriptTag.parentNode.insertBefore(tag, firstScriptTag);\n});\n};\n\nif(typeof $3Dmolpromise === 'undefined') {\n$3Dmolpromise = null;\n  $3Dmolpromise = loadScriptAsync('https://cdn.jsdelivr.net/npm/3dmol@2.5.1/build/3Dmol-min.js');\n}\n\nvar viewer_175325763482354 = null;\nvar warn = document.getElementById(\"3dmolwarning_175325763482354\");\nif(warn) {\n    warn.parentNode.removeChild(warn);\n}\n$3Dmolpromise.then(function() {\nviewer_175325763482354 = $3Dmol.createViewer(document.getElementById(\"3dmolviewer_175325763482354\"),{backgroundColor:\"white\"});\nviewer_175325763482354.zoomTo();\n\tviewer_175325763482354.removeAllModels();\n\tviewer_175325763482354.addModel(\"\\n     RDKit          3D\\n\\n 40 44  0  0  0  0  0  0  0  0999 V2000\\n    4.0196   -0.1427    0.4329 C   0  0  0  0  0  0  0  0  0  0  0  0\\n    2.6067    0.0734    0.6311 N   0  0  0  0  0  0  0  0  0  0  0  0\\n    2.0861   -0.6699    1.7561 C   0  0  0  0  0  0  0  0  0  0  0  0\\n    0.6174   -0.3307    1.9833 C   0  0  0  0  0  0  0  0  0  0  0  0\\n   -0.2197   -0.4939    0.6978 C   0  0  2  0  0  0  0  0  0  0  0  0\\n    0.6573   -1.0229   -0.4466 C   0  0  2  0  0  0  0  0  0  0  0  0\\n    1.8209   -0.0272   -0.6025 C   0  0  1  0  0  0  0  0  0  0  0  0\\n    1.3657    1.4018   -0.9988 C   0  0  0  0  0  0  0  0  0  0  0  0\\n   -0.0248    1.7437   -0.5504 C   0  0  0  0  0  0  0  0  0  0  0  0\\n   -0.7228    0.8258    0.1977 C   0  0  0  0  0  0  0  0  0  0  0  0\\n   -2.0807    0.9158    0.4274 C   0  0  0  0  0  0  0  0  0  0  0  0\\n   -2.7867    2.0461    0.0433 C   0  0  0  0  0  0  0  0  0  0  0  0\\n   -2.0655    3.0394   -0.6191 C   0  0  0  0  0  0  0  0  0  0  0  0\\n   -0.7270    2.8812   -0.9408 C   0  0  0  0  0  0  0  0  0  0  0  0\\n   -4.1242    2.1863    0.2604 O   0  0  0  0  0  0  0  0  0  0  0  0\\n   -2.5890   -0.2299    0.9831 O   0  0  0  0  0  0  0  0  0  0  0  0\\n   -1.5642   -1.2238    0.9236 C   0  0  1  0  0  0  0  0  0  0  0  0\\n   -1.8480   -2.2364   -0.2195 C   0  0  2  0  0  0  0  0  0  0  0  0\\n   -1.4024   -1.6946   -1.5471 C   0  0  0  0  0  0  0  0  0  0  0  0\\n   -0.1988   -1.1553   -1.6678 C   0  0  0  0  0  0  0  0  0  0  0  0\\n   -3.2061   -2.5910   -0.1645 O   0  0  0  0  0  0  0  0  0  0  0  0\\n    4.3780    0.5202   -0.3531 H   0  0  0  0  0  0  0  0  0  0  0  0\\n    4.5476    0.1011    1.3544 H   0  0  0  0  0  0  0  0  0  0  0  0\\n    4.2648   -1.1821    0.1580 H   0  0  0  0  0  0  0  0  0  0  0  0\\n    2.2123   -1.7631    1.6380 H   0  0  0  0  0  0  0  0  0  0  0  0\\n    2.6606   -0.3749    2.6393 H   0  0  0  0  0  0  0  0  0  0  0  0\\n    0.2275   -0.9686    2.7780 H   0  0  0  0  0  0  0  0  0  0  0  0\\n    0.5466    0.7055    2.3184 H   0  0  0  0  0  0  0  0  0  0  0  0\\n    1.0649   -2.0105   -0.1964 H   0  0  0  0  0  0  0  0  0  0  0  0\\n    2.4701   -0.4029   -1.4065 H   0  0  0  0  0  0  0  0  0  0  0  0\\n    1.4063    1.5157   -2.0855 H   0  0  0  0  0  0  0  0  0  0  0  0\\n    2.0868    2.1016   -0.5707 H   0  0  0  0  0  0  0  0  0  0  0  0\\n   -2.5994    3.9241   -0.9278 H   0  0  0  0  0  0  0  0  0  0  0  0\\n   -0.2311    3.6448   -1.5210 H   0  0  0  0  0  0  0  0  0  0  0  0\\n   -4.4453    1.3749    0.6747 H   0  0  0  0  0  0  0  0  0  0  0  0\\n   -1.6142   -1.7643    1.8729 H   0  0  0  0  0  0  0  0  0  0  0  0\\n   -1.2251   -3.1271    0.0053 H   0  0  0  0  0  0  0  0  0  0  0  0\\n   -2.0852   -1.7864   -2.3789 H   0  0  0  0  0  0  0  0  0  0  0  0\\n    0.1692   -0.7781   -2.6084 H   0  0  0  0  0  0  0  0  0  0  0  0\\n   -3.4480   -3.0252   -0.9897 H   0  0  0  0  0  0  0  0  0  0  0  0\\n  1  2  1  0\\n  2  3  1  0\\n  3  4  1  0\\n  5  4  1  1\\n  5  6  1  0\\n  6  7  1  0\\n  7  8  1  0\\n  8  9  1  0\\n  9 10  2  0\\n 10 11  1  0\\n 11 12  2  0\\n 12 13  1  0\\n 13 14  2  0\\n 12 15  1  0\\n 11 16  1  0\\n 16 17  1  0\\n 17 18  1  0\\n 18 19  1  0\\n 19 20  2  0\\n 18 21  1  0\\n  7  2  1  0\\n 10  5  1  0\\n 17  5  1  0\\n 20  6  1  0\\n 14  9  1  0\\n  1 22  1  0\\n  1 23  1  0\\n  1 24  1  0\\n  3 25  1  0\\n  3 26  1  0\\n  4 27  1  0\\n  4 28  1  0\\n  6 29  1  1\\n  7 30  1  6\\n  8 31  1  0\\n  8 32  1  0\\n 13 33  1  0\\n 14 34  1  0\\n 15 35  1  0\\n 17 36  1  1\\n 18 37  1  1\\n 19 38  1  0\\n 20 39  1  0\\n 21 40  1  0\\nM  END\\n\",\"sdf\");\n\tviewer_175325763482354.setStyle({\"stick\": {}});\n\tviewer_175325763482354.setBackgroundColor(\"0xeeeeee\");\n\tviewer_175325763482354.zoomTo();\nviewer_175325763482354.render();\n});\n</script>",
            "text/html": [
              "<div id=\"3dmolviewer_175325763482354\"  style=\"position: relative; width: 400px; height: 400px;\">\n",
              "        <p id=\"3dmolwarning_175325763482354\" style=\"background-color:#ffcccc;color:black\">3Dmol.js failed to load for some reason.  Please check your browser console for error messages.<br></p>\n",
              "        </div>\n",
              "<script>\n",
              "\n",
              "var loadScriptAsync = function(uri){\n",
              "  return new Promise((resolve, reject) => {\n",
              "    //this is to ignore the existence of requirejs amd\n",
              "    var savedexports, savedmodule;\n",
              "    if (typeof exports !== 'undefined') savedexports = exports;\n",
              "    else exports = {}\n",
              "    if (typeof module !== 'undefined') savedmodule = module;\n",
              "    else module = {}\n",
              "\n",
              "    var tag = document.createElement('script');\n",
              "    tag.src = uri;\n",
              "    tag.async = true;\n",
              "    tag.onload = () => {\n",
              "        exports = savedexports;\n",
              "        module = savedmodule;\n",
              "        resolve();\n",
              "    };\n",
              "  var firstScriptTag = document.getElementsByTagName('script')[0];\n",
              "  firstScriptTag.parentNode.insertBefore(tag, firstScriptTag);\n",
              "});\n",
              "};\n",
              "\n",
              "if(typeof $3Dmolpromise === 'undefined') {\n",
              "$3Dmolpromise = null;\n",
              "  $3Dmolpromise = loadScriptAsync('https://cdn.jsdelivr.net/npm/3dmol@2.5.1/build/3Dmol-min.js');\n",
              "}\n",
              "\n",
              "var viewer_175325763482354 = null;\n",
              "var warn = document.getElementById(\"3dmolwarning_175325763482354\");\n",
              "if(warn) {\n",
              "    warn.parentNode.removeChild(warn);\n",
              "}\n",
              "$3Dmolpromise.then(function() {\n",
              "viewer_175325763482354 = $3Dmol.createViewer(document.getElementById(\"3dmolviewer_175325763482354\"),{backgroundColor:\"white\"});\n",
              "viewer_175325763482354.zoomTo();\n",
              "\tviewer_175325763482354.removeAllModels();\n",
              "\tviewer_175325763482354.addModel(\"\\n     RDKit          3D\\n\\n 40 44  0  0  0  0  0  0  0  0999 V2000\\n    4.0196   -0.1427    0.4329 C   0  0  0  0  0  0  0  0  0  0  0  0\\n    2.6067    0.0734    0.6311 N   0  0  0  0  0  0  0  0  0  0  0  0\\n    2.0861   -0.6699    1.7561 C   0  0  0  0  0  0  0  0  0  0  0  0\\n    0.6174   -0.3307    1.9833 C   0  0  0  0  0  0  0  0  0  0  0  0\\n   -0.2197   -0.4939    0.6978 C   0  0  2  0  0  0  0  0  0  0  0  0\\n    0.6573   -1.0229   -0.4466 C   0  0  2  0  0  0  0  0  0  0  0  0\\n    1.8209   -0.0272   -0.6025 C   0  0  1  0  0  0  0  0  0  0  0  0\\n    1.3657    1.4018   -0.9988 C   0  0  0  0  0  0  0  0  0  0  0  0\\n   -0.0248    1.7437   -0.5504 C   0  0  0  0  0  0  0  0  0  0  0  0\\n   -0.7228    0.8258    0.1977 C   0  0  0  0  0  0  0  0  0  0  0  0\\n   -2.0807    0.9158    0.4274 C   0  0  0  0  0  0  0  0  0  0  0  0\\n   -2.7867    2.0461    0.0433 C   0  0  0  0  0  0  0  0  0  0  0  0\\n   -2.0655    3.0394   -0.6191 C   0  0  0  0  0  0  0  0  0  0  0  0\\n   -0.7270    2.8812   -0.9408 C   0  0  0  0  0  0  0  0  0  0  0  0\\n   -4.1242    2.1863    0.2604 O   0  0  0  0  0  0  0  0  0  0  0  0\\n   -2.5890   -0.2299    0.9831 O   0  0  0  0  0  0  0  0  0  0  0  0\\n   -1.5642   -1.2238    0.9236 C   0  0  1  0  0  0  0  0  0  0  0  0\\n   -1.8480   -2.2364   -0.2195 C   0  0  2  0  0  0  0  0  0  0  0  0\\n   -1.4024   -1.6946   -1.5471 C   0  0  0  0  0  0  0  0  0  0  0  0\\n   -0.1988   -1.1553   -1.6678 C   0  0  0  0  0  0  0  0  0  0  0  0\\n   -3.2061   -2.5910   -0.1645 O   0  0  0  0  0  0  0  0  0  0  0  0\\n    4.3780    0.5202   -0.3531 H   0  0  0  0  0  0  0  0  0  0  0  0\\n    4.5476    0.1011    1.3544 H   0  0  0  0  0  0  0  0  0  0  0  0\\n    4.2648   -1.1821    0.1580 H   0  0  0  0  0  0  0  0  0  0  0  0\\n    2.2123   -1.7631    1.6380 H   0  0  0  0  0  0  0  0  0  0  0  0\\n    2.6606   -0.3749    2.6393 H   0  0  0  0  0  0  0  0  0  0  0  0\\n    0.2275   -0.9686    2.7780 H   0  0  0  0  0  0  0  0  0  0  0  0\\n    0.5466    0.7055    2.3184 H   0  0  0  0  0  0  0  0  0  0  0  0\\n    1.0649   -2.0105   -0.1964 H   0  0  0  0  0  0  0  0  0  0  0  0\\n    2.4701   -0.4029   -1.4065 H   0  0  0  0  0  0  0  0  0  0  0  0\\n    1.4063    1.5157   -2.0855 H   0  0  0  0  0  0  0  0  0  0  0  0\\n    2.0868    2.1016   -0.5707 H   0  0  0  0  0  0  0  0  0  0  0  0\\n   -2.5994    3.9241   -0.9278 H   0  0  0  0  0  0  0  0  0  0  0  0\\n   -0.2311    3.6448   -1.5210 H   0  0  0  0  0  0  0  0  0  0  0  0\\n   -4.4453    1.3749    0.6747 H   0  0  0  0  0  0  0  0  0  0  0  0\\n   -1.6142   -1.7643    1.8729 H   0  0  0  0  0  0  0  0  0  0  0  0\\n   -1.2251   -3.1271    0.0053 H   0  0  0  0  0  0  0  0  0  0  0  0\\n   -2.0852   -1.7864   -2.3789 H   0  0  0  0  0  0  0  0  0  0  0  0\\n    0.1692   -0.7781   -2.6084 H   0  0  0  0  0  0  0  0  0  0  0  0\\n   -3.4480   -3.0252   -0.9897 H   0  0  0  0  0  0  0  0  0  0  0  0\\n  1  2  1  0\\n  2  3  1  0\\n  3  4  1  0\\n  5  4  1  1\\n  5  6  1  0\\n  6  7  1  0\\n  7  8  1  0\\n  8  9  1  0\\n  9 10  2  0\\n 10 11  1  0\\n 11 12  2  0\\n 12 13  1  0\\n 13 14  2  0\\n 12 15  1  0\\n 11 16  1  0\\n 16 17  1  0\\n 17 18  1  0\\n 18 19  1  0\\n 19 20  2  0\\n 18 21  1  0\\n  7  2  1  0\\n 10  5  1  0\\n 17  5  1  0\\n 20  6  1  0\\n 14  9  1  0\\n  1 22  1  0\\n  1 23  1  0\\n  1 24  1  0\\n  3 25  1  0\\n  3 26  1  0\\n  4 27  1  0\\n  4 28  1  0\\n  6 29  1  1\\n  7 30  1  6\\n  8 31  1  0\\n  8 32  1  0\\n 13 33  1  0\\n 14 34  1  0\\n 15 35  1  0\\n 17 36  1  1\\n 18 37  1  1\\n 19 38  1  0\\n 20 39  1  0\\n 21 40  1  0\\nM  END\\n\",\"sdf\");\n",
              "\tviewer_175325763482354.setStyle({\"stick\": {}});\n",
              "\tviewer_175325763482354.setBackgroundColor(\"0xeeeeee\");\n",
              "\tviewer_175325763482354.zoomTo();\n",
              "viewer_175325763482354.render();\n",
              "});\n",
              "</script>"
            ]
          },
          "metadata": {},
          "output_type": "display_data"
        },
        {
          "data": {
            "image/png": "[encoded data removed]",
            "text/html": [],
            "text/plain": [
              "<rdkit.Chem.rdchem.Mol at 0x783e4d013f40>"
            ]
          },
          "metadata": {},
          "output_type": "display_data"
        }
      ],
      "source": [
        "display(mol_opt)"
      ]
    },
    {
      "cell_type": "code",
      "execution_count": 25,
      "metadata": {
        "colab": {
          "base_uri": "https://localhost:8080/"
        },
        "id": "sReIJJNbRq_1",
        "outputId": "10595488-93b8-4cec-d8b8-e62a11b5e893"
      },
      "outputs": [
        {
          "name": "stdout",
          "output_type": "stream",
          "text": [
            "[-61.235850998327, -61.24428961909, -61.23524552023, -61.235247308801, -61.239401464263, -61.237663760284, -61.235879801304, -61.235233616699, -61.241818692235, -61.239387985125]\n",
            "min E: -61.24428961909\n"
          ]
        }
      ],
      "source": [
        "energies = []\n",
        "for conf in mol_opt.GetConformers():\n",
        "    energy = conf.GetDoubleProp('conf_energy')\n",
        "    energies.append(energy)\n",
        "print(energies)\n",
        "print(f'min E: {min(energies)}')"
      ]
    },
    {
      "cell_type": "code",
      "execution_count": 26,
      "metadata": {
        "colab": {
          "base_uri": "https://localhost:8080/"
        },
        "id": "nkr5HHanR39I",
        "outputId": "8c698c60-b8ef-4ac5-d025-282f91ef9486"
      },
      "outputs": [
        {
          "name": "stdout",
          "output_type": "stream",
          "text": [
            "0.048471980546999305\n"
          ]
        }
      ],
      "source": [
        "print(-61.195817638543 - (-61.24428961909))"
      ]
    },
    {
      "cell_type": "markdown",
      "metadata": {
        "id": "Nhjc4BpnZonY"
      },
      "source": [
        "## 3. Conformer sampling"
      ]
    },
    {
      "cell_type": "code",
      "execution_count": null,
      "metadata": {
        "id": "sijBqnaeSalM"
      },
      "outputs": [],
      "source": [
        "# mol_crest = conformer_search()"
      ]
    }
  ],
  "metadata": {
    "colab": {
      "collapsed_sections": [
        "E0iRLboYV8GI",
        "AOCOjMNGW-CH"
      ],
      "provenance": [],
      "toc_visible": true
    },
    "kernelspec": {
      "display_name": "bcatata",
      "language": "python",
      "name": "python3"
    },
    "language_info": {
      "codemirror_mode": {
        "name": "ipython",
        "version": 3
      },
      "file_extension": ".py",
      "mimetype": "text/x-python",
      "name": "python",
      "nbconvert_exporter": "python",
      "pygments_lexer": "ipython3",
      "version": "3.9.18"
    }
  },
  "nbformat": 4,
  "nbformat_minor": 0
}
