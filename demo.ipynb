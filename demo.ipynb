{
  "cells": [
    {
      "cell_type": "markdown",
      "metadata": {
        "id": "2tvkF0-WT33N"
      },
      "source": [
        "# ConfWorks demo\n",
        "### [![GitHub](https://img.shields.io/badge/GitHub-100000?style=for-the-badge&logo=github&logoColor=white)](https://github.com/moldagulovg/confWorks) This demonstration notebook shows basic usage of confWorks python-wrapper.\n",
        "\n",
        "\n",
        "### [![Open In Colab](https://colab.research.google.com/assets/colab-badge.svg)](https://colab.research.google.com/github/moldagulovg/confWorks/blob/main/demo.ipynb) You may open this .ipynb notebook in Google Collab\n"
      ]
    },
    {
      "cell_type": "markdown",
      "metadata": {
        "id": "E0iRLboYV8GI"
      },
      "source": [
        "## 0. Setup  "
      ]
    },
    {
      "cell_type": "markdown",
      "metadata": {
        "id": "AOCOjMNGW-CH"
      },
      "source": [
        "### 0.1 Install required packages"
      ]
    },
    {
      "cell_type": "code",
      "execution_count": 1,
      "metadata": {
        "colab": {
          "base_uri": "https://localhost:8080/"
        },
        "id": "5mw-Zi_uJ_Z-",
        "outputId": "ab3e23f6-4ee3-480c-c74b-172152c2756d"
      },
      "outputs": [
        {
          "name": "stdout",
          "output_type": "stream",
          "text": [
            "✨🍰✨ Everything looks OK!\n"
          ]
        }
      ],
      "source": [
        "!pip install -q condacolab\n",
        "import condacolab\n",
        "condacolab.install() # expect a kernel restart"
      ]
    },
    {
      "cell_type": "code",
      "execution_count": 2,
      "metadata": {
        "colab": {
          "base_uri": "https://localhost:8080/"
        },
        "collapsed": true,
        "id": "Np9t6GpQKBQe",
        "outputId": "6d274e21-18d1-4584-c8d0-f21f0237c8ef"
      },
      "outputs": [
        {
          "name": "stdout",
          "output_type": "stream",
          "text": [
            "\n",
            "Looking for: ['xtb']\n",
            "\n",
            "\u001b[?25l\u001b[2K\u001b[0G[+] 0.0s\n",
            "conda-forge/linux-64  ⣾  \n",
            "conda-forge/noarch    ⣾  \u001b[2K\u001b[1A\u001b[2K\u001b[1A\u001b[2K\u001b[0G[+] 0.1s\n",
            "conda-forge/linux-64  ⣾  \n",
            "conda-forge/noarch    ⣾  \u001b[2K\u001b[1A\u001b[2K\u001b[1A\u001b[2K\u001b[0Gconda-forge/linux-64                                          No change\n",
            "[+] 0.2s\n",
            "conda-forge/noarch   1%\u001b[2K\u001b[1A\u001b[2K\u001b[0G[+] 0.3s\n",
            "conda-forge/noarch   4%\u001b[2K\u001b[1A\u001b[2K\u001b[0G[+] 0.4s\n",
            "conda-forge/noarch  13%\u001b[2K\u001b[1A\u001b[2K\u001b[0G[+] 0.5s\n",
            "conda-forge/noarch  24%\u001b[2K\u001b[1A\u001b[2K\u001b[0G[+] 0.6s\n",
            "conda-forge/noarch  26%\u001b[2K\u001b[1A\u001b[2K\u001b[0G[+] 0.7s\n",
            "conda-forge/noarch  36%\u001b[2K\u001b[1A\u001b[2K\u001b[0G[+] 0.8s\n",
            "conda-forge/noarch  45%\u001b[2K\u001b[1A\u001b[2K\u001b[0G[+] 0.9s\n",
            "conda-forge/noarch  61%\u001b[2K\u001b[1A\u001b[2K\u001b[0G[+] 1.0s\n",
            "conda-forge/noarch  67%\u001b[2K\u001b[1A\u001b[2K\u001b[0G[+] 1.1s\n",
            "conda-forge/noarch  76%\u001b[2K\u001b[1A\u001b[2K\u001b[0G[+] 1.2s\n",
            "conda-forge/noarch  87%\u001b[2K\u001b[1A\u001b[2K\u001b[0G[+] 1.3s\n",
            "conda-forge/noarch  96%\u001b[2K\u001b[1A\u001b[2K\u001b[0G[+] 1.4s\n",
            "conda-forge/noarch 100%\u001b[2K\u001b[1A\u001b[2K\u001b[0G[+] 1.5s\n",
            "conda-forge/noarch 100%\u001b[2K\u001b[1A\u001b[2K\u001b[0G[+] 1.6s\n",
            "conda-forge/noarch 100%\u001b[2K\u001b[1A\u001b[2K\u001b[0Gconda-forge/noarch                                \n",
            "\u001b[?25h\n",
            "Pinned packages:\n",
            "  - python 3.11.*\n",
            "  - python 3.11.*\n",
            "  - python_abi 3.11.* *cp311*\n",
            "  - cuda-version 12.*\n",
            "\n",
            "\n",
            "Transaction\n",
            "\n",
            "  Prefix: /usr/local\n",
            "\n",
            "  All requested packages already installed\n",
            "\n",
            "\u001b[?25l\u001b[2K\u001b[0G\u001b[?25h"
          ]
        }
      ],
      "source": [
        "! mamba install xtb"
      ]
    },
    {
      "cell_type": "code",
      "execution_count": 1,
      "metadata": {
        "colab": {
          "base_uri": "https://localhost:8080/"
        },
        "id": "akDx4EmHKihV",
        "outputId": "f227c8ff-8bd5-40bb-8005-d1482a96edea"
      },
      "outputs": [
        {
          "name": "stdout",
          "output_type": "stream",
          "text": [
            "      -----------------------------------------------------------      \n",
            "     |                   =====================                   |     \n",
            "     |                           x T B                           |     \n",
            "     |                   =====================                   |     \n",
            "     |                         S. Grimme                         |     \n",
            "     |          Mulliken Center for Theoretical Chemistry        |     \n",
            "     |                    University of Bonn                     |     \n",
            "      -----------------------------------------------------------      \n",
            "\n",
            "   * xtb version 6.6.1 (8d0f1dd) compiled by 'conda@1efc2f54142f' on 2023-08-01\n",
            "\n",
            "normal termination of xtb\n"
          ]
        }
      ],
      "source": [
        "! xtb --version"
      ]
    },
    {
      "cell_type": "code",
      "execution_count": 4,
      "metadata": {
        "colab": {
          "base_uri": "https://localhost:8080/"
        },
        "collapsed": true,
        "id": "U7VQCD_aKxbr",
        "outputId": "f2bc6e73-d5ff-4abc-bfca-725bf739c6ff"
      },
      "outputs": [
        {
          "name": "stdout",
          "output_type": "stream",
          "text": [
            "Collecting git+https://github.com/moldagulovg/confWorks.git\n",
            "  Cloning https://github.com/moldagulovg/confWorks.git to /tmp/pip-req-build-76sa8z7t\n",
            "  Running command git clone --filter=blob:none --quiet https://github.com/moldagulovg/confWorks.git /tmp/pip-req-build-76sa8z7t\n",
            "  Resolved https://github.com/moldagulovg/confWorks.git to commit be93b2025a3285c6338390827956357ae56d62cb\n",
            "  Installing build dependencies ... \u001b[?25l\u001b[?25hdone\n",
            "  Getting requirements to build wheel ... \u001b[?25l\u001b[?25hdone\n",
            "  Preparing metadata (pyproject.toml) ... \u001b[?25l\u001b[?25hdone\n",
            "Requirement already satisfied: rdkit==2025.3.3 in /usr/local/lib/python3.11/site-packages (from confWorks==2025.7) (2025.3.3)\n",
            "Requirement already satisfied: tqdm in /usr/local/lib/python3.11/site-packages (from confWorks==2025.7) (4.67.1)\n",
            "Requirement already satisfied: numpy==1.26.4 in /usr/local/lib/python3.11/site-packages (from confWorks==2025.7) (1.26.4)\n",
            "Requirement already satisfied: pandas in /usr/local/lib/python3.11/site-packages (from confWorks==2025.7) (2.3.1)\n",
            "Requirement already satisfied: joblib in /usr/local/lib/python3.11/site-packages (from confWorks==2025.7) (1.5.1)\n",
            "Requirement already satisfied: chemiscope in /usr/local/lib/python3.11/site-packages (from confWorks==2025.7) (0.8.6)\n",
            "Requirement already satisfied: stk in /usr/local/lib/python3.11/site-packages (from confWorks==2025.7) (2024.10.2.0)\n",
            "Requirement already satisfied: stko in /usr/local/lib/python3.11/site-packages (from confWorks==2025.7) (2024.10.12.0)\n",
            "Requirement already satisfied: opentsne in /usr/local/lib/python3.11/site-packages (from confWorks==2025.7) (1.0.2)\n",
            "Requirement already satisfied: py3Dmol in /usr/local/lib/python3.11/site-packages (from confWorks==2025.7) (2.5.1)\n",
            "Requirement already satisfied: Pillow in /usr/local/lib/python3.11/site-packages (from rdkit==2025.3.3->confWorks==2025.7) (11.3.0)\n",
            "Requirement already satisfied: ipywidgets<9,>=7 in /usr/local/lib/python3.11/site-packages (from chemiscope->confWorks==2025.7) (8.1.7)\n",
            "Requirement already satisfied: scikit-learn>=0.20 in /usr/local/lib/python3.11/site-packages (from opentsne->confWorks==2025.7) (1.7.1)\n",
            "Requirement already satisfied: scipy in /usr/local/lib/python3.11/site-packages (from opentsne->confWorks==2025.7) (1.16.0)\n",
            "Requirement already satisfied: python-dateutil>=2.8.2 in /usr/local/lib/python3.11/site-packages (from pandas->confWorks==2025.7) (2.9.0.post0)\n",
            "Requirement already satisfied: pytz>=2020.1 in /usr/local/lib/python3.11/site-packages (from pandas->confWorks==2025.7) (2025.2)\n",
            "Requirement already satisfied: tzdata>=2022.7 in /usr/local/lib/python3.11/site-packages (from pandas->confWorks==2025.7) (2025.2)\n",
            "Requirement already satisfied: atomlite in /usr/local/lib/python3.11/site-packages (from stk->confWorks==2025.7) (4.5.0)\n",
            "Requirement already satisfied: matplotlib in /usr/local/lib/python3.11/site-packages (from stk->confWorks==2025.7) (3.10.3)\n",
            "Requirement already satisfied: pathos in /usr/local/lib/python3.11/site-packages (from stk->confWorks==2025.7) (0.3.4)\n",
            "Requirement already satisfied: seaborn in /usr/local/lib/python3.11/site-packages (from stk->confWorks==2025.7) (0.13.2)\n",
            "Requirement already satisfied: pymongo[srv] in /usr/local/lib/python3.11/site-packages (from stk->confWorks==2025.7) (4.13.2)\n",
            "Requirement already satisfied: MCHammer in /usr/local/lib/python3.11/site-packages (from stk->confWorks==2025.7) (2024.2.29.0)\n",
            "Requirement already satisfied: SpinDry in /usr/local/lib/python3.11/site-packages (from stk->confWorks==2025.7) (2024.2.29.0)\n",
            "Requirement already satisfied: vabene in /usr/local/lib/python3.11/site-packages (from stk->confWorks==2025.7) (0.0.5)\n",
            "Requirement already satisfied: networkx in /usr/local/lib/python3.11/site-packages (from stko->confWorks==2025.7) (3.5)\n",
            "Requirement already satisfied: rmsd in /usr/local/lib/python3.11/site-packages (from stko->confWorks==2025.7) (1.6.4)\n",
            "Requirement already satisfied: espaloma-charge in /usr/local/lib/python3.11/site-packages (from stko->confWorks==2025.7) (0.0.8)\n",
            "Requirement already satisfied: comm>=0.1.3 in /usr/local/lib/python3.11/site-packages (from ipywidgets<9,>=7->chemiscope->confWorks==2025.7) (0.2.2)\n",
            "Requirement already satisfied: ipython>=6.1.0 in /usr/local/lib/python3.11/site-packages (from ipywidgets<9,>=7->chemiscope->confWorks==2025.7) (9.4.0)\n",
            "Requirement already satisfied: traitlets>=4.3.1 in /usr/local/lib/python3.11/site-packages (from ipywidgets<9,>=7->chemiscope->confWorks==2025.7) (5.14.3)\n",
            "Requirement already satisfied: widgetsnbextension~=4.0.14 in /usr/local/lib/python3.11/site-packages (from ipywidgets<9,>=7->chemiscope->confWorks==2025.7) (4.0.14)\n",
            "Requirement already satisfied: jupyterlab_widgets~=3.0.15 in /usr/local/lib/python3.11/site-packages (from ipywidgets<9,>=7->chemiscope->confWorks==2025.7) (3.0.15)\n",
            "Requirement already satisfied: six>=1.5 in /usr/local/lib/python3.11/site-packages (from python-dateutil>=2.8.2->pandas->confWorks==2025.7) (1.17.0)\n",
            "Requirement already satisfied: threadpoolctl>=3.1.0 in /usr/local/lib/python3.11/site-packages (from scikit-learn>=0.20->opentsne->confWorks==2025.7) (3.6.0)\n",
            "Requirement already satisfied: polars in /usr/local/lib/python3.11/site-packages (from atomlite->stk->confWorks==2025.7) (1.31.0)\n",
            "Requirement already satisfied: dgl in /usr/local/lib/python3.11/site-packages (from espaloma-charge->stko->confWorks==2025.7) (2.1.0)\n",
            "Requirement already satisfied: torch in /usr/local/lib/python3.11/site-packages (from espaloma-charge->stko->confWorks==2025.7) (2.7.1)\n",
            "Requirement already satisfied: contourpy>=1.0.1 in /usr/local/lib/python3.11/site-packages (from matplotlib->stk->confWorks==2025.7) (1.3.2)\n",
            "Requirement already satisfied: cycler>=0.10 in /usr/local/lib/python3.11/site-packages (from matplotlib->stk->confWorks==2025.7) (0.12.1)\n",
            "Requirement already satisfied: fonttools>=4.22.0 in /usr/local/lib/python3.11/site-packages (from matplotlib->stk->confWorks==2025.7) (4.59.0)\n",
            "Requirement already satisfied: kiwisolver>=1.3.1 in /usr/local/lib/python3.11/site-packages (from matplotlib->stk->confWorks==2025.7) (1.4.8)\n",
            "Requirement already satisfied: packaging>=20.0 in /usr/local/lib/python3.11/site-packages (from matplotlib->stk->confWorks==2025.7) (24.2)\n",
            "Requirement already satisfied: pyparsing>=2.3.1 in /usr/local/lib/python3.11/site-packages (from matplotlib->stk->confWorks==2025.7) (3.2.3)\n",
            "Requirement already satisfied: ppft>=1.7.7 in /usr/local/lib/python3.11/site-packages (from pathos->stk->confWorks==2025.7) (1.7.7)\n",
            "Requirement already satisfied: dill>=0.4.0 in /usr/local/lib/python3.11/site-packages (from pathos->stk->confWorks==2025.7) (0.4.0)\n",
            "Requirement already satisfied: pox>=0.3.6 in /usr/local/lib/python3.11/site-packages (from pathos->stk->confWorks==2025.7) (0.3.6)\n",
            "Requirement already satisfied: multiprocess>=0.70.18 in /usr/local/lib/python3.11/site-packages (from pathos->stk->confWorks==2025.7) (0.70.18)\n",
            "\u001b[33mWARNING: pymongo 4.13.2 does not provide the extra 'srv'\u001b[0m\u001b[33m\n",
            "\u001b[0mRequirement already satisfied: dnspython<3.0.0,>=1.16.0 in /usr/local/lib/python3.11/site-packages (from pymongo[srv]->stk->confWorks==2025.7) (2.7.0)\n",
            "Requirement already satisfied: decorator in /usr/local/lib/python3.11/site-packages (from ipython>=6.1.0->ipywidgets<9,>=7->chemiscope->confWorks==2025.7) (5.2.1)\n",
            "Requirement already satisfied: ipython-pygments-lexers in /usr/local/lib/python3.11/site-packages (from ipython>=6.1.0->ipywidgets<9,>=7->chemiscope->confWorks==2025.7) (1.1.1)\n",
            "Requirement already satisfied: jedi>=0.16 in /usr/local/lib/python3.11/site-packages (from ipython>=6.1.0->ipywidgets<9,>=7->chemiscope->confWorks==2025.7) (0.19.2)\n",
            "Requirement already satisfied: matplotlib-inline in /usr/local/lib/python3.11/site-packages (from ipython>=6.1.0->ipywidgets<9,>=7->chemiscope->confWorks==2025.7) (0.1.7)\n",
            "Requirement already satisfied: pexpect>4.3 in /usr/local/lib/python3.11/site-packages (from ipython>=6.1.0->ipywidgets<9,>=7->chemiscope->confWorks==2025.7) (4.9.0)\n",
            "Requirement already satisfied: prompt_toolkit<3.1.0,>=3.0.41 in /usr/local/lib/python3.11/site-packages (from ipython>=6.1.0->ipywidgets<9,>=7->chemiscope->confWorks==2025.7) (3.0.51)\n",
            "Requirement already satisfied: pygments>=2.4.0 in /usr/local/lib/python3.11/site-packages (from ipython>=6.1.0->ipywidgets<9,>=7->chemiscope->confWorks==2025.7) (2.19.2)\n",
            "Requirement already satisfied: stack_data in /usr/local/lib/python3.11/site-packages (from ipython>=6.1.0->ipywidgets<9,>=7->chemiscope->confWorks==2025.7) (0.6.3)\n",
            "Requirement already satisfied: typing_extensions>=4.6 in /usr/local/lib/python3.11/site-packages (from ipython>=6.1.0->ipywidgets<9,>=7->chemiscope->confWorks==2025.7) (4.14.1)\n",
            "Requirement already satisfied: requests>=2.19.0 in /usr/local/lib/python3.11/site-packages (from dgl->espaloma-charge->stko->confWorks==2025.7) (2.32.3)\n",
            "Requirement already satisfied: psutil>=5.8.0 in /usr/local/lib/python3.11/site-packages (from dgl->espaloma-charge->stko->confWorks==2025.7) (7.0.0)\n",
            "Requirement already satisfied: torchdata>=0.5.0 in /usr/local/lib/python3.11/site-packages (from dgl->espaloma-charge->stko->confWorks==2025.7) (0.11.0)\n",
            "Requirement already satisfied: filelock in /usr/local/lib/python3.11/site-packages (from torch->espaloma-charge->stko->confWorks==2025.7) (3.18.0)\n",
            "Requirement already satisfied: sympy>=1.13.3 in /usr/local/lib/python3.11/site-packages (from torch->espaloma-charge->stko->confWorks==2025.7) (1.14.0)\n",
            "Requirement already satisfied: jinja2 in /usr/local/lib/python3.11/site-packages (from torch->espaloma-charge->stko->confWorks==2025.7) (3.1.6)\n",
            "Requirement already satisfied: fsspec in /usr/local/lib/python3.11/site-packages (from torch->espaloma-charge->stko->confWorks==2025.7) (2025.7.0)\n",
            "Requirement already satisfied: nvidia-cuda-nvrtc-cu12==12.6.77 in /usr/local/lib/python3.11/site-packages (from torch->espaloma-charge->stko->confWorks==2025.7) (12.6.77)\n",
            "Requirement already satisfied: nvidia-cuda-runtime-cu12==12.6.77 in /usr/local/lib/python3.11/site-packages (from torch->espaloma-charge->stko->confWorks==2025.7) (12.6.77)\n",
            "Requirement already satisfied: nvidia-cuda-cupti-cu12==12.6.80 in /usr/local/lib/python3.11/site-packages (from torch->espaloma-charge->stko->confWorks==2025.7) (12.6.80)\n",
            "Requirement already satisfied: nvidia-cudnn-cu12==9.5.1.17 in /usr/local/lib/python3.11/site-packages (from torch->espaloma-charge->stko->confWorks==2025.7) (9.5.1.17)\n",
            "Requirement already satisfied: nvidia-cublas-cu12==12.6.4.1 in /usr/local/lib/python3.11/site-packages (from torch->espaloma-charge->stko->confWorks==2025.7) (12.6.4.1)\n",
            "Requirement already satisfied: nvidia-cufft-cu12==11.3.0.4 in /usr/local/lib/python3.11/site-packages (from torch->espaloma-charge->stko->confWorks==2025.7) (11.3.0.4)\n",
            "Requirement already satisfied: nvidia-curand-cu12==10.3.7.77 in /usr/local/lib/python3.11/site-packages (from torch->espaloma-charge->stko->confWorks==2025.7) (10.3.7.77)\n",
            "Requirement already satisfied: nvidia-cusolver-cu12==11.7.1.2 in /usr/local/lib/python3.11/site-packages (from torch->espaloma-charge->stko->confWorks==2025.7) (11.7.1.2)\n",
            "Requirement already satisfied: nvidia-cusparse-cu12==12.5.4.2 in /usr/local/lib/python3.11/site-packages (from torch->espaloma-charge->stko->confWorks==2025.7) (12.5.4.2)\n",
            "Requirement already satisfied: nvidia-cusparselt-cu12==0.6.3 in /usr/local/lib/python3.11/site-packages (from torch->espaloma-charge->stko->confWorks==2025.7) (0.6.3)\n",
            "Requirement already satisfied: nvidia-nccl-cu12==2.26.2 in /usr/local/lib/python3.11/site-packages (from torch->espaloma-charge->stko->confWorks==2025.7) (2.26.2)\n",
            "Requirement already satisfied: nvidia-nvtx-cu12==12.6.77 in /usr/local/lib/python3.11/site-packages (from torch->espaloma-charge->stko->confWorks==2025.7) (12.6.77)\n",
            "Requirement already satisfied: nvidia-nvjitlink-cu12==12.6.85 in /usr/local/lib/python3.11/site-packages (from torch->espaloma-charge->stko->confWorks==2025.7) (12.6.85)\n",
            "Requirement already satisfied: nvidia-cufile-cu12==1.11.1.6 in /usr/local/lib/python3.11/site-packages (from torch->espaloma-charge->stko->confWorks==2025.7) (1.11.1.6)\n",
            "Requirement already satisfied: triton==3.3.1 in /usr/local/lib/python3.11/site-packages (from torch->espaloma-charge->stko->confWorks==2025.7) (3.3.1)\n",
            "Requirement already satisfied: setuptools>=40.8.0 in /usr/local/lib/python3.11/site-packages (from triton==3.3.1->torch->espaloma-charge->stko->confWorks==2025.7) (65.6.3)\n",
            "Requirement already satisfied: parso<0.9.0,>=0.8.4 in /usr/local/lib/python3.11/site-packages (from jedi>=0.16->ipython>=6.1.0->ipywidgets<9,>=7->chemiscope->confWorks==2025.7) (0.8.4)\n",
            "Requirement already satisfied: ptyprocess>=0.5 in /usr/local/lib/python3.11/site-packages (from pexpect>4.3->ipython>=6.1.0->ipywidgets<9,>=7->chemiscope->confWorks==2025.7) (0.7.0)\n",
            "Requirement already satisfied: wcwidth in /usr/local/lib/python3.11/site-packages (from prompt_toolkit<3.1.0,>=3.0.41->ipython>=6.1.0->ipywidgets<9,>=7->chemiscope->confWorks==2025.7) (0.2.13)\n",
            "Requirement already satisfied: charset_normalizer<4,>=2 in /usr/local/lib/python3.11/site-packages (from requests>=2.19.0->dgl->espaloma-charge->stko->confWorks==2025.7) (3.4.1)\n",
            "Requirement already satisfied: idna<4,>=2.5 in /usr/local/lib/python3.11/site-packages (from requests>=2.19.0->dgl->espaloma-charge->stko->confWorks==2025.7) (3.10)\n",
            "Requirement already satisfied: urllib3<3,>=1.21.1 in /usr/local/lib/python3.11/site-packages (from requests>=2.19.0->dgl->espaloma-charge->stko->confWorks==2025.7) (2.3.0)\n",
            "Requirement already satisfied: certifi>=2017.4.17 in /usr/local/lib/python3.11/site-packages (from requests>=2.19.0->dgl->espaloma-charge->stko->confWorks==2025.7) (2025.7.14)\n",
            "Requirement already satisfied: mpmath<1.4,>=1.1.0 in /usr/local/lib/python3.11/site-packages (from sympy>=1.13.3->torch->espaloma-charge->stko->confWorks==2025.7) (1.3.0)\n",
            "Requirement already satisfied: MarkupSafe>=2.0 in /usr/local/lib/python3.11/site-packages (from jinja2->torch->espaloma-charge->stko->confWorks==2025.7) (3.0.2)\n",
            "Requirement already satisfied: executing>=1.2.0 in /usr/local/lib/python3.11/site-packages (from stack_data->ipython>=6.1.0->ipywidgets<9,>=7->chemiscope->confWorks==2025.7) (2.2.0)\n",
            "Requirement already satisfied: asttokens>=2.1.0 in /usr/local/lib/python3.11/site-packages (from stack_data->ipython>=6.1.0->ipywidgets<9,>=7->chemiscope->confWorks==2025.7) (3.0.0)\n",
            "Requirement already satisfied: pure-eval in /usr/local/lib/python3.11/site-packages (from stack_data->ipython>=6.1.0->ipywidgets<9,>=7->chemiscope->confWorks==2025.7) (0.2.3)\n"
          ]
        }
      ],
      "source": [
        "! pip install git+https://github.com/moldagulovg/confWorks.git"
      ]
    },
    {
      "cell_type": "markdown",
      "metadata": {
        "id": "7avQ0cWiWF0v"
      },
      "source": [
        "### 0.2. Import packages"
      ]
    },
    {
      "cell_type": "code",
      "execution_count": 1,
      "metadata": {
        "colab": {
          "base_uri": "https://localhost:8080/"
        },
        "id": "tUS_ZmGyLxXe",
        "outputId": "c42227ea-ac34-4969-bd96-385222c3c220"
      },
      "outputs": [
        {
          "name": "stdout",
          "output_type": "stream",
          "text": [
            "2022.09.5\n"
          ]
        }
      ],
      "source": [
        "import os\n",
        "import shutil\n",
        "import subprocess\n",
        "import time\n",
        "\n",
        "import rdkit\n",
        "from rdkit import Chem\n",
        "from rdkit.Chem import AllChem\n",
        "from rdkit.Chem import Draw\n",
        "print(rdkit.__version__)\n",
        "from tqdm import tqdm\n",
        "import pandas as pd\n",
        "import numpy as np\n",
        "import matplotlib.pyplot as plt\n",
        "\n",
        "from rdkit.Chem.Draw import IPythonConsole\n",
        "IPythonConsole.ipython_3d = True\n",
        "import py3Dmol\n",
        "\n",
        "import confworks\n",
        "from confworks.util import calc_rmsd_single_mol\n",
        "from confworks.util import optimize_molecule, xtb_SP, conformer_search"
      ]
    },
    {
      "cell_type": "markdown",
      "metadata": {
        "id": "b7RbmeFbWVwn"
      },
      "source": [
        "## 1. xTB Single Point Calculation"
      ]
    },
    {
      "cell_type": "markdown",
      "metadata": {
        "id": "Bl0adBfTXHoZ"
      },
      "source": [
        "### 1.1. Define a molecule here"
      ]
    },
    {
      "cell_type": "code",
      "execution_count": 2,
      "metadata": {
        "colab": {
          "base_uri": "https://localhost:8080/",
          "height": 167
        },
        "id": "UGiFnlLgNlJy",
        "outputId": "a88c9fba-247a-478a-c060-90f66dcf2378"
      },
      "outputs": [
        {
          "data": {
            "image/png": "[encoded data removed]",
            "text/plain": [
              "<rdkit.Chem.rdchem.Mol at 0x7f4afff42a50>"
            ]
          },
          "metadata": {},
          "output_type": "display_data"
        }
      ],
      "source": [
        "mol = Chem.MolFromSmiles('CN1CC[C@]23[C@@H]4[C@H]1CC5=C2C(=C(C=C5)O)O[C@H]3[C@H](C=C4)O')\n",
        "display(mol)"
      ]
    },
    {
      "cell_type": "markdown",
      "metadata": {
        "id": "ClImZAhMXbzX"
      },
      "source": [
        "### 1.2 Embed 3D conformers for mol using RDKit's ETKDGv3 method"
      ]
    },
    {
      "cell_type": "code",
      "execution_count": 3,
      "metadata": {
        "colab": {
          "base_uri": "https://localhost:8080/",
          "height": 417
        },
        "id": "fLpxZT4_RY4D",
        "outputId": "8a13cd65-11c6-42fc-eef4-034e51756213"
      },
      "outputs": [
        {
          "data": {
            "application/3dmoljs_load.v0": "<div id=\"3dmolviewer_17532612771621385\"  style=\"position: relative; width: 400px; height: 400px;\">\n        <p id=\"3dmolwarning_17532612771621385\" style=\"background-color:#ffcccc;color:black\">3Dmol.js failed to load for some reason.  Please check your browser console for error messages.<br></p>\n        </div>\n<script>\n\nvar loadScriptAsync = function(uri){\n  return new Promise((resolve, reject) => {\n    //this is to ignore the existence of requirejs amd\n    var savedexports, savedmodule;\n    if (typeof exports !== 'undefined') savedexports = exports;\n    else exports = {}\n    if (typeof module !== 'undefined') savedmodule = module;\n    else module = {}\n\n    var tag = document.createElement('script');\n    tag.src = uri;\n    tag.async = true;\n    tag.onload = () => {\n        exports = savedexports;\n        module = savedmodule;\n        resolve();\n    };\n  var firstScriptTag = document.getElementsByTagName('script')[0];\n  firstScriptTag.parentNode.insertBefore(tag, firstScriptTag);\n});\n};\n\nif(typeof $3Dmolpromise === 'undefined') {\n$3Dmolpromise = null;\n  $3Dmolpromise = loadScriptAsync('https://cdnjs.cloudflare.com/ajax/libs/3Dmol/2.4.0/3Dmol-min.js');\n}\n\nvar viewer_17532612771621385 = null;\nvar warn = document.getElementById(\"3dmolwarning_17532612771621385\");\nif(warn) {\n    warn.parentNode.removeChild(warn);\n}\n$3Dmolpromise.then(function() {\nviewer_17532612771621385 = $3Dmol.createViewer(document.getElementById(\"3dmolviewer_17532612771621385\"),{backgroundColor:\"white\"});\nviewer_17532612771621385.zoomTo();\n\tviewer_17532612771621385.removeAllModels();\n\tviewer_17532612771621385.addModel(\"\\n     RDKit          3D\\n\\n 40 44  0  0  0  0  0  0  0  0999 V2000\\n    3.5904   -1.4881    0.1541 C   0  0  0  0  0  0  0  0  0  0  0  0\\n    2.1825   -1.6071   -0.1401 N   0  0  0  0  0  0  0  0  0  0  0  0\\n    1.8308   -1.3943   -1.4815 C   0  0  0  0  0  0  0  0  0  0  0  0\\n    0.5588   -0.7202   -1.7840 C   0  0  0  0  0  0  0  0  0  0  0  0\\n    0.0374    0.2431   -0.7887 C   0  0  2  0  0  0  0  0  0  0  0  0\\n    1.0843    0.4329    0.2851 C   0  0  2  0  0  0  0  0  0  0  0  0\\n    1.3714   -0.9306    0.8414 C   0  0  1  0  0  0  0  0  0  0  0  0\\n    0.2276   -1.7780    1.2475 C   0  0  0  0  0  0  0  0  0  0  0  0\\n   -1.0933   -1.2064    0.8734 C   0  0  0  0  0  0  0  0  0  0  0  0\\n   -1.1696   -0.2392   -0.0618 C   0  0  0  0  0  0  0  0  0  0  0  0\\n   -2.2880    0.3969   -0.4732 C   0  0  0  0  0  0  0  0  0  0  0  0\\n   -3.4674    0.0031    0.1318 C   0  0  0  0  0  0  0  0  0  0  0  0\\n   -3.4601   -0.9980    1.1099 C   0  0  0  0  0  0  0  0  0  0  0  0\\n   -2.2597   -1.6010    1.4771 C   0  0  0  0  0  0  0  0  0  0  0  0\\n   -4.6508    0.6037   -0.2354 O   0  0  0  0  0  0  0  0  0  0  0  0\\n   -1.9149    1.3443   -1.4610 O   0  0  0  0  0  0  0  0  0  0  0  0\\n   -0.4715    1.5063   -1.3921 C   0  0  1  0  0  0  0  0  0  0  0  0\\n   -0.0738    2.7329   -0.6399 C   0  0  2  0  0  0  0  0  0  0  0  0\\n    0.0555    2.5196    0.8189 C   0  0  0  0  0  0  0  0  0  0  0  0\\n    0.6159    1.4085    1.2634 C   0  0  0  0  0  0  0  0  0  0  0  0\\n   -0.9527    3.7910   -0.9025 O   0  0  0  0  0  0  0  0  0  0  0  0\\n    4.0536   -0.6394   -0.4215 H   0  0  0  0  0  0  0  0  0  0  0  0\\n    3.6925   -1.2045    1.2231 H   0  0  0  0  0  0  0  0  0  0  0  0\\n    4.1492   -2.4246    0.0150 H   0  0  0  0  0  0  0  0  0  0  0  0\\n    2.6617   -0.7957   -1.9630 H   0  0  0  0  0  0  0  0  0  0  0  0\\n    1.8864   -2.3866   -2.0212 H   0  0  0  0  0  0  0  0  0  0  0  0\\n   -0.2352   -1.5088   -1.9410 H   0  0  0  0  0  0  0  0  0  0  0  0\\n    0.5935   -0.1869   -2.7795 H   0  0  0  0  0  0  0  0  0  0  0  0\\n    2.0029    0.7978   -0.1997 H   0  0  0  0  0  0  0  0  0  0  0  0\\n    2.0259   -0.7779    1.7440 H   0  0  0  0  0  0  0  0  0  0  0  0\\n    0.2920   -2.7761    0.7396 H   0  0  0  0  0  0  0  0  0  0  0  0\\n    0.2176   -2.0164    2.3494 H   0  0  0  0  0  0  0  0  0  0  0  0\\n   -4.3969   -1.2955    1.5748 H   0  0  0  0  0  0  0  0  0  0  0  0\\n   -2.2775   -2.3837    2.2473 H   0  0  0  0  0  0  0  0  0  0  0  0\\n   -4.6608    1.3183   -0.9326 H   0  0  0  0  0  0  0  0  0  0  0  0\\n   -0.1868    1.6076   -2.4650 H   0  0  0  0  0  0  0  0  0  0  0  0\\n    0.9011    3.0726   -1.0850 H   0  0  0  0  0  0  0  0  0  0  0  0\\n   -0.3177    3.2916    1.5267 H   0  0  0  0  0  0  0  0  0  0  0  0\\n    0.7361    1.2033    2.3195 H   0  0  0  0  0  0  0  0  0  0  0  0\\n   -0.8901    4.0854   -1.8366 H   0  0  0  0  0  0  0  0  0  0  0  0\\n  1  2  1  0\\n  2  3  1  0\\n  3  4  1  0\\n  5  4  1  6\\n  5  6  1  0\\n  6  7  1  0\\n  7  8  1  0\\n  8  9  1  0\\n  9 10  2  0\\n 10 11  1  0\\n 11 12  2  0\\n 12 13  1  0\\n 13 14  2  0\\n 12 15  1  0\\n 11 16  1  0\\n 16 17  1  0\\n 17 18  1  0\\n 18 19  1  0\\n 19 20  2  0\\n 18 21  1  0\\n  7  2  1  0\\n 10  5  1  0\\n 17  5  1  0\\n 20  6  1  0\\n 14  9  1  0\\n  1 22  1  0\\n  1 23  1  0\\n  1 24  1  0\\n  3 25  1  0\\n  3 26  1  0\\n  4 27  1  0\\n  4 28  1  0\\n  6 29  1  6\\n  7 30  1  1\\n  8 31  1  0\\n  8 32  1  0\\n 13 33  1  0\\n 14 34  1  0\\n 15 35  1  0\\n 17 36  1  6\\n 18 37  1  6\\n 19 38  1  0\\n 20 39  1  0\\n 21 40  1  0\\nM  END\\n\",\"sdf\");\n\tviewer_17532612771621385.setStyle({\"stick\": {}});\n\tviewer_17532612771621385.setBackgroundColor(\"0xeeeeee\");\n\tviewer_17532612771621385.zoomTo();\nviewer_17532612771621385.render();\n});\n</script>",
            "text/html": [
              "<div id=\"3dmolviewer_17532612771621385\"  style=\"position: relative; width: 400px; height: 400px;\">\n",
              "        <p id=\"3dmolwarning_17532612771621385\" style=\"background-color:#ffcccc;color:black\">3Dmol.js failed to load for some reason.  Please check your browser console for error messages.<br></p>\n",
              "        </div>\n",
              "<script>\n",
              "\n",
              "var loadScriptAsync = function(uri){\n",
              "  return new Promise((resolve, reject) => {\n",
              "    //this is to ignore the existence of requirejs amd\n",
              "    var savedexports, savedmodule;\n",
              "    if (typeof exports !== 'undefined') savedexports = exports;\n",
              "    else exports = {}\n",
              "    if (typeof module !== 'undefined') savedmodule = module;\n",
              "    else module = {}\n",
              "\n",
              "    var tag = document.createElement('script');\n",
              "    tag.src = uri;\n",
              "    tag.async = true;\n",
              "    tag.onload = () => {\n",
              "        exports = savedexports;\n",
              "        module = savedmodule;\n",
              "        resolve();\n",
              "    };\n",
              "  var firstScriptTag = document.getElementsByTagName('script')[0];\n",
              "  firstScriptTag.parentNode.insertBefore(tag, firstScriptTag);\n",
              "});\n",
              "};\n",
              "\n",
              "if(typeof $3Dmolpromise === 'undefined') {\n",
              "$3Dmolpromise = null;\n",
              "  $3Dmolpromise = loadScriptAsync('https://cdnjs.cloudflare.com/ajax/libs/3Dmol/2.4.0/3Dmol-min.js');\n",
              "}\n",
              "\n",
              "var viewer_17532612771621385 = null;\n",
              "var warn = document.getElementById(\"3dmolwarning_17532612771621385\");\n",
              "if(warn) {\n",
              "    warn.parentNode.removeChild(warn);\n",
              "}\n",
              "$3Dmolpromise.then(function() {\n",
              "viewer_17532612771621385 = $3Dmol.createViewer(document.getElementById(\"3dmolviewer_17532612771621385\"),{backgroundColor:\"white\"});\n",
              "viewer_17532612771621385.zoomTo();\n",
              "\tviewer_17532612771621385.removeAllModels();\n",
              "\tviewer_17532612771621385.addModel(\"\\n     RDKit          3D\\n\\n 40 44  0  0  0  0  0  0  0  0999 V2000\\n    3.5904   -1.4881    0.1541 C   0  0  0  0  0  0  0  0  0  0  0  0\\n    2.1825   -1.6071   -0.1401 N   0  0  0  0  0  0  0  0  0  0  0  0\\n    1.8308   -1.3943   -1.4815 C   0  0  0  0  0  0  0  0  0  0  0  0\\n    0.5588   -0.7202   -1.7840 C   0  0  0  0  0  0  0  0  0  0  0  0\\n    0.0374    0.2431   -0.7887 C   0  0  2  0  0  0  0  0  0  0  0  0\\n    1.0843    0.4329    0.2851 C   0  0  2  0  0  0  0  0  0  0  0  0\\n    1.3714   -0.9306    0.8414 C   0  0  1  0  0  0  0  0  0  0  0  0\\n    0.2276   -1.7780    1.2475 C   0  0  0  0  0  0  0  0  0  0  0  0\\n   -1.0933   -1.2064    0.8734 C   0  0  0  0  0  0  0  0  0  0  0  0\\n   -1.1696   -0.2392   -0.0618 C   0  0  0  0  0  0  0  0  0  0  0  0\\n   -2.2880    0.3969   -0.4732 C   0  0  0  0  0  0  0  0  0  0  0  0\\n   -3.4674    0.0031    0.1318 C   0  0  0  0  0  0  0  0  0  0  0  0\\n   -3.4601   -0.9980    1.1099 C   0  0  0  0  0  0  0  0  0  0  0  0\\n   -2.2597   -1.6010    1.4771 C   0  0  0  0  0  0  0  0  0  0  0  0\\n   -4.6508    0.6037   -0.2354 O   0  0  0  0  0  0  0  0  0  0  0  0\\n   -1.9149    1.3443   -1.4610 O   0  0  0  0  0  0  0  0  0  0  0  0\\n   -0.4715    1.5063   -1.3921 C   0  0  1  0  0  0  0  0  0  0  0  0\\n   -0.0738    2.7329   -0.6399 C   0  0  2  0  0  0  0  0  0  0  0  0\\n    0.0555    2.5196    0.8189 C   0  0  0  0  0  0  0  0  0  0  0  0\\n    0.6159    1.4085    1.2634 C   0  0  0  0  0  0  0  0  0  0  0  0\\n   -0.9527    3.7910   -0.9025 O   0  0  0  0  0  0  0  0  0  0  0  0\\n    4.0536   -0.6394   -0.4215 H   0  0  0  0  0  0  0  0  0  0  0  0\\n    3.6925   -1.2045    1.2231 H   0  0  0  0  0  0  0  0  0  0  0  0\\n    4.1492   -2.4246    0.0150 H   0  0  0  0  0  0  0  0  0  0  0  0\\n    2.6617   -0.7957   -1.9630 H   0  0  0  0  0  0  0  0  0  0  0  0\\n    1.8864   -2.3866   -2.0212 H   0  0  0  0  0  0  0  0  0  0  0  0\\n   -0.2352   -1.5088   -1.9410 H   0  0  0  0  0  0  0  0  0  0  0  0\\n    0.5935   -0.1869   -2.7795 H   0  0  0  0  0  0  0  0  0  0  0  0\\n    2.0029    0.7978   -0.1997 H   0  0  0  0  0  0  0  0  0  0  0  0\\n    2.0259   -0.7779    1.7440 H   0  0  0  0  0  0  0  0  0  0  0  0\\n    0.2920   -2.7761    0.7396 H   0  0  0  0  0  0  0  0  0  0  0  0\\n    0.2176   -2.0164    2.3494 H   0  0  0  0  0  0  0  0  0  0  0  0\\n   -4.3969   -1.2955    1.5748 H   0  0  0  0  0  0  0  0  0  0  0  0\\n   -2.2775   -2.3837    2.2473 H   0  0  0  0  0  0  0  0  0  0  0  0\\n   -4.6608    1.3183   -0.9326 H   0  0  0  0  0  0  0  0  0  0  0  0\\n   -0.1868    1.6076   -2.4650 H   0  0  0  0  0  0  0  0  0  0  0  0\\n    0.9011    3.0726   -1.0850 H   0  0  0  0  0  0  0  0  0  0  0  0\\n   -0.3177    3.2916    1.5267 H   0  0  0  0  0  0  0  0  0  0  0  0\\n    0.7361    1.2033    2.3195 H   0  0  0  0  0  0  0  0  0  0  0  0\\n   -0.8901    4.0854   -1.8366 H   0  0  0  0  0  0  0  0  0  0  0  0\\n  1  2  1  0\\n  2  3  1  0\\n  3  4  1  0\\n  5  4  1  6\\n  5  6  1  0\\n  6  7  1  0\\n  7  8  1  0\\n  8  9  1  0\\n  9 10  2  0\\n 10 11  1  0\\n 11 12  2  0\\n 12 13  1  0\\n 13 14  2  0\\n 12 15  1  0\\n 11 16  1  0\\n 16 17  1  0\\n 17 18  1  0\\n 18 19  1  0\\n 19 20  2  0\\n 18 21  1  0\\n  7  2  1  0\\n 10  5  1  0\\n 17  5  1  0\\n 20  6  1  0\\n 14  9  1  0\\n  1 22  1  0\\n  1 23  1  0\\n  1 24  1  0\\n  3 25  1  0\\n  3 26  1  0\\n  4 27  1  0\\n  4 28  1  0\\n  6 29  1  6\\n  7 30  1  1\\n  8 31  1  0\\n  8 32  1  0\\n 13 33  1  0\\n 14 34  1  0\\n 15 35  1  0\\n 17 36  1  6\\n 18 37  1  6\\n 19 38  1  0\\n 20 39  1  0\\n 21 40  1  0\\nM  END\\n\",\"sdf\");\n",
              "\tviewer_17532612771621385.setStyle({\"stick\": {}});\n",
              "\tviewer_17532612771621385.setBackgroundColor(\"0xeeeeee\");\n",
              "\tviewer_17532612771621385.zoomTo();\n",
              "viewer_17532612771621385.render();\n",
              "});\n",
              "</script>"
            ]
          },
          "metadata": {},
          "output_type": "display_data"
        },
        {
          "data": {
            "image/png": "[encoded data removed]",
            "text/html": [],
            "text/plain": [
              "<rdkit.Chem.rdchem.Mol at 0x7f4afff42970>"
            ]
          },
          "metadata": {},
          "output_type": "display_data"
        }
      ],
      "source": [
        "mol = Chem.AddHs(mol)\n",
        "AllChem.EmbedMultipleConfs(mol, 10)\n",
        "display(mol)"
      ]
    },
    {
      "cell_type": "markdown",
      "metadata": {
        "id": "JzyURFU2Xhu0"
      },
      "source": [
        "### 1.3 Single point calculation  via *xtb_SP*\n",
        "We can calculate single point energies for each conformer in a molecule using *xtb_SP* function. You may supply xtb arguments (e.g. basis function, optimization level, charge, number of unpaired electrons, solvent, etc. via keywords)"
      ]
    },
    {
      "cell_type": "code",
      "execution_count": 4,
      "metadata": {
        "colab": {
          "base_uri": "https://localhost:8080/"
        },
        "id": "AB8z6NXuSEHr",
        "outputId": "bb422484-5772-4872-cc40-f50f0bf47057"
      },
      "outputs": [
        {
          "name": "stderr",
          "output_type": "stream",
          "text": [
            "100%|██████████| 10/10 [00:03<00:00,  3.00it/s]\n"
          ]
        }
      ],
      "source": [
        "mol = xtb_SP(mol, gfn_xtb=2)"
      ]
    },
    {
      "cell_type": "code",
      "execution_count": 5,
      "metadata": {
        "colab": {
          "base_uri": "https://localhost:8080/"
        },
        "id": "NRh1z5_cYHJJ",
        "outputId": "81d408ae-cfac-4ed7-f0b4-995b1b58e7c8"
      },
      "outputs": [
        {
          "name": "stdout",
          "output_type": "stream",
          "text": [
            "[-61.183325991776, -61.20294925917, -61.183217449087, -61.175883982405, -61.176003204838, -61.194058292155, -61.186170296585, -61.190457740108, -61.190119757365, -61.172445566079]\n",
            "min E: -61.20294925917\n"
          ]
        }
      ],
      "source": [
        "energies = []\n",
        "for conf in mol.GetConformers():\n",
        "    energy = conf.GetDoubleProp('conf_energy')\n",
        "    energies.append(energy)\n",
        "print(energies)\n",
        "print(f'min E: {min(energies)}')\n"
      ]
    },
    {
      "cell_type": "markdown",
      "metadata": {
        "id": "v85V2KrZYJQ-"
      },
      "source": [
        "## 2. Geometry optimization\n",
        "The *optimize_molecule* function will start geometry optimization for every conformer in the original input mol. You may also specify conformer ID for a single optimizatoin. As a result atom coordinates and energies are updated for each conformer.You may add geometry optimization arguments via function keywords."
      ]
    },
    {
      "cell_type": "code",
      "execution_count": 6,
      "metadata": {
        "colab": {
          "base_uri": "https://localhost:8080/"
        },
        "id": "fwDt0VuSRdo0",
        "outputId": "27d6d45d-5d09-4816-ab40-439f903fedfa"
      },
      "outputs": [
        {
          "name": "stdout",
          "output_type": "stream",
          "text": [
            "x\n"
          ]
        },
        {
          "name": "stderr",
          "output_type": "stream",
          "text": [
            "100%|██████████| 10/10 [01:04<00:00,  6.50s/it]\n"
          ]
        }
      ],
      "source": [
        "mol_opt = optimize_molecule(mol, gfn_xtb=2)"
      ]
    },
    {
      "cell_type": "code",
      "execution_count": 7,
      "metadata": {
        "colab": {
          "base_uri": "https://localhost:8080/",
          "height": 417
        },
        "id": "vGcX6_PTRnNE",
        "outputId": "43abe865-6665-4c7d-ba04-94b1d6bdc877"
      },
      "outputs": [
        {
          "data": {
            "application/3dmoljs_load.v0": "<div id=\"3dmolviewer_17532613808170023\"  style=\"position: relative; width: 400px; height: 400px;\">\n        <p id=\"3dmolwarning_17532613808170023\" style=\"background-color:#ffcccc;color:black\">3Dmol.js failed to load for some reason.  Please check your browser console for error messages.<br></p>\n        </div>\n<script>\n\nvar loadScriptAsync = function(uri){\n  return new Promise((resolve, reject) => {\n    //this is to ignore the existence of requirejs amd\n    var savedexports, savedmodule;\n    if (typeof exports !== 'undefined') savedexports = exports;\n    else exports = {}\n    if (typeof module !== 'undefined') savedmodule = module;\n    else module = {}\n\n    var tag = document.createElement('script');\n    tag.src = uri;\n    tag.async = true;\n    tag.onload = () => {\n        exports = savedexports;\n        module = savedmodule;\n        resolve();\n    };\n  var firstScriptTag = document.getElementsByTagName('script')[0];\n  firstScriptTag.parentNode.insertBefore(tag, firstScriptTag);\n});\n};\n\nif(typeof $3Dmolpromise === 'undefined') {\n$3Dmolpromise = null;\n  $3Dmolpromise = loadScriptAsync('https://cdnjs.cloudflare.com/ajax/libs/3Dmol/2.4.0/3Dmol-min.js');\n}\n\nvar viewer_17532613808170023 = null;\nvar warn = document.getElementById(\"3dmolwarning_17532613808170023\");\nif(warn) {\n    warn.parentNode.removeChild(warn);\n}\n$3Dmolpromise.then(function() {\nviewer_17532613808170023 = $3Dmol.createViewer(document.getElementById(\"3dmolviewer_17532613808170023\"),{backgroundColor:\"white\"});\nviewer_17532613808170023.zoomTo();\n\tviewer_17532613808170023.removeAllModels();\n\tviewer_17532613808170023.addModel(\"\\n     RDKit          3D\\n\\n 40 44  0  0  0  0  0  0  0  0999 V2000\\n    3.3731   -2.2270    0.1478 C   0  0  0  0  0  0  0  0  0  0  0  0\\n    2.0906   -1.6667   -0.2045 N   0  0  0  0  0  0  0  0  0  0  0  0\\n    2.0665   -1.1501   -1.5544 C   0  0  0  0  0  0  0  0  0  0  0  0\\n    0.6688   -0.6572   -1.9111 C   0  0  0  0  0  0  0  0  0  0  0  0\\n    0.1190    0.3314   -0.8613 C   0  0  2  0  0  0  0  0  0  0  0  0\\n    1.1725    0.6014    0.2219 C   0  0  2  0  0  0  0  0  0  0  0  0\\n    1.5458   -0.7679    0.8179 C   0  0  1  0  0  0  0  0  0  0  0  0\\n    0.3578   -1.4899    1.5052 C   0  0  0  0  0  0  0  0  0  0  0  0\\n   -0.9839   -1.1284    0.9407 C   0  0  0  0  0  0  0  0  0  0  0  0\\n   -1.0421   -0.2545   -0.1186 C   0  0  0  0  0  0  0  0  0  0  0  0\\n   -2.2116    0.3498   -0.5325 C   0  0  0  0  0  0  0  0  0  0  0  0\\n   -3.4319   -0.0376   -0.0021 C   0  0  0  0  0  0  0  0  0  0  0  0\\n   -3.3975   -1.0062    1.0014 C   0  0  0  0  0  0  0  0  0  0  0  0\\n   -2.2048   -1.5127    1.4897 C   0  0  0  0  0  0  0  0  0  0  0  0\\n   -4.6217    0.5011   -0.3952 O   0  0  0  0  0  0  0  0  0  0  0  0\\n   -1.9773    1.3701   -1.4275 O   0  0  0  0  0  0  0  0  0  0  0  0\\n   -0.5536    1.5749   -1.4787 C   0  0  1  0  0  0  0  0  0  0  0  0\\n   -0.2015    2.8753   -0.7048 C   0  0  2  0  0  0  0  0  0  0  0  0\\n   -0.0881    2.6091    0.7730 C   0  0  0  0  0  0  0  0  0  0  0  0\\n    0.5898    1.5612    1.2138 C   0  0  0  0  0  0  0  0  0  0  0  0\\n   -1.1092    3.8992   -1.0135 O   0  0  0  0  0  0  0  0  0  0  0  0\\n    4.1807   -1.4768    0.1735 H   0  0  0  0  0  0  0  0  0  0  0  0\\n    3.3028   -2.6982    1.1269 H   0  0  0  0  0  0  0  0  0  0  0  0\\n    3.6384   -2.9910   -0.5824 H   0  0  0  0  0  0  0  0  0  0  0  0\\n    2.8078   -0.3443   -1.7143 H   0  0  0  0  0  0  0  0  0  0  0  0\\n    2.3359   -1.9714   -2.2255 H   0  0  0  0  0  0  0  0  0  0  0  0\\n   -0.0009   -1.5172   -1.9692 H   0  0  0  0  0  0  0  0  0  0  0  0\\n    0.7026   -0.1900   -2.8967 H   0  0  0  0  0  0  0  0  0  0  0  0\\n    2.0696    1.0545   -0.2173 H   0  0  0  0  0  0  0  0  0  0  0  0\\n    2.3148   -0.5944    1.5840 H   0  0  0  0  0  0  0  0  0  0  0  0\\n    0.5328   -2.5640    1.4121 H   0  0  0  0  0  0  0  0  0  0  0  0\\n    0.3470   -1.2521    2.5724 H   0  0  0  0  0  0  0  0  0  0  0  0\\n   -4.3385   -1.3146    1.4282 H   0  0  0  0  0  0  0  0  0  0  0  0\\n   -2.2261   -2.2037    2.3188 H   0  0  0  0  0  0  0  0  0  0  0  0\\n   -4.4531    1.1401   -1.0979 H   0  0  0  0  0  0  0  0  0  0  0  0\\n   -0.3101    1.7192   -2.5357 H   0  0  0  0  0  0  0  0  0  0  0  0\\n    0.7751    3.2235   -1.0705 H   0  0  0  0  0  0  0  0  0  0  0  0\\n   -0.5530    3.3284    1.4284 H   0  0  0  0  0  0  0  0  0  0  0  0\\n    0.7108    1.3584    2.2662 H   0  0  0  0  0  0  0  0  0  0  0  0\\n   -1.9969    3.5183   -0.9714 H   0  0  0  0  0  0  0  0  0  0  0  0\\n  1  2  1  0\\n  2  3  1  0\\n  3  4  1  0\\n  5  4  1  6\\n  5  6  1  0\\n  6  7  1  0\\n  7  8  1  0\\n  8  9  1  0\\n  9 10  2  0\\n 10 11  1  0\\n 11 12  2  0\\n 12 13  1  0\\n 13 14  2  0\\n 12 15  1  0\\n 11 16  1  0\\n 16 17  1  0\\n 17 18  1  0\\n 18 19  1  0\\n 19 20  2  0\\n 18 21  1  0\\n  7  2  1  0\\n 10  5  1  0\\n 17  5  1  0\\n 20  6  1  0\\n 14  9  1  0\\n  1 22  1  0\\n  1 23  1  0\\n  1 24  1  0\\n  3 25  1  0\\n  3 26  1  0\\n  4 27  1  0\\n  4 28  1  0\\n  6 29  1  6\\n  7 30  1  1\\n  8 31  1  0\\n  8 32  1  0\\n 13 33  1  0\\n 14 34  1  0\\n 15 35  1  0\\n 17 36  1  6\\n 18 37  1  6\\n 19 38  1  0\\n 20 39  1  0\\n 21 40  1  0\\nM  END\\n\",\"sdf\");\n\tviewer_17532613808170023.setStyle({\"stick\": {}});\n\tviewer_17532613808170023.setBackgroundColor(\"0xeeeeee\");\n\tviewer_17532613808170023.zoomTo();\nviewer_17532613808170023.render();\n});\n</script>",
            "text/html": [
              "<div id=\"3dmolviewer_17532613808170023\"  style=\"position: relative; width: 400px; height: 400px;\">\n",
              "        <p id=\"3dmolwarning_17532613808170023\" style=\"background-color:#ffcccc;color:black\">3Dmol.js failed to load for some reason.  Please check your browser console for error messages.<br></p>\n",
              "        </div>\n",
              "<script>\n",
              "\n",
              "var loadScriptAsync = function(uri){\n",
              "  return new Promise((resolve, reject) => {\n",
              "    //this is to ignore the existence of requirejs amd\n",
              "    var savedexports, savedmodule;\n",
              "    if (typeof exports !== 'undefined') savedexports = exports;\n",
              "    else exports = {}\n",
              "    if (typeof module !== 'undefined') savedmodule = module;\n",
              "    else module = {}\n",
              "\n",
              "    var tag = document.createElement('script');\n",
              "    tag.src = uri;\n",
              "    tag.async = true;\n",
              "    tag.onload = () => {\n",
              "        exports = savedexports;\n",
              "        module = savedmodule;\n",
              "        resolve();\n",
              "    };\n",
              "  var firstScriptTag = document.getElementsByTagName('script')[0];\n",
              "  firstScriptTag.parentNode.insertBefore(tag, firstScriptTag);\n",
              "});\n",
              "};\n",
              "\n",
              "if(typeof $3Dmolpromise === 'undefined') {\n",
              "$3Dmolpromise = null;\n",
              "  $3Dmolpromise = loadScriptAsync('https://cdnjs.cloudflare.com/ajax/libs/3Dmol/2.4.0/3Dmol-min.js');\n",
              "}\n",
              "\n",
              "var viewer_17532613808170023 = null;\n",
              "var warn = document.getElementById(\"3dmolwarning_17532613808170023\");\n",
              "if(warn) {\n",
              "    warn.parentNode.removeChild(warn);\n",
              "}\n",
              "$3Dmolpromise.then(function() {\n",
              "viewer_17532613808170023 = $3Dmol.createViewer(document.getElementById(\"3dmolviewer_17532613808170023\"),{backgroundColor:\"white\"});\n",
              "viewer_17532613808170023.zoomTo();\n",
              "\tviewer_17532613808170023.removeAllModels();\n",
              "\tviewer_17532613808170023.addModel(\"\\n     RDKit          3D\\n\\n 40 44  0  0  0  0  0  0  0  0999 V2000\\n    3.3731   -2.2270    0.1478 C   0  0  0  0  0  0  0  0  0  0  0  0\\n    2.0906   -1.6667   -0.2045 N   0  0  0  0  0  0  0  0  0  0  0  0\\n    2.0665   -1.1501   -1.5544 C   0  0  0  0  0  0  0  0  0  0  0  0\\n    0.6688   -0.6572   -1.9111 C   0  0  0  0  0  0  0  0  0  0  0  0\\n    0.1190    0.3314   -0.8613 C   0  0  2  0  0  0  0  0  0  0  0  0\\n    1.1725    0.6014    0.2219 C   0  0  2  0  0  0  0  0  0  0  0  0\\n    1.5458   -0.7679    0.8179 C   0  0  1  0  0  0  0  0  0  0  0  0\\n    0.3578   -1.4899    1.5052 C   0  0  0  0  0  0  0  0  0  0  0  0\\n   -0.9839   -1.1284    0.9407 C   0  0  0  0  0  0  0  0  0  0  0  0\\n   -1.0421   -0.2545   -0.1186 C   0  0  0  0  0  0  0  0  0  0  0  0\\n   -2.2116    0.3498   -0.5325 C   0  0  0  0  0  0  0  0  0  0  0  0\\n   -3.4319   -0.0376   -0.0021 C   0  0  0  0  0  0  0  0  0  0  0  0\\n   -3.3975   -1.0062    1.0014 C   0  0  0  0  0  0  0  0  0  0  0  0\\n   -2.2048   -1.5127    1.4897 C   0  0  0  0  0  0  0  0  0  0  0  0\\n   -4.6217    0.5011   -0.3952 O   0  0  0  0  0  0  0  0  0  0  0  0\\n   -1.9773    1.3701   -1.4275 O   0  0  0  0  0  0  0  0  0  0  0  0\\n   -0.5536    1.5749   -1.4787 C   0  0  1  0  0  0  0  0  0  0  0  0\\n   -0.2015    2.8753   -0.7048 C   0  0  2  0  0  0  0  0  0  0  0  0\\n   -0.0881    2.6091    0.7730 C   0  0  0  0  0  0  0  0  0  0  0  0\\n    0.5898    1.5612    1.2138 C   0  0  0  0  0  0  0  0  0  0  0  0\\n   -1.1092    3.8992   -1.0135 O   0  0  0  0  0  0  0  0  0  0  0  0\\n    4.1807   -1.4768    0.1735 H   0  0  0  0  0  0  0  0  0  0  0  0\\n    3.3028   -2.6982    1.1269 H   0  0  0  0  0  0  0  0  0  0  0  0\\n    3.6384   -2.9910   -0.5824 H   0  0  0  0  0  0  0  0  0  0  0  0\\n    2.8078   -0.3443   -1.7143 H   0  0  0  0  0  0  0  0  0  0  0  0\\n    2.3359   -1.9714   -2.2255 H   0  0  0  0  0  0  0  0  0  0  0  0\\n   -0.0009   -1.5172   -1.9692 H   0  0  0  0  0  0  0  0  0  0  0  0\\n    0.7026   -0.1900   -2.8967 H   0  0  0  0  0  0  0  0  0  0  0  0\\n    2.0696    1.0545   -0.2173 H   0  0  0  0  0  0  0  0  0  0  0  0\\n    2.3148   -0.5944    1.5840 H   0  0  0  0  0  0  0  0  0  0  0  0\\n    0.5328   -2.5640    1.4121 H   0  0  0  0  0  0  0  0  0  0  0  0\\n    0.3470   -1.2521    2.5724 H   0  0  0  0  0  0  0  0  0  0  0  0\\n   -4.3385   -1.3146    1.4282 H   0  0  0  0  0  0  0  0  0  0  0  0\\n   -2.2261   -2.2037    2.3188 H   0  0  0  0  0  0  0  0  0  0  0  0\\n   -4.4531    1.1401   -1.0979 H   0  0  0  0  0  0  0  0  0  0  0  0\\n   -0.3101    1.7192   -2.5357 H   0  0  0  0  0  0  0  0  0  0  0  0\\n    0.7751    3.2235   -1.0705 H   0  0  0  0  0  0  0  0  0  0  0  0\\n   -0.5530    3.3284    1.4284 H   0  0  0  0  0  0  0  0  0  0  0  0\\n    0.7108    1.3584    2.2662 H   0  0  0  0  0  0  0  0  0  0  0  0\\n   -1.9969    3.5183   -0.9714 H   0  0  0  0  0  0  0  0  0  0  0  0\\n  1  2  1  0\\n  2  3  1  0\\n  3  4  1  0\\n  5  4  1  6\\n  5  6  1  0\\n  6  7  1  0\\n  7  8  1  0\\n  8  9  1  0\\n  9 10  2  0\\n 10 11  1  0\\n 11 12  2  0\\n 12 13  1  0\\n 13 14  2  0\\n 12 15  1  0\\n 11 16  1  0\\n 16 17  1  0\\n 17 18  1  0\\n 18 19  1  0\\n 19 20  2  0\\n 18 21  1  0\\n  7  2  1  0\\n 10  5  1  0\\n 17  5  1  0\\n 20  6  1  0\\n 14  9  1  0\\n  1 22  1  0\\n  1 23  1  0\\n  1 24  1  0\\n  3 25  1  0\\n  3 26  1  0\\n  4 27  1  0\\n  4 28  1  0\\n  6 29  1  6\\n  7 30  1  1\\n  8 31  1  0\\n  8 32  1  0\\n 13 33  1  0\\n 14 34  1  0\\n 15 35  1  0\\n 17 36  1  6\\n 18 37  1  6\\n 19 38  1  0\\n 20 39  1  0\\n 21 40  1  0\\nM  END\\n\",\"sdf\");\n",
              "\tviewer_17532613808170023.setStyle({\"stick\": {}});\n",
              "\tviewer_17532613808170023.setBackgroundColor(\"0xeeeeee\");\n",
              "\tviewer_17532613808170023.zoomTo();\n",
              "viewer_17532613808170023.render();\n",
              "});\n",
              "</script>"
            ]
          },
          "metadata": {},
          "output_type": "display_data"
        },
        {
          "data": {
            "image/png": "[encoded data removed]",
            "text/html": [],
            "text/plain": [
              "<rdkit.Chem.rdchem.Mol at 0x7f4afff42970>"
            ]
          },
          "metadata": {},
          "output_type": "display_data"
        }
      ],
      "source": [
        "display(mol_opt)"
      ]
    },
    {
      "cell_type": "code",
      "execution_count": 8,
      "metadata": {
        "colab": {
          "base_uri": "https://localhost:8080/"
        },
        "id": "sReIJJNbRq_1",
        "outputId": "10595488-93b8-4cec-d8b8-e62a11b5e893"
      },
      "outputs": [
        {
          "name": "stdout",
          "output_type": "stream",
          "text": [
            "[-61.241826105113, -61.247496256679, -61.239395898259, -61.235240802953, -61.239365534744, -61.241810031618, -61.239401461689, -61.235231652856, -61.239340844085, -61.239372571022]\n",
            "min E: -61.247496256679\n"
          ]
        }
      ],
      "source": [
        "energies = []\n",
        "for conf in mol_opt.GetConformers():\n",
        "    energy = conf.GetDoubleProp('conf_energy')\n",
        "    energies.append(energy)\n",
        "print(energies)\n",
        "print(f'min E: {min(energies)}')"
      ]
    },
    {
      "cell_type": "code",
      "execution_count": 9,
      "metadata": {
        "colab": {
          "base_uri": "https://localhost:8080/"
        },
        "id": "nkr5HHanR39I",
        "outputId": "8c698c60-b8ef-4ac5-d025-282f91ef9486"
      },
      "outputs": [
        {
          "name": "stdout",
          "output_type": "stream",
          "text": [
            "0.048471980546999305\n"
          ]
        }
      ],
      "source": [
        "print(-61.195817638543 - (-61.24428961909))"
      ]
    },
    {
      "cell_type": "markdown",
      "metadata": {
        "id": "Nhjc4BpnZonY"
      },
      "source": [
        "## 3. Conformer sampling"
      ]
    },
    {
      "cell_type": "code",
      "execution_count": 10,
      "metadata": {
        "id": "sijBqnaeSalM"
      },
      "outputs": [
        {
          "name": "stderr",
          "output_type": "stream",
          "text": [
            "  0%|          | 0/10 [25:29<?, ?it/s]\n"
          ]
        },
        {
          "ename": "KeyboardInterrupt",
          "evalue": "",
          "output_type": "error",
          "traceback": [
            "\u001b[0;31m---------------------------------------------------------------------------\u001b[0m",
            "\u001b[0;31mKeyboardInterrupt\u001b[0m                         Traceback (most recent call last)",
            "Cell \u001b[0;32mIn[10], line 1\u001b[0m\n\u001b[0;32m----> 1\u001b[0m mol_list_crest \u001b[38;5;241m=\u001b[39m \u001b[43mconformer_search\u001b[49m\u001b[43m(\u001b[49m\u001b[43mmol_opt\u001b[49m\u001b[43m,\u001b[49m\u001b[43m \u001b[49m\u001b[43mgfn_xtb\u001b[49m\u001b[38;5;241;43m=\u001b[39;49m\u001b[38;5;241;43m2\u001b[39;49m\u001b[43m)\u001b[49m\n",
            "File \u001b[0;32m~/confWorks/confworks/util.py:388\u001b[0m, in \u001b[0;36mconformer_search\u001b[0;34m(mol, gfn_xtb, output_dir, solvent, threads, topo_change, settings, charge, confId, freeze_atoms)\u001b[0m\n\u001b[1;32m    385\u001b[0m     crest_flags\u001b[38;5;241m+\u001b[39m\u001b[38;5;241m=\u001b[39m[\u001b[38;5;124m'\u001b[39m\u001b[38;5;124m--input\u001b[39m\u001b[38;5;124m'\u001b[39m, \u001b[38;5;124m'\u001b[39m\u001b[38;5;124mconstraints.inp\u001b[39m\u001b[38;5;124m'\u001b[39m]\n\u001b[1;32m    387\u001b[0m start \u001b[38;5;241m=\u001b[39m time\u001b[38;5;241m.\u001b[39mtime()\n\u001b[0;32m--> 388\u001b[0m process \u001b[38;5;241m=\u001b[39m \u001b[43msubprocess\u001b[49m\u001b[38;5;241;43m.\u001b[39;49m\u001b[43mrun\u001b[49m\u001b[43m(\u001b[49m\u001b[43m[\u001b[49m\u001b[38;5;124;43m'\u001b[39;49m\u001b[38;5;124;43mcrest\u001b[39;49m\u001b[38;5;124;43m'\u001b[39;49m\u001b[43m,\u001b[49m\u001b[43m \u001b[49m\u001b[38;5;124;43mf\u001b[39;49m\u001b[38;5;124;43m'\u001b[39;49m\u001b[38;5;132;43;01m{\u001b[39;49;00m\u001b[38;5;124;43m\"\u001b[39;49m\u001b[38;5;124;43minput.sdf\u001b[39;49m\u001b[38;5;124;43m\"\u001b[39;49m\u001b[38;5;132;43;01m}\u001b[39;49;00m\u001b[38;5;124;43m'\u001b[39;49m\u001b[43m]\u001b[49m\u001b[43m \u001b[49m\u001b[38;5;241;43m+\u001b[39;49m\u001b[43m \u001b[49m\u001b[43mcrest_flags\u001b[49m\u001b[43m,\u001b[49m\n\u001b[1;32m    389\u001b[0m \u001b[43m                         \u001b[49m\u001b[43mcapture_output\u001b[49m\u001b[38;5;241;43m=\u001b[39;49m\u001b[38;5;28;43;01mTrue\u001b[39;49;00m\u001b[43m,\u001b[49m\u001b[43m \u001b[49m\u001b[38;5;66;43;03m# This captures stdout and stderr\u001b[39;49;00m\n\u001b[1;32m    390\u001b[0m \u001b[43m                         \u001b[49m\u001b[43mtext\u001b[49m\u001b[38;5;241;43m=\u001b[39;49m\u001b[38;5;28;43;01mTrue\u001b[39;49;00m\u001b[43m,\u001b[49m\u001b[43m           \u001b[49m\u001b[38;5;66;43;03m# Decodes stdout and stderr as text using default encoding\u001b[39;49;00m\n\u001b[1;32m    391\u001b[0m \u001b[43m                         \u001b[49m\u001b[43mcheck\u001b[49m\u001b[38;5;241;43m=\u001b[39;49m\u001b[38;5;28;43;01mFalse\u001b[39;49;00m\n\u001b[1;32m    392\u001b[0m \u001b[43m                         \u001b[49m\u001b[43m)\u001b[49m\n\u001b[1;32m    393\u001b[0m end \u001b[38;5;241m=\u001b[39m time\u001b[38;5;241m.\u001b[39mtime()  \n\u001b[1;32m    394\u001b[0m \u001b[38;5;66;03m# print(f'elapsed time for conformer search: {end-start}')\u001b[39;00m\n\u001b[1;32m    395\u001b[0m \n\u001b[1;32m    396\u001b[0m \u001b[38;5;66;03m# Parse the output SDF from CREST\u001b[39;00m\n",
            "File \u001b[0;32m~/anaconda3/envs/bcatata/lib/python3.9/subprocess.py:507\u001b[0m, in \u001b[0;36mrun\u001b[0;34m(input, capture_output, timeout, check, *popenargs, **kwargs)\u001b[0m\n\u001b[1;32m    505\u001b[0m \u001b[38;5;28;01mwith\u001b[39;00m Popen(\u001b[38;5;241m*\u001b[39mpopenargs, \u001b[38;5;241m*\u001b[39m\u001b[38;5;241m*\u001b[39mkwargs) \u001b[38;5;28;01mas\u001b[39;00m process:\n\u001b[1;32m    506\u001b[0m     \u001b[38;5;28;01mtry\u001b[39;00m:\n\u001b[0;32m--> 507\u001b[0m         stdout, stderr \u001b[38;5;241m=\u001b[39m \u001b[43mprocess\u001b[49m\u001b[38;5;241;43m.\u001b[39;49m\u001b[43mcommunicate\u001b[49m\u001b[43m(\u001b[49m\u001b[38;5;28;43minput\u001b[39;49m\u001b[43m,\u001b[49m\u001b[43m \u001b[49m\u001b[43mtimeout\u001b[49m\u001b[38;5;241;43m=\u001b[39;49m\u001b[43mtimeout\u001b[49m\u001b[43m)\u001b[49m\n\u001b[1;32m    508\u001b[0m     \u001b[38;5;28;01mexcept\u001b[39;00m TimeoutExpired \u001b[38;5;28;01mas\u001b[39;00m exc:\n\u001b[1;32m    509\u001b[0m         process\u001b[38;5;241m.\u001b[39mkill()\n",
            "File \u001b[0;32m~/anaconda3/envs/bcatata/lib/python3.9/subprocess.py:1134\u001b[0m, in \u001b[0;36mPopen.communicate\u001b[0;34m(self, input, timeout)\u001b[0m\n\u001b[1;32m   1131\u001b[0m     endtime \u001b[38;5;241m=\u001b[39m \u001b[38;5;28;01mNone\u001b[39;00m\n\u001b[1;32m   1133\u001b[0m \u001b[38;5;28;01mtry\u001b[39;00m:\n\u001b[0;32m-> 1134\u001b[0m     stdout, stderr \u001b[38;5;241m=\u001b[39m \u001b[38;5;28;43mself\u001b[39;49m\u001b[38;5;241;43m.\u001b[39;49m\u001b[43m_communicate\u001b[49m\u001b[43m(\u001b[49m\u001b[38;5;28;43minput\u001b[39;49m\u001b[43m,\u001b[49m\u001b[43m \u001b[49m\u001b[43mendtime\u001b[49m\u001b[43m,\u001b[49m\u001b[43m \u001b[49m\u001b[43mtimeout\u001b[49m\u001b[43m)\u001b[49m\n\u001b[1;32m   1135\u001b[0m \u001b[38;5;28;01mexcept\u001b[39;00m \u001b[38;5;167;01mKeyboardInterrupt\u001b[39;00m:\n\u001b[1;32m   1136\u001b[0m     \u001b[38;5;66;03m# https://bugs.python.org/issue25942\u001b[39;00m\n\u001b[1;32m   1137\u001b[0m     \u001b[38;5;66;03m# See the detailed comment in .wait().\u001b[39;00m\n\u001b[1;32m   1138\u001b[0m     \u001b[38;5;28;01mif\u001b[39;00m timeout \u001b[38;5;129;01mis\u001b[39;00m \u001b[38;5;129;01mnot\u001b[39;00m \u001b[38;5;28;01mNone\u001b[39;00m:\n",
            "File \u001b[0;32m~/anaconda3/envs/bcatata/lib/python3.9/subprocess.py:1995\u001b[0m, in \u001b[0;36mPopen._communicate\u001b[0;34m(self, input, endtime, orig_timeout)\u001b[0m\n\u001b[1;32m   1988\u001b[0m     \u001b[38;5;28mself\u001b[39m\u001b[38;5;241m.\u001b[39m_check_timeout(endtime, orig_timeout,\n\u001b[1;32m   1989\u001b[0m                         stdout, stderr,\n\u001b[1;32m   1990\u001b[0m                         skip_check_and_raise\u001b[38;5;241m=\u001b[39m\u001b[38;5;28;01mTrue\u001b[39;00m)\n\u001b[1;32m   1991\u001b[0m     \u001b[38;5;28;01mraise\u001b[39;00m \u001b[38;5;167;01mRuntimeError\u001b[39;00m(  \u001b[38;5;66;03m# Impossible :)\u001b[39;00m\n\u001b[1;32m   1992\u001b[0m         \u001b[38;5;124m'\u001b[39m\u001b[38;5;124m_check_timeout(..., skip_check_and_raise=True) \u001b[39m\u001b[38;5;124m'\u001b[39m\n\u001b[1;32m   1993\u001b[0m         \u001b[38;5;124m'\u001b[39m\u001b[38;5;124mfailed to raise TimeoutExpired.\u001b[39m\u001b[38;5;124m'\u001b[39m)\n\u001b[0;32m-> 1995\u001b[0m ready \u001b[38;5;241m=\u001b[39m \u001b[43mselector\u001b[49m\u001b[38;5;241;43m.\u001b[39;49m\u001b[43mselect\u001b[49m\u001b[43m(\u001b[49m\u001b[43mtimeout\u001b[49m\u001b[43m)\u001b[49m\n\u001b[1;32m   1996\u001b[0m \u001b[38;5;28mself\u001b[39m\u001b[38;5;241m.\u001b[39m_check_timeout(endtime, orig_timeout, stdout, stderr)\n\u001b[1;32m   1998\u001b[0m \u001b[38;5;66;03m# XXX Rewrite these to use non-blocking I/O on the file\u001b[39;00m\n\u001b[1;32m   1999\u001b[0m \u001b[38;5;66;03m# objects; they are no longer using C stdio!\u001b[39;00m\n",
            "File \u001b[0;32m~/anaconda3/envs/bcatata/lib/python3.9/selectors.py:416\u001b[0m, in \u001b[0;36m_PollLikeSelector.select\u001b[0;34m(self, timeout)\u001b[0m\n\u001b[1;32m    414\u001b[0m ready \u001b[38;5;241m=\u001b[39m []\n\u001b[1;32m    415\u001b[0m \u001b[38;5;28;01mtry\u001b[39;00m:\n\u001b[0;32m--> 416\u001b[0m     fd_event_list \u001b[38;5;241m=\u001b[39m \u001b[38;5;28;43mself\u001b[39;49m\u001b[38;5;241;43m.\u001b[39;49m\u001b[43m_selector\u001b[49m\u001b[38;5;241;43m.\u001b[39;49m\u001b[43mpoll\u001b[49m\u001b[43m(\u001b[49m\u001b[43mtimeout\u001b[49m\u001b[43m)\u001b[49m\n\u001b[1;32m    417\u001b[0m \u001b[38;5;28;01mexcept\u001b[39;00m \u001b[38;5;167;01mInterruptedError\u001b[39;00m:\n\u001b[1;32m    418\u001b[0m     \u001b[38;5;28;01mreturn\u001b[39;00m ready\n",
            "\u001b[0;31mKeyboardInterrupt\u001b[0m: "
          ]
        }
      ],
      "source": [
        "mol_list_crest = conformer_search(mol_opt, gfn_xtb=2)"
      ]
    },
    {
      "cell_type": "code",
      "execution_count": null,
      "metadata": {},
      "outputs": [],
      "source": []
    }
  ],
  "metadata": {
    "colab": {
      "collapsed_sections": [
        "E0iRLboYV8GI",
        "AOCOjMNGW-CH"
      ],
      "provenance": [],
      "toc_visible": true
    },
    "kernelspec": {
      "display_name": "bcatata",
      "language": "python",
      "name": "python3"
    },
    "language_info": {
      "codemirror_mode": {
        "name": "ipython",
        "version": 3
      },
      "file_extension": ".py",
      "mimetype": "text/x-python",
      "name": "python",
      "nbconvert_exporter": "python",
      "pygments_lexer": "ipython3",
      "version": "3.9.18"
    }
  },
  "nbformat": 4,
  "nbformat_minor": 0
}
