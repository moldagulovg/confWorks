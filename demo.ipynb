{
  "nbformat": 4,
  "nbformat_minor": 0,
  "metadata": {
    "colab": {
      "provenance": [],
      "collapsed_sections": [
        "E0iRLboYV8GI",
        "AOCOjMNGW-CH"
      ],
      "toc_visible": true
    },
    "kernelspec": {
      "name": "python3",
      "display_name": "Python 3"
    },
    "language_info": {
      "name": "python"
    }
  },
  "cells": [
    {
      "cell_type": "markdown",
      "source": [
        "# ConfWorks demo\n",
        "### [![GitHub](https://img.shields.io/badge/GitHub-100000?style=for-the-badge&logo=github&logoColor=white)](https://github.com/moldagulovg/confWorks) This demonstration notebook shows basic usage of confWorks python-wrapper.\n",
        "\n",
        "\n",
        "### [![Open In Colab](https://colab.research.google.com/assets/colab-badge.svg)](https://colab.research.google.com/github/moldagulovg/confWorks/blob/main/demo.ipynb) You may open this .ipynb notebook in Google Collab\n"
      ],
      "metadata": {
        "id": "2tvkF0-WT33N"
      }
    },
    {
      "cell_type": "markdown",
      "source": [
        "## 0. Setup  "
      ],
      "metadata": {
        "id": "E0iRLboYV8GI"
      }
    },
    {
      "cell_type": "markdown",
      "source": [
        "### 0.1 Install required packages"
      ],
      "metadata": {
        "id": "AOCOjMNGW-CH"
      }
    },
    {
      "cell_type": "code",
      "execution_count": 1,
      "metadata": {
        "colab": {
          "base_uri": "https://localhost:8080/"
        },
        "id": "5mw-Zi_uJ_Z-",
        "outputId": "ab3e23f6-4ee3-480c-c74b-172152c2756d"
      },
      "outputs": [
        {
          "output_type": "stream",
          "name": "stdout",
          "text": [
            "✨🍰✨ Everything looks OK!\n"
          ]
        }
      ],
      "source": [
        "!pip install -q condacolab\n",
        "import condacolab\n",
        "condacolab.install() # expect a kernel restart"
      ]
    },
    {
      "cell_type": "code",
      "source": [
        "! mamba install xtb"
      ],
      "metadata": {
        "colab": {
          "base_uri": "https://localhost:8080/"
        },
        "collapsed": true,
        "id": "Np9t6GpQKBQe",
        "outputId": "6d274e21-18d1-4584-c8d0-f21f0237c8ef"
      },
      "execution_count": 2,
      "outputs": [
        {
          "output_type": "stream",
          "name": "stdout",
          "text": [
            "\n",
            "Looking for: ['xtb']\n",
            "\n",
            "\u001b[?25l\u001b[2K\u001b[0G[+] 0.0s\n",
            "conda-forge/linux-64  ⣾  \n",
            "conda-forge/noarch    ⣾  \u001b[2K\u001b[1A\u001b[2K\u001b[1A\u001b[2K\u001b[0G[+] 0.1s\n",
            "conda-forge/linux-64  ⣾  \n",
            "conda-forge/noarch    ⣾  \u001b[2K\u001b[1A\u001b[2K\u001b[1A\u001b[2K\u001b[0Gconda-forge/linux-64                                          No change\n",
            "[+] 0.2s\n",
            "conda-forge/noarch   1%\u001b[2K\u001b[1A\u001b[2K\u001b[0G[+] 0.3s\n",
            "conda-forge/noarch   4%\u001b[2K\u001b[1A\u001b[2K\u001b[0G[+] 0.4s\n",
            "conda-forge/noarch  13%\u001b[2K\u001b[1A\u001b[2K\u001b[0G[+] 0.5s\n",
            "conda-forge/noarch  24%\u001b[2K\u001b[1A\u001b[2K\u001b[0G[+] 0.6s\n",
            "conda-forge/noarch  26%\u001b[2K\u001b[1A\u001b[2K\u001b[0G[+] 0.7s\n",
            "conda-forge/noarch  36%\u001b[2K\u001b[1A\u001b[2K\u001b[0G[+] 0.8s\n",
            "conda-forge/noarch  45%\u001b[2K\u001b[1A\u001b[2K\u001b[0G[+] 0.9s\n",
            "conda-forge/noarch  61%\u001b[2K\u001b[1A\u001b[2K\u001b[0G[+] 1.0s\n",
            "conda-forge/noarch  67%\u001b[2K\u001b[1A\u001b[2K\u001b[0G[+] 1.1s\n",
            "conda-forge/noarch  76%\u001b[2K\u001b[1A\u001b[2K\u001b[0G[+] 1.2s\n",
            "conda-forge/noarch  87%\u001b[2K\u001b[1A\u001b[2K\u001b[0G[+] 1.3s\n",
            "conda-forge/noarch  96%\u001b[2K\u001b[1A\u001b[2K\u001b[0G[+] 1.4s\n",
            "conda-forge/noarch 100%\u001b[2K\u001b[1A\u001b[2K\u001b[0G[+] 1.5s\n",
            "conda-forge/noarch 100%\u001b[2K\u001b[1A\u001b[2K\u001b[0G[+] 1.6s\n",
            "conda-forge/noarch 100%\u001b[2K\u001b[1A\u001b[2K\u001b[0Gconda-forge/noarch                                \n",
            "\u001b[?25h\n",
            "Pinned packages:\n",
            "  - python 3.11.*\n",
            "  - python 3.11.*\n",
            "  - python_abi 3.11.* *cp311*\n",
            "  - cuda-version 12.*\n",
            "\n",
            "\n",
            "Transaction\n",
            "\n",
            "  Prefix: /usr/local\n",
            "\n",
            "  All requested packages already installed\n",
            "\n",
            "\u001b[?25l\u001b[2K\u001b[0G\u001b[?25h"
          ]
        }
      ]
    },
    {
      "cell_type": "code",
      "source": [
        "! xtb --version"
      ],
      "metadata": {
        "colab": {
          "base_uri": "https://localhost:8080/"
        },
        "id": "akDx4EmHKihV",
        "outputId": "f227c8ff-8bd5-40bb-8005-d1482a96edea"
      },
      "execution_count": 3,
      "outputs": [
        {
          "output_type": "stream",
          "name": "stdout",
          "text": [
            "      -----------------------------------------------------------      \n",
            "     |                   =====================                   |     \n",
            "     |                           x T B                           |     \n",
            "     |                   =====================                   |     \n",
            "     |                         S. Grimme                         |     \n",
            "     |          Mulliken Center for Theoretical Chemistry        |     \n",
            "     |                    University of Bonn                     |     \n",
            "      -----------------------------------------------------------      \n",
            "\n",
            "   * xtb version 6.7.1 (edcfbbe) compiled by 'conda@afd1a870197c' on 2025-04-11\n",
            "\n",
            "normal termination of xtb\n"
          ]
        }
      ]
    },
    {
      "cell_type": "code",
      "source": [
        "! pip install git+https://github.com/moldagulovg/confWorks.git"
      ],
      "metadata": {
        "colab": {
          "base_uri": "https://localhost:8080/"
        },
        "collapsed": true,
        "id": "U7VQCD_aKxbr",
        "outputId": "f2bc6e73-d5ff-4abc-bfca-725bf739c6ff"
      },
      "execution_count": 4,
      "outputs": [
        {
          "output_type": "stream",
          "name": "stdout",
          "text": [
            "Collecting git+https://github.com/moldagulovg/confWorks.git\n",
            "  Cloning https://github.com/moldagulovg/confWorks.git to /tmp/pip-req-build-76sa8z7t\n",
            "  Running command git clone --filter=blob:none --quiet https://github.com/moldagulovg/confWorks.git /tmp/pip-req-build-76sa8z7t\n",
            "  Resolved https://github.com/moldagulovg/confWorks.git to commit be93b2025a3285c6338390827956357ae56d62cb\n",
            "  Installing build dependencies ... \u001b[?25l\u001b[?25hdone\n",
            "  Getting requirements to build wheel ... \u001b[?25l\u001b[?25hdone\n",
            "  Preparing metadata (pyproject.toml) ... \u001b[?25l\u001b[?25hdone\n",
            "Requirement already satisfied: rdkit==2025.3.3 in /usr/local/lib/python3.11/site-packages (from confWorks==2025.7) (2025.3.3)\n",
            "Requirement already satisfied: tqdm in /usr/local/lib/python3.11/site-packages (from confWorks==2025.7) (4.67.1)\n",
            "Requirement already satisfied: numpy==1.26.4 in /usr/local/lib/python3.11/site-packages (from confWorks==2025.7) (1.26.4)\n",
            "Requirement already satisfied: pandas in /usr/local/lib/python3.11/site-packages (from confWorks==2025.7) (2.3.1)\n",
            "Requirement already satisfied: joblib in /usr/local/lib/python3.11/site-packages (from confWorks==2025.7) (1.5.1)\n",
            "Requirement already satisfied: chemiscope in /usr/local/lib/python3.11/site-packages (from confWorks==2025.7) (0.8.6)\n",
            "Requirement already satisfied: stk in /usr/local/lib/python3.11/site-packages (from confWorks==2025.7) (2024.10.2.0)\n",
            "Requirement already satisfied: stko in /usr/local/lib/python3.11/site-packages (from confWorks==2025.7) (2024.10.12.0)\n",
            "Requirement already satisfied: opentsne in /usr/local/lib/python3.11/site-packages (from confWorks==2025.7) (1.0.2)\n",
            "Requirement already satisfied: py3Dmol in /usr/local/lib/python3.11/site-packages (from confWorks==2025.7) (2.5.1)\n",
            "Requirement already satisfied: Pillow in /usr/local/lib/python3.11/site-packages (from rdkit==2025.3.3->confWorks==2025.7) (11.3.0)\n",
            "Requirement already satisfied: ipywidgets<9,>=7 in /usr/local/lib/python3.11/site-packages (from chemiscope->confWorks==2025.7) (8.1.7)\n",
            "Requirement already satisfied: scikit-learn>=0.20 in /usr/local/lib/python3.11/site-packages (from opentsne->confWorks==2025.7) (1.7.1)\n",
            "Requirement already satisfied: scipy in /usr/local/lib/python3.11/site-packages (from opentsne->confWorks==2025.7) (1.16.0)\n",
            "Requirement already satisfied: python-dateutil>=2.8.2 in /usr/local/lib/python3.11/site-packages (from pandas->confWorks==2025.7) (2.9.0.post0)\n",
            "Requirement already satisfied: pytz>=2020.1 in /usr/local/lib/python3.11/site-packages (from pandas->confWorks==2025.7) (2025.2)\n",
            "Requirement already satisfied: tzdata>=2022.7 in /usr/local/lib/python3.11/site-packages (from pandas->confWorks==2025.7) (2025.2)\n",
            "Requirement already satisfied: atomlite in /usr/local/lib/python3.11/site-packages (from stk->confWorks==2025.7) (4.5.0)\n",
            "Requirement already satisfied: matplotlib in /usr/local/lib/python3.11/site-packages (from stk->confWorks==2025.7) (3.10.3)\n",
            "Requirement already satisfied: pathos in /usr/local/lib/python3.11/site-packages (from stk->confWorks==2025.7) (0.3.4)\n",
            "Requirement already satisfied: seaborn in /usr/local/lib/python3.11/site-packages (from stk->confWorks==2025.7) (0.13.2)\n",
            "Requirement already satisfied: pymongo[srv] in /usr/local/lib/python3.11/site-packages (from stk->confWorks==2025.7) (4.13.2)\n",
            "Requirement already satisfied: MCHammer in /usr/local/lib/python3.11/site-packages (from stk->confWorks==2025.7) (2024.2.29.0)\n",
            "Requirement already satisfied: SpinDry in /usr/local/lib/python3.11/site-packages (from stk->confWorks==2025.7) (2024.2.29.0)\n",
            "Requirement already satisfied: vabene in /usr/local/lib/python3.11/site-packages (from stk->confWorks==2025.7) (0.0.5)\n",
            "Requirement already satisfied: networkx in /usr/local/lib/python3.11/site-packages (from stko->confWorks==2025.7) (3.5)\n",
            "Requirement already satisfied: rmsd in /usr/local/lib/python3.11/site-packages (from stko->confWorks==2025.7) (1.6.4)\n",
            "Requirement already satisfied: espaloma-charge in /usr/local/lib/python3.11/site-packages (from stko->confWorks==2025.7) (0.0.8)\n",
            "Requirement already satisfied: comm>=0.1.3 in /usr/local/lib/python3.11/site-packages (from ipywidgets<9,>=7->chemiscope->confWorks==2025.7) (0.2.2)\n",
            "Requirement already satisfied: ipython>=6.1.0 in /usr/local/lib/python3.11/site-packages (from ipywidgets<9,>=7->chemiscope->confWorks==2025.7) (9.4.0)\n",
            "Requirement already satisfied: traitlets>=4.3.1 in /usr/local/lib/python3.11/site-packages (from ipywidgets<9,>=7->chemiscope->confWorks==2025.7) (5.14.3)\n",
            "Requirement already satisfied: widgetsnbextension~=4.0.14 in /usr/local/lib/python3.11/site-packages (from ipywidgets<9,>=7->chemiscope->confWorks==2025.7) (4.0.14)\n",
            "Requirement already satisfied: jupyterlab_widgets~=3.0.15 in /usr/local/lib/python3.11/site-packages (from ipywidgets<9,>=7->chemiscope->confWorks==2025.7) (3.0.15)\n",
            "Requirement already satisfied: six>=1.5 in /usr/local/lib/python3.11/site-packages (from python-dateutil>=2.8.2->pandas->confWorks==2025.7) (1.17.0)\n",
            "Requirement already satisfied: threadpoolctl>=3.1.0 in /usr/local/lib/python3.11/site-packages (from scikit-learn>=0.20->opentsne->confWorks==2025.7) (3.6.0)\n",
            "Requirement already satisfied: polars in /usr/local/lib/python3.11/site-packages (from atomlite->stk->confWorks==2025.7) (1.31.0)\n",
            "Requirement already satisfied: dgl in /usr/local/lib/python3.11/site-packages (from espaloma-charge->stko->confWorks==2025.7) (2.1.0)\n",
            "Requirement already satisfied: torch in /usr/local/lib/python3.11/site-packages (from espaloma-charge->stko->confWorks==2025.7) (2.7.1)\n",
            "Requirement already satisfied: contourpy>=1.0.1 in /usr/local/lib/python3.11/site-packages (from matplotlib->stk->confWorks==2025.7) (1.3.2)\n",
            "Requirement already satisfied: cycler>=0.10 in /usr/local/lib/python3.11/site-packages (from matplotlib->stk->confWorks==2025.7) (0.12.1)\n",
            "Requirement already satisfied: fonttools>=4.22.0 in /usr/local/lib/python3.11/site-packages (from matplotlib->stk->confWorks==2025.7) (4.59.0)\n",
            "Requirement already satisfied: kiwisolver>=1.3.1 in /usr/local/lib/python3.11/site-packages (from matplotlib->stk->confWorks==2025.7) (1.4.8)\n",
            "Requirement already satisfied: packaging>=20.0 in /usr/local/lib/python3.11/site-packages (from matplotlib->stk->confWorks==2025.7) (24.2)\n",
            "Requirement already satisfied: pyparsing>=2.3.1 in /usr/local/lib/python3.11/site-packages (from matplotlib->stk->confWorks==2025.7) (3.2.3)\n",
            "Requirement already satisfied: ppft>=1.7.7 in /usr/local/lib/python3.11/site-packages (from pathos->stk->confWorks==2025.7) (1.7.7)\n",
            "Requirement already satisfied: dill>=0.4.0 in /usr/local/lib/python3.11/site-packages (from pathos->stk->confWorks==2025.7) (0.4.0)\n",
            "Requirement already satisfied: pox>=0.3.6 in /usr/local/lib/python3.11/site-packages (from pathos->stk->confWorks==2025.7) (0.3.6)\n",
            "Requirement already satisfied: multiprocess>=0.70.18 in /usr/local/lib/python3.11/site-packages (from pathos->stk->confWorks==2025.7) (0.70.18)\n",
            "\u001b[33mWARNING: pymongo 4.13.2 does not provide the extra 'srv'\u001b[0m\u001b[33m\n",
            "\u001b[0mRequirement already satisfied: dnspython<3.0.0,>=1.16.0 in /usr/local/lib/python3.11/site-packages (from pymongo[srv]->stk->confWorks==2025.7) (2.7.0)\n",
            "Requirement already satisfied: decorator in /usr/local/lib/python3.11/site-packages (from ipython>=6.1.0->ipywidgets<9,>=7->chemiscope->confWorks==2025.7) (5.2.1)\n",
            "Requirement already satisfied: ipython-pygments-lexers in /usr/local/lib/python3.11/site-packages (from ipython>=6.1.0->ipywidgets<9,>=7->chemiscope->confWorks==2025.7) (1.1.1)\n",
            "Requirement already satisfied: jedi>=0.16 in /usr/local/lib/python3.11/site-packages (from ipython>=6.1.0->ipywidgets<9,>=7->chemiscope->confWorks==2025.7) (0.19.2)\n",
            "Requirement already satisfied: matplotlib-inline in /usr/local/lib/python3.11/site-packages (from ipython>=6.1.0->ipywidgets<9,>=7->chemiscope->confWorks==2025.7) (0.1.7)\n",
            "Requirement already satisfied: pexpect>4.3 in /usr/local/lib/python3.11/site-packages (from ipython>=6.1.0->ipywidgets<9,>=7->chemiscope->confWorks==2025.7) (4.9.0)\n",
            "Requirement already satisfied: prompt_toolkit<3.1.0,>=3.0.41 in /usr/local/lib/python3.11/site-packages (from ipython>=6.1.0->ipywidgets<9,>=7->chemiscope->confWorks==2025.7) (3.0.51)\n",
            "Requirement already satisfied: pygments>=2.4.0 in /usr/local/lib/python3.11/site-packages (from ipython>=6.1.0->ipywidgets<9,>=7->chemiscope->confWorks==2025.7) (2.19.2)\n",
            "Requirement already satisfied: stack_data in /usr/local/lib/python3.11/site-packages (from ipython>=6.1.0->ipywidgets<9,>=7->chemiscope->confWorks==2025.7) (0.6.3)\n",
            "Requirement already satisfied: typing_extensions>=4.6 in /usr/local/lib/python3.11/site-packages (from ipython>=6.1.0->ipywidgets<9,>=7->chemiscope->confWorks==2025.7) (4.14.1)\n",
            "Requirement already satisfied: requests>=2.19.0 in /usr/local/lib/python3.11/site-packages (from dgl->espaloma-charge->stko->confWorks==2025.7) (2.32.3)\n",
            "Requirement already satisfied: psutil>=5.8.0 in /usr/local/lib/python3.11/site-packages (from dgl->espaloma-charge->stko->confWorks==2025.7) (7.0.0)\n",
            "Requirement already satisfied: torchdata>=0.5.0 in /usr/local/lib/python3.11/site-packages (from dgl->espaloma-charge->stko->confWorks==2025.7) (0.11.0)\n",
            "Requirement already satisfied: filelock in /usr/local/lib/python3.11/site-packages (from torch->espaloma-charge->stko->confWorks==2025.7) (3.18.0)\n",
            "Requirement already satisfied: sympy>=1.13.3 in /usr/local/lib/python3.11/site-packages (from torch->espaloma-charge->stko->confWorks==2025.7) (1.14.0)\n",
            "Requirement already satisfied: jinja2 in /usr/local/lib/python3.11/site-packages (from torch->espaloma-charge->stko->confWorks==2025.7) (3.1.6)\n",
            "Requirement already satisfied: fsspec in /usr/local/lib/python3.11/site-packages (from torch->espaloma-charge->stko->confWorks==2025.7) (2025.7.0)\n",
            "Requirement already satisfied: nvidia-cuda-nvrtc-cu12==12.6.77 in /usr/local/lib/python3.11/site-packages (from torch->espaloma-charge->stko->confWorks==2025.7) (12.6.77)\n",
            "Requirement already satisfied: nvidia-cuda-runtime-cu12==12.6.77 in /usr/local/lib/python3.11/site-packages (from torch->espaloma-charge->stko->confWorks==2025.7) (12.6.77)\n",
            "Requirement already satisfied: nvidia-cuda-cupti-cu12==12.6.80 in /usr/local/lib/python3.11/site-packages (from torch->espaloma-charge->stko->confWorks==2025.7) (12.6.80)\n",
            "Requirement already satisfied: nvidia-cudnn-cu12==9.5.1.17 in /usr/local/lib/python3.11/site-packages (from torch->espaloma-charge->stko->confWorks==2025.7) (9.5.1.17)\n",
            "Requirement already satisfied: nvidia-cublas-cu12==12.6.4.1 in /usr/local/lib/python3.11/site-packages (from torch->espaloma-charge->stko->confWorks==2025.7) (12.6.4.1)\n",
            "Requirement already satisfied: nvidia-cufft-cu12==11.3.0.4 in /usr/local/lib/python3.11/site-packages (from torch->espaloma-charge->stko->confWorks==2025.7) (11.3.0.4)\n",
            "Requirement already satisfied: nvidia-curand-cu12==10.3.7.77 in /usr/local/lib/python3.11/site-packages (from torch->espaloma-charge->stko->confWorks==2025.7) (10.3.7.77)\n",
            "Requirement already satisfied: nvidia-cusolver-cu12==11.7.1.2 in /usr/local/lib/python3.11/site-packages (from torch->espaloma-charge->stko->confWorks==2025.7) (11.7.1.2)\n",
            "Requirement already satisfied: nvidia-cusparse-cu12==12.5.4.2 in /usr/local/lib/python3.11/site-packages (from torch->espaloma-charge->stko->confWorks==2025.7) (12.5.4.2)\n",
            "Requirement already satisfied: nvidia-cusparselt-cu12==0.6.3 in /usr/local/lib/python3.11/site-packages (from torch->espaloma-charge->stko->confWorks==2025.7) (0.6.3)\n",
            "Requirement already satisfied: nvidia-nccl-cu12==2.26.2 in /usr/local/lib/python3.11/site-packages (from torch->espaloma-charge->stko->confWorks==2025.7) (2.26.2)\n",
            "Requirement already satisfied: nvidia-nvtx-cu12==12.6.77 in /usr/local/lib/python3.11/site-packages (from torch->espaloma-charge->stko->confWorks==2025.7) (12.6.77)\n",
            "Requirement already satisfied: nvidia-nvjitlink-cu12==12.6.85 in /usr/local/lib/python3.11/site-packages (from torch->espaloma-charge->stko->confWorks==2025.7) (12.6.85)\n",
            "Requirement already satisfied: nvidia-cufile-cu12==1.11.1.6 in /usr/local/lib/python3.11/site-packages (from torch->espaloma-charge->stko->confWorks==2025.7) (1.11.1.6)\n",
            "Requirement already satisfied: triton==3.3.1 in /usr/local/lib/python3.11/site-packages (from torch->espaloma-charge->stko->confWorks==2025.7) (3.3.1)\n",
            "Requirement already satisfied: setuptools>=40.8.0 in /usr/local/lib/python3.11/site-packages (from triton==3.3.1->torch->espaloma-charge->stko->confWorks==2025.7) (65.6.3)\n",
            "Requirement already satisfied: parso<0.9.0,>=0.8.4 in /usr/local/lib/python3.11/site-packages (from jedi>=0.16->ipython>=6.1.0->ipywidgets<9,>=7->chemiscope->confWorks==2025.7) (0.8.4)\n",
            "Requirement already satisfied: ptyprocess>=0.5 in /usr/local/lib/python3.11/site-packages (from pexpect>4.3->ipython>=6.1.0->ipywidgets<9,>=7->chemiscope->confWorks==2025.7) (0.7.0)\n",
            "Requirement already satisfied: wcwidth in /usr/local/lib/python3.11/site-packages (from prompt_toolkit<3.1.0,>=3.0.41->ipython>=6.1.0->ipywidgets<9,>=7->chemiscope->confWorks==2025.7) (0.2.13)\n",
            "Requirement already satisfied: charset_normalizer<4,>=2 in /usr/local/lib/python3.11/site-packages (from requests>=2.19.0->dgl->espaloma-charge->stko->confWorks==2025.7) (3.4.1)\n",
            "Requirement already satisfied: idna<4,>=2.5 in /usr/local/lib/python3.11/site-packages (from requests>=2.19.0->dgl->espaloma-charge->stko->confWorks==2025.7) (3.10)\n",
            "Requirement already satisfied: urllib3<3,>=1.21.1 in /usr/local/lib/python3.11/site-packages (from requests>=2.19.0->dgl->espaloma-charge->stko->confWorks==2025.7) (2.3.0)\n",
            "Requirement already satisfied: certifi>=2017.4.17 in /usr/local/lib/python3.11/site-packages (from requests>=2.19.0->dgl->espaloma-charge->stko->confWorks==2025.7) (2025.7.14)\n",
            "Requirement already satisfied: mpmath<1.4,>=1.1.0 in /usr/local/lib/python3.11/site-packages (from sympy>=1.13.3->torch->espaloma-charge->stko->confWorks==2025.7) (1.3.0)\n",
            "Requirement already satisfied: MarkupSafe>=2.0 in /usr/local/lib/python3.11/site-packages (from jinja2->torch->espaloma-charge->stko->confWorks==2025.7) (3.0.2)\n",
            "Requirement already satisfied: executing>=1.2.0 in /usr/local/lib/python3.11/site-packages (from stack_data->ipython>=6.1.0->ipywidgets<9,>=7->chemiscope->confWorks==2025.7) (2.2.0)\n",
            "Requirement already satisfied: asttokens>=2.1.0 in /usr/local/lib/python3.11/site-packages (from stack_data->ipython>=6.1.0->ipywidgets<9,>=7->chemiscope->confWorks==2025.7) (3.0.0)\n",
            "Requirement already satisfied: pure-eval in /usr/local/lib/python3.11/site-packages (from stack_data->ipython>=6.1.0->ipywidgets<9,>=7->chemiscope->confWorks==2025.7) (0.2.3)\n"
          ]
        }
      ]
    },
    {
      "cell_type": "markdown",
      "source": [
        "### 0.2. Import packages"
      ],
      "metadata": {
        "id": "7avQ0cWiWF0v"
      }
    },
    {
      "cell_type": "code",
      "source": [
        "import os\n",
        "import shutil\n",
        "import subprocess\n",
        "import time\n",
        "\n",
        "import rdkit\n",
        "from rdkit import Chem\n",
        "from rdkit.Chem import AllChem\n",
        "from rdkit.Chem import Draw\n",
        "print(rdkit.__version__)\n",
        "from tqdm import tqdm\n",
        "import pandas as pd\n",
        "import numpy as np\n",
        "import matplotlib.pyplot as plt\n",
        "\n",
        "from rdkit.Chem.Draw import IPythonConsole\n",
        "IPythonConsole.ipython_3d = True\n",
        "import py3Dmol\n",
        "\n",
        "import confworks\n",
        "from confworks.util import calc_rmsd_single_mol\n",
        "from confworks.util import optimize_molecule, xtb_SP, conformer_search"
      ],
      "metadata": {
        "colab": {
          "base_uri": "https://localhost:8080/"
        },
        "id": "tUS_ZmGyLxXe",
        "outputId": "c42227ea-ac34-4969-bd96-385222c3c220"
      },
      "execution_count": 31,
      "outputs": [
        {
          "output_type": "stream",
          "name": "stdout",
          "text": [
            "2025.03.3\n"
          ]
        }
      ]
    },
    {
      "cell_type": "markdown",
      "source": [
        "## 1. xTB Single Point Calculation"
      ],
      "metadata": {
        "id": "b7RbmeFbWVwn"
      }
    },
    {
      "cell_type": "markdown",
      "source": [
        "### 1.1. Define a molecule here"
      ],
      "metadata": {
        "id": "Bl0adBfTXHoZ"
      }
    },
    {
      "cell_type": "code",
      "source": [
        "mol = Chem.MolFromSmiles('CN1CC[C@]23[C@@H]4[C@H]1CC5=C2C(=C(C=C5)O)O[C@H]3[C@H](C=C4)O')\n",
        "display(mol)"
      ],
      "metadata": {
        "colab": {
          "base_uri": "https://localhost:8080/",
          "height": 167
        },
        "id": "UGiFnlLgNlJy",
        "outputId": "a88c9fba-247a-478a-c060-90f66dcf2378"
      },
      "execution_count": 7,
      "outputs": [
        {
          "output_type": "display_data",
          "data": {
            "text/plain": [
              "<rdkit.Chem.rdchem.Mol at 0x783e4d373140>"
            ],
            "image/png": "[encoded data removed]"
          },
          "metadata": {}
        }
      ]
    },
    {
      "cell_type": "markdown",
      "source": [
        "### 1.2 Embed 3D conformers for mol using RDKit's ETKDGv3 method"
      ],
      "metadata": {
        "id": "ClImZAhMXbzX"
      }
    },
    {
      "cell_type": "code",
      "source": [
        "mol = Chem.AddHs(mol)\n",
        "AllChem.EmbedMultipleConfs(mol, 10)\n",
        "display(mol)"
      ],
      "metadata": {
        "colab": {
          "base_uri": "https://localhost:8080/",
          "height": 417
        },
        "id": "fLpxZT4_RY4D",
        "outputId": "8a13cd65-11c6-42fc-eef4-034e51756213"
      },
      "execution_count": 21,
      "outputs": [
        {
          "output_type": "display_data",
          "data": {
            "application/3dmoljs_load.v0": "<div id=\"3dmolviewer_17532574828015704\"  style=\"position: relative; width: 400px; height: 400px;\">\n        <p id=\"3dmolwarning_17532574828015704\" style=\"background-color:#ffcccc;color:black\">3Dmol.js failed to load for some reason.  Please check your browser console for error messages.<br></p>\n        </div>\n<script>\n\nvar loadScriptAsync = function(uri){\n  return new Promise((resolve, reject) => {\n    //this is to ignore the existence of requirejs amd\n    var savedexports, savedmodule;\n    if (typeof exports !== 'undefined') savedexports = exports;\n    else exports = {}\n    if (typeof module !== 'undefined') savedmodule = module;\n    else module = {}\n\n    var tag = document.createElement('script');\n    tag.src = uri;\n    tag.async = true;\n    tag.onload = () => {\n        exports = savedexports;\n        module = savedmodule;\n        resolve();\n    };\n  var firstScriptTag = document.getElementsByTagName('script')[0];\n  firstScriptTag.parentNode.insertBefore(tag, firstScriptTag);\n});\n};\n\nif(typeof $3Dmolpromise === 'undefined') {\n$3Dmolpromise = null;\n  $3Dmolpromise = loadScriptAsync('https://cdn.jsdelivr.net/npm/3dmol@2.5.1/build/3Dmol-min.js');\n}\n\nvar viewer_17532574828015704 = null;\nvar warn = document.getElementById(\"3dmolwarning_17532574828015704\");\nif(warn) {\n    warn.parentNode.removeChild(warn);\n}\n$3Dmolpromise.then(function() {\nviewer_17532574828015704 = $3Dmol.createViewer(document.getElementById(\"3dmolviewer_17532574828015704\"),{backgroundColor:\"white\"});\nviewer_17532574828015704.zoomTo();\n\tviewer_17532574828015704.removeAllModels();\n\tviewer_17532574828015704.addModel(\"\\n     RDKit          3D\\n\\n 40 44  0  0  0  0  0  0  0  0999 V2000\\n    3.9557   -0.3212    0.3264 C   0  0  0  0  0  0  0  0  0  0  0  0\\n    2.6320    0.1885    0.5924 N   0  0  0  0  0  0  0  0  0  0  0  0\\n    2.1058   -0.4214    1.7667 C   0  0  0  0  0  0  0  0  0  0  0  0\\n    0.6131   -0.2505    1.9216 C   0  0  0  0  0  0  0  0  0  0  0  0\\n   -0.1625   -0.5395    0.6769 C   0  0  2  0  0  0  0  0  0  0  0  0\\n    0.7832   -0.9956   -0.3840 C   0  0  2  0  0  0  0  0  0  0  0  0\\n    1.8184    0.0811   -0.5823 C   0  0  1  0  0  0  0  0  0  0  0  0\\n    1.2847    1.4273   -0.9372 C   0  0  0  0  0  0  0  0  0  0  0  0\\n   -0.1251    1.6368   -0.5532 C   0  0  0  0  0  0  0  0  0  0  0  0\\n   -0.7706    0.7091    0.1901 C   0  0  0  0  0  0  0  0  0  0  0  0\\n   -2.0750    0.7950    0.5992 C   0  0  0  0  0  0  0  0  0  0  0  0\\n   -2.7828    1.9158    0.2231 C   0  0  0  0  0  0  0  0  0  0  0  0\\n   -2.1563    2.8839   -0.5357 C   0  0  0  0  0  0  0  0  0  0  0  0\\n   -0.8220    2.7650   -0.9374 C   0  0  0  0  0  0  0  0  0  0  0  0\\n   -4.0964    2.0114    0.6304 O   0  0  0  0  0  0  0  0  0  0  0  0\\n   -2.3171   -0.3604    1.3266 O   0  0  0  0  0  0  0  0  0  0  0  0\\n   -1.3735   -1.3714    0.9127 C   0  0  1  0  0  0  0  0  0  0  0  0\\n   -1.9410   -2.0307   -0.2886 C   0  0  2  0  0  0  0  0  0  0  0  0\\n   -1.1788   -1.8448   -1.5262 C   0  0  0  0  0  0  0  0  0  0  0  0\\n    0.0616   -1.3761   -1.6008 C   0  0  0  0  0  0  0  0  0  0  0  0\\n   -3.2603   -1.6163   -0.5562 O   0  0  0  0  0  0  0  0  0  0  0  0\\n    4.2958    0.1080   -0.6594 H   0  0  0  0  0  0  0  0  0  0  0  0\\n    4.6999    0.0470    1.0646 H   0  0  0  0  0  0  0  0  0  0  0  0\\n    3.9619   -1.4236    0.1948 H   0  0  0  0  0  0  0  0  0  0  0  0\\n    2.4065   -1.4842    1.8702 H   0  0  0  0  0  0  0  0  0  0  0  0\\n    2.5752    0.0862    2.6511 H   0  0  0  0  0  0  0  0  0  0  0  0\\n    0.3114   -0.9976    2.7116 H   0  0  0  0  0  0  0  0  0  0  0  0\\n    0.3513    0.7345    2.3663 H   0  0  0  0  0  0  0  0  0  0  0  0\\n    1.3391   -1.8685    0.0335 H   0  0  0  0  0  0  0  0  0  0  0  0\\n    2.4492   -0.2808   -1.4477 H   0  0  0  0  0  0  0  0  0  0  0  0\\n    1.4534    1.6532   -2.0279 H   0  0  0  0  0  0  0  0  0  0  0  0\\n    1.8741    2.2020   -0.4076 H   0  0  0  0  0  0  0  0  0  0  0  0\\n   -2.6974    3.7721   -0.8407 H   0  0  0  0  0  0  0  0  0  0  0  0\\n   -0.3330    3.5137   -1.5259 H   0  0  0  0  0  0  0  0  0  0  0  0\\n   -4.8591    1.4846    0.2468 H   0  0  0  0  0  0  0  0  0  0  0  0\\n   -1.1952   -2.0709    1.7526 H   0  0  0  0  0  0  0  0  0  0  0  0\\n   -2.0057   -3.1327   -0.0899 H   0  0  0  0  0  0  0  0  0  0  0  0\\n   -1.6518   -2.1065   -2.4661 H   0  0  0  0  0  0  0  0  0  0  0  0\\n    0.5550   -1.2695   -2.5624 H   0  0  0  0  0  0  0  0  0  0  0  0\\n   -3.7235   -2.2529   -1.1477 H   0  0  0  0  0  0  0  0  0  0  0  0\\n  1  2  1  0\\n  2  3  1  0\\n  3  4  1  0\\n  5  4  1  1\\n  5  6  1  0\\n  6  7  1  0\\n  7  8  1  0\\n  8  9  1  0\\n  9 10  2  0\\n 10 11  1  0\\n 11 12  2  0\\n 12 13  1  0\\n 13 14  2  0\\n 12 15  1  0\\n 11 16  1  0\\n 16 17  1  0\\n 17 18  1  0\\n 18 19  1  0\\n 19 20  2  0\\n 18 21  1  0\\n  7  2  1  0\\n 10  5  1  0\\n 17  5  1  0\\n 20  6  1  0\\n 14  9  1  0\\n  1 22  1  0\\n  1 23  1  0\\n  1 24  1  0\\n  3 25  1  0\\n  3 26  1  0\\n  4 27  1  0\\n  4 28  1  0\\n  6 29  1  1\\n  7 30  1  6\\n  8 31  1  0\\n  8 32  1  0\\n 13 33  1  0\\n 14 34  1  0\\n 15 35  1  0\\n 17 36  1  1\\n 18 37  1  1\\n 19 38  1  0\\n 20 39  1  0\\n 21 40  1  0\\nM  END\\n\",\"sdf\");\n\tviewer_17532574828015704.setStyle({\"stick\": {}});\n\tviewer_17532574828015704.setBackgroundColor(\"0xeeeeee\");\n\tviewer_17532574828015704.zoomTo();\nviewer_17532574828015704.render();\n});\n</script>",
            "text/html": [
              "<div id=\"3dmolviewer_17532574828015704\"  style=\"position: relative; width: 400px; height: 400px;\">\n",
              "        <p id=\"3dmolwarning_17532574828015704\" style=\"background-color:#ffcccc;color:black\">3Dmol.js failed to load for some reason.  Please check your browser console for error messages.<br></p>\n",
              "        </div>\n",
              "<script>\n",
              "\n",
              "var loadScriptAsync = function(uri){\n",
              "  return new Promise((resolve, reject) => {\n",
              "    //this is to ignore the existence of requirejs amd\n",
              "    var savedexports, savedmodule;\n",
              "    if (typeof exports !== 'undefined') savedexports = exports;\n",
              "    else exports = {}\n",
              "    if (typeof module !== 'undefined') savedmodule = module;\n",
              "    else module = {}\n",
              "\n",
              "    var tag = document.createElement('script');\n",
              "    tag.src = uri;\n",
              "    tag.async = true;\n",
              "    tag.onload = () => {\n",
              "        exports = savedexports;\n",
              "        module = savedmodule;\n",
              "        resolve();\n",
              "    };\n",
              "  var firstScriptTag = document.getElementsByTagName('script')[0];\n",
              "  firstScriptTag.parentNode.insertBefore(tag, firstScriptTag);\n",
              "});\n",
              "};\n",
              "\n",
              "if(typeof $3Dmolpromise === 'undefined') {\n",
              "$3Dmolpromise = null;\n",
              "  $3Dmolpromise = loadScriptAsync('https://cdn.jsdelivr.net/npm/3dmol@2.5.1/build/3Dmol-min.js');\n",
              "}\n",
              "\n",
              "var viewer_17532574828015704 = null;\n",
              "var warn = document.getElementById(\"3dmolwarning_17532574828015704\");\n",
              "if(warn) {\n",
              "    warn.parentNode.removeChild(warn);\n",
              "}\n",
              "$3Dmolpromise.then(function() {\n",
              "viewer_17532574828015704 = $3Dmol.createViewer(document.getElementById(\"3dmolviewer_17532574828015704\"),{backgroundColor:\"white\"});\n",
              "viewer_17532574828015704.zoomTo();\n",
              "\tviewer_17532574828015704.removeAllModels();\n",
              "\tviewer_17532574828015704.addModel(\"\\n     RDKit          3D\\n\\n 40 44  0  0  0  0  0  0  0  0999 V2000\\n    3.9557   -0.3212    0.3264 C   0  0  0  0  0  0  0  0  0  0  0  0\\n    2.6320    0.1885    0.5924 N   0  0  0  0  0  0  0  0  0  0  0  0\\n    2.1058   -0.4214    1.7667 C   0  0  0  0  0  0  0  0  0  0  0  0\\n    0.6131   -0.2505    1.9216 C   0  0  0  0  0  0  0  0  0  0  0  0\\n   -0.1625   -0.5395    0.6769 C   0  0  2  0  0  0  0  0  0  0  0  0\\n    0.7832   -0.9956   -0.3840 C   0  0  2  0  0  0  0  0  0  0  0  0\\n    1.8184    0.0811   -0.5823 C   0  0  1  0  0  0  0  0  0  0  0  0\\n    1.2847    1.4273   -0.9372 C   0  0  0  0  0  0  0  0  0  0  0  0\\n   -0.1251    1.6368   -0.5532 C   0  0  0  0  0  0  0  0  0  0  0  0\\n   -0.7706    0.7091    0.1901 C   0  0  0  0  0  0  0  0  0  0  0  0\\n   -2.0750    0.7950    0.5992 C   0  0  0  0  0  0  0  0  0  0  0  0\\n   -2.7828    1.9158    0.2231 C   0  0  0  0  0  0  0  0  0  0  0  0\\n   -2.1563    2.8839   -0.5357 C   0  0  0  0  0  0  0  0  0  0  0  0\\n   -0.8220    2.7650   -0.9374 C   0  0  0  0  0  0  0  0  0  0  0  0\\n   -4.0964    2.0114    0.6304 O   0  0  0  0  0  0  0  0  0  0  0  0\\n   -2.3171   -0.3604    1.3266 O   0  0  0  0  0  0  0  0  0  0  0  0\\n   -1.3735   -1.3714    0.9127 C   0  0  1  0  0  0  0  0  0  0  0  0\\n   -1.9410   -2.0307   -0.2886 C   0  0  2  0  0  0  0  0  0  0  0  0\\n   -1.1788   -1.8448   -1.5262 C   0  0  0  0  0  0  0  0  0  0  0  0\\n    0.0616   -1.3761   -1.6008 C   0  0  0  0  0  0  0  0  0  0  0  0\\n   -3.2603   -1.6163   -0.5562 O   0  0  0  0  0  0  0  0  0  0  0  0\\n    4.2958    0.1080   -0.6594 H   0  0  0  0  0  0  0  0  0  0  0  0\\n    4.6999    0.0470    1.0646 H   0  0  0  0  0  0  0  0  0  0  0  0\\n    3.9619   -1.4236    0.1948 H   0  0  0  0  0  0  0  0  0  0  0  0\\n    2.4065   -1.4842    1.8702 H   0  0  0  0  0  0  0  0  0  0  0  0\\n    2.5752    0.0862    2.6511 H   0  0  0  0  0  0  0  0  0  0  0  0\\n    0.3114   -0.9976    2.7116 H   0  0  0  0  0  0  0  0  0  0  0  0\\n    0.3513    0.7345    2.3663 H   0  0  0  0  0  0  0  0  0  0  0  0\\n    1.3391   -1.8685    0.0335 H   0  0  0  0  0  0  0  0  0  0  0  0\\n    2.4492   -0.2808   -1.4477 H   0  0  0  0  0  0  0  0  0  0  0  0\\n    1.4534    1.6532   -2.0279 H   0  0  0  0  0  0  0  0  0  0  0  0\\n    1.8741    2.2020   -0.4076 H   0  0  0  0  0  0  0  0  0  0  0  0\\n   -2.6974    3.7721   -0.8407 H   0  0  0  0  0  0  0  0  0  0  0  0\\n   -0.3330    3.5137   -1.5259 H   0  0  0  0  0  0  0  0  0  0  0  0\\n   -4.8591    1.4846    0.2468 H   0  0  0  0  0  0  0  0  0  0  0  0\\n   -1.1952   -2.0709    1.7526 H   0  0  0  0  0  0  0  0  0  0  0  0\\n   -2.0057   -3.1327   -0.0899 H   0  0  0  0  0  0  0  0  0  0  0  0\\n   -1.6518   -2.1065   -2.4661 H   0  0  0  0  0  0  0  0  0  0  0  0\\n    0.5550   -1.2695   -2.5624 H   0  0  0  0  0  0  0  0  0  0  0  0\\n   -3.7235   -2.2529   -1.1477 H   0  0  0  0  0  0  0  0  0  0  0  0\\n  1  2  1  0\\n  2  3  1  0\\n  3  4  1  0\\n  5  4  1  1\\n  5  6  1  0\\n  6  7  1  0\\n  7  8  1  0\\n  8  9  1  0\\n  9 10  2  0\\n 10 11  1  0\\n 11 12  2  0\\n 12 13  1  0\\n 13 14  2  0\\n 12 15  1  0\\n 11 16  1  0\\n 16 17  1  0\\n 17 18  1  0\\n 18 19  1  0\\n 19 20  2  0\\n 18 21  1  0\\n  7  2  1  0\\n 10  5  1  0\\n 17  5  1  0\\n 20  6  1  0\\n 14  9  1  0\\n  1 22  1  0\\n  1 23  1  0\\n  1 24  1  0\\n  3 25  1  0\\n  3 26  1  0\\n  4 27  1  0\\n  4 28  1  0\\n  6 29  1  1\\n  7 30  1  6\\n  8 31  1  0\\n  8 32  1  0\\n 13 33  1  0\\n 14 34  1  0\\n 15 35  1  0\\n 17 36  1  1\\n 18 37  1  1\\n 19 38  1  0\\n 20 39  1  0\\n 21 40  1  0\\nM  END\\n\",\"sdf\");\n",
              "\tviewer_17532574828015704.setStyle({\"stick\": {}});\n",
              "\tviewer_17532574828015704.setBackgroundColor(\"0xeeeeee\");\n",
              "\tviewer_17532574828015704.zoomTo();\n",
              "viewer_17532574828015704.render();\n",
              "});\n",
              "</script>"
            ]
          },
          "metadata": {}
        },
        {
          "output_type": "display_data",
          "data": {
            "text/plain": [
              "<rdkit.Chem.rdchem.Mol at 0x783e4d013f40>"
            ],
            "text/html": [],
            "image/png": "[encoded data removed]"
          },
          "metadata": {}
        }
      ]
    },
    {
      "cell_type": "markdown",
      "source": [
        "### 1.3 Single point calculation  via *xtb_SP*\n",
        "We can calculate single point energies for each conformer in a molecule using *xtb_SP* function. You may supply xtb arguments (e.g. basis function, optimization level, charge, number of unpaired electrons, solvent, etc. via keywords)"
      ],
      "metadata": {
        "id": "JzyURFU2Xhu0"
      }
    },
    {
      "cell_type": "code",
      "source": [
        "mol = xtb_SP(mol, gfn_xtb=2)"
      ],
      "metadata": {
        "colab": {
          "base_uri": "https://localhost:8080/"
        },
        "id": "AB8z6NXuSEHr",
        "outputId": "bb422484-5772-4872-cc40-f50f0bf47057"
      },
      "execution_count": 29,
      "outputs": [
        {
          "output_type": "stream",
          "name": "stderr",
          "text": [
            "100%|██████████| 10/10 [00:05<00:00,  1.99it/s]\n"
          ]
        }
      ]
    },
    {
      "cell_type": "code",
      "source": [
        "energies = []\n",
        "for conf in mol.GetConformers():\n",
        "    energy = conf.GetDoubleProp('conf_energy')\n",
        "    energies.append(energy)\n",
        "print(energies)\n",
        "print(f'min E: {min(energies)}')\n"
      ],
      "metadata": {
        "colab": {
          "base_uri": "https://localhost:8080/"
        },
        "id": "NRh1z5_cYHJJ",
        "outputId": "81d408ae-cfac-4ed7-f0b4-995b1b58e7c8"
      },
      "execution_count": 30,
      "outputs": [
        {
          "output_type": "stream",
          "name": "stdout",
          "text": [
            "[-61.235850934652, -61.244289568612, -61.235245425073, -61.235247276923, -61.239401379403, -61.237663715557, -61.235879752213, -61.235233537609, -61.241818638974, -61.239387941017]\n",
            "min E: -61.244289568612\n"
          ]
        }
      ]
    },
    {
      "cell_type": "markdown",
      "source": [
        "## 2. Geometry optimization\n",
        "The *optimize_molecule* function will start geometry optimization for every conformer in the original input mol. You may also specify conformer ID for a single optimizatoin. As a result atom coordinates and energies are updated for each conformer.You may add geometry optimization arguments via function keywords."
      ],
      "metadata": {
        "id": "v85V2KrZYJQ-"
      }
    },
    {
      "cell_type": "code",
      "source": [
        "mol_opt = optimize_molecule(mol, gfn_xtb=2)"
      ],
      "metadata": {
        "colab": {
          "base_uri": "https://localhost:8080/"
        },
        "id": "fwDt0VuSRdo0",
        "outputId": "27d6d45d-5d09-4816-ab40-439f903fedfa"
      },
      "execution_count": 23,
      "outputs": [
        {
          "output_type": "stream",
          "name": "stdout",
          "text": [
            "elapsed time for optimization: 13.451667070388794\n",
            "elapsed time for optimization: 11.891629457473755\n",
            "elapsed time for optimization: 17.901596307754517\n",
            "elapsed time for optimization: 17.115237712860107\n",
            "elapsed time for optimization: 6.954777479171753\n",
            "elapsed time for optimization: 16.777445316314697\n",
            "elapsed time for optimization: 7.299722194671631\n",
            "elapsed time for optimization: 17.289978504180908\n",
            "elapsed time for optimization: 15.036378145217896\n",
            "elapsed time for optimization: 20.553460359573364\n"
          ]
        }
      ]
    },
    {
      "cell_type": "code",
      "source": [
        "display(mol_opt)"
      ],
      "metadata": {
        "colab": {
          "base_uri": "https://localhost:8080/",
          "height": 417
        },
        "id": "vGcX6_PTRnNE",
        "outputId": "43abe865-6665-4c7d-ba04-94b1d6bdc877"
      },
      "execution_count": 24,
      "outputs": [
        {
          "output_type": "display_data",
          "data": {
            "application/3dmoljs_load.v0": "<div id=\"3dmolviewer_175325763482354\"  style=\"position: relative; width: 400px; height: 400px;\">\n        <p id=\"3dmolwarning_175325763482354\" style=\"background-color:#ffcccc;color:black\">3Dmol.js failed to load for some reason.  Please check your browser console for error messages.<br></p>\n        </div>\n<script>\n\nvar loadScriptAsync = function(uri){\n  return new Promise((resolve, reject) => {\n    //this is to ignore the existence of requirejs amd\n    var savedexports, savedmodule;\n    if (typeof exports !== 'undefined') savedexports = exports;\n    else exports = {}\n    if (typeof module !== 'undefined') savedmodule = module;\n    else module = {}\n\n    var tag = document.createElement('script');\n    tag.src = uri;\n    tag.async = true;\n    tag.onload = () => {\n        exports = savedexports;\n        module = savedmodule;\n        resolve();\n    };\n  var firstScriptTag = document.getElementsByTagName('script')[0];\n  firstScriptTag.parentNode.insertBefore(tag, firstScriptTag);\n});\n};\n\nif(typeof $3Dmolpromise === 'undefined') {\n$3Dmolpromise = null;\n  $3Dmolpromise = loadScriptAsync('https://cdn.jsdelivr.net/npm/3dmol@2.5.1/build/3Dmol-min.js');\n}\n\nvar viewer_175325763482354 = null;\nvar warn = document.getElementById(\"3dmolwarning_175325763482354\");\nif(warn) {\n    warn.parentNode.removeChild(warn);\n}\n$3Dmolpromise.then(function() {\nviewer_175325763482354 = $3Dmol.createViewer(document.getElementById(\"3dmolviewer_175325763482354\"),{backgroundColor:\"white\"});\nviewer_175325763482354.zoomTo();\n\tviewer_175325763482354.removeAllModels();\n\tviewer_175325763482354.addModel(\"\\n     RDKit          3D\\n\\n 40 44  0  0  0  0  0  0  0  0999 V2000\\n    4.0196   -0.1427    0.4329 C   0  0  0  0  0  0  0  0  0  0  0  0\\n    2.6067    0.0734    0.6311 N   0  0  0  0  0  0  0  0  0  0  0  0\\n    2.0861   -0.6699    1.7561 C   0  0  0  0  0  0  0  0  0  0  0  0\\n    0.6174   -0.3307    1.9833 C   0  0  0  0  0  0  0  0  0  0  0  0\\n   -0.2197   -0.4939    0.6978 C   0  0  2  0  0  0  0  0  0  0  0  0\\n    0.6573   -1.0229   -0.4466 C   0  0  2  0  0  0  0  0  0  0  0  0\\n    1.8209   -0.0272   -0.6025 C   0  0  1  0  0  0  0  0  0  0  0  0\\n    1.3657    1.4018   -0.9988 C   0  0  0  0  0  0  0  0  0  0  0  0\\n   -0.0248    1.7437   -0.5504 C   0  0  0  0  0  0  0  0  0  0  0  0\\n   -0.7228    0.8258    0.1977 C   0  0  0  0  0  0  0  0  0  0  0  0\\n   -2.0807    0.9158    0.4274 C   0  0  0  0  0  0  0  0  0  0  0  0\\n   -2.7867    2.0461    0.0433 C   0  0  0  0  0  0  0  0  0  0  0  0\\n   -2.0655    3.0394   -0.6191 C   0  0  0  0  0  0  0  0  0  0  0  0\\n   -0.7270    2.8812   -0.9408 C   0  0  0  0  0  0  0  0  0  0  0  0\\n   -4.1242    2.1863    0.2604 O   0  0  0  0  0  0  0  0  0  0  0  0\\n   -2.5890   -0.2299    0.9831 O   0  0  0  0  0  0  0  0  0  0  0  0\\n   -1.5642   -1.2238    0.9236 C   0  0  1  0  0  0  0  0  0  0  0  0\\n   -1.8480   -2.2364   -0.2195 C   0  0  2  0  0  0  0  0  0  0  0  0\\n   -1.4024   -1.6946   -1.5471 C   0  0  0  0  0  0  0  0  0  0  0  0\\n   -0.1988   -1.1553   -1.6678 C   0  0  0  0  0  0  0  0  0  0  0  0\\n   -3.2061   -2.5910   -0.1645 O   0  0  0  0  0  0  0  0  0  0  0  0\\n    4.3780    0.5202   -0.3531 H   0  0  0  0  0  0  0  0  0  0  0  0\\n    4.5476    0.1011    1.3544 H   0  0  0  0  0  0  0  0  0  0  0  0\\n    4.2648   -1.1821    0.1580 H   0  0  0  0  0  0  0  0  0  0  0  0\\n    2.2123   -1.7631    1.6380 H   0  0  0  0  0  0  0  0  0  0  0  0\\n    2.6606   -0.3749    2.6393 H   0  0  0  0  0  0  0  0  0  0  0  0\\n    0.2275   -0.9686    2.7780 H   0  0  0  0  0  0  0  0  0  0  0  0\\n    0.5466    0.7055    2.3184 H   0  0  0  0  0  0  0  0  0  0  0  0\\n    1.0649   -2.0105   -0.1964 H   0  0  0  0  0  0  0  0  0  0  0  0\\n    2.4701   -0.4029   -1.4065 H   0  0  0  0  0  0  0  0  0  0  0  0\\n    1.4063    1.5157   -2.0855 H   0  0  0  0  0  0  0  0  0  0  0  0\\n    2.0868    2.1016   -0.5707 H   0  0  0  0  0  0  0  0  0  0  0  0\\n   -2.5994    3.9241   -0.9278 H   0  0  0  0  0  0  0  0  0  0  0  0\\n   -0.2311    3.6448   -1.5210 H   0  0  0  0  0  0  0  0  0  0  0  0\\n   -4.4453    1.3749    0.6747 H   0  0  0  0  0  0  0  0  0  0  0  0\\n   -1.6142   -1.7643    1.8729 H   0  0  0  0  0  0  0  0  0  0  0  0\\n   -1.2251   -3.1271    0.0053 H   0  0  0  0  0  0  0  0  0  0  0  0\\n   -2.0852   -1.7864   -2.3789 H   0  0  0  0  0  0  0  0  0  0  0  0\\n    0.1692   -0.7781   -2.6084 H   0  0  0  0  0  0  0  0  0  0  0  0\\n   -3.4480   -3.0252   -0.9897 H   0  0  0  0  0  0  0  0  0  0  0  0\\n  1  2  1  0\\n  2  3  1  0\\n  3  4  1  0\\n  5  4  1  1\\n  5  6  1  0\\n  6  7  1  0\\n  7  8  1  0\\n  8  9  1  0\\n  9 10  2  0\\n 10 11  1  0\\n 11 12  2  0\\n 12 13  1  0\\n 13 14  2  0\\n 12 15  1  0\\n 11 16  1  0\\n 16 17  1  0\\n 17 18  1  0\\n 18 19  1  0\\n 19 20  2  0\\n 18 21  1  0\\n  7  2  1  0\\n 10  5  1  0\\n 17  5  1  0\\n 20  6  1  0\\n 14  9  1  0\\n  1 22  1  0\\n  1 23  1  0\\n  1 24  1  0\\n  3 25  1  0\\n  3 26  1  0\\n  4 27  1  0\\n  4 28  1  0\\n  6 29  1  1\\n  7 30  1  6\\n  8 31  1  0\\n  8 32  1  0\\n 13 33  1  0\\n 14 34  1  0\\n 15 35  1  0\\n 17 36  1  1\\n 18 37  1  1\\n 19 38  1  0\\n 20 39  1  0\\n 21 40  1  0\\nM  END\\n\",\"sdf\");\n\tviewer_175325763482354.setStyle({\"stick\": {}});\n\tviewer_175325763482354.setBackgroundColor(\"0xeeeeee\");\n\tviewer_175325763482354.zoomTo();\nviewer_175325763482354.render();\n});\n</script>",
            "text/html": [
              "<div id=\"3dmolviewer_175325763482354\"  style=\"position: relative; width: 400px; height: 400px;\">\n",
              "        <p id=\"3dmolwarning_175325763482354\" style=\"background-color:#ffcccc;color:black\">3Dmol.js failed to load for some reason.  Please check your browser console for error messages.<br></p>\n",
              "        </div>\n",
              "<script>\n",
              "\n",
              "var loadScriptAsync = function(uri){\n",
              "  return new Promise((resolve, reject) => {\n",
              "    //this is to ignore the existence of requirejs amd\n",
              "    var savedexports, savedmodule;\n",
              "    if (typeof exports !== 'undefined') savedexports = exports;\n",
              "    else exports = {}\n",
              "    if (typeof module !== 'undefined') savedmodule = module;\n",
              "    else module = {}\n",
              "\n",
              "    var tag = document.createElement('script');\n",
              "    tag.src = uri;\n",
              "    tag.async = true;\n",
              "    tag.onload = () => {\n",
              "        exports = savedexports;\n",
              "        module = savedmodule;\n",
              "        resolve();\n",
              "    };\n",
              "  var firstScriptTag = document.getElementsByTagName('script')[0];\n",
              "  firstScriptTag.parentNode.insertBefore(tag, firstScriptTag);\n",
              "});\n",
              "};\n",
              "\n",
              "if(typeof $3Dmolpromise === 'undefined') {\n",
              "$3Dmolpromise = null;\n",
              "  $3Dmolpromise = loadScriptAsync('https://cdn.jsdelivr.net/npm/3dmol@2.5.1/build/3Dmol-min.js');\n",
              "}\n",
              "\n",
              "var viewer_175325763482354 = null;\n",
              "var warn = document.getElementById(\"3dmolwarning_175325763482354\");\n",
              "if(warn) {\n",
              "    warn.parentNode.removeChild(warn);\n",
              "}\n",
              "$3Dmolpromise.then(function() {\n",
              "viewer_175325763482354 = $3Dmol.createViewer(document.getElementById(\"3dmolviewer_175325763482354\"),{backgroundColor:\"white\"});\n",
              "viewer_175325763482354.zoomTo();\n",
              "\tviewer_175325763482354.removeAllModels();\n",
              "\tviewer_175325763482354.addModel(\"\\n     RDKit          3D\\n\\n 40 44  0  0  0  0  0  0  0  0999 V2000\\n    4.0196   -0.1427    0.4329 C   0  0  0  0  0  0  0  0  0  0  0  0\\n    2.6067    0.0734    0.6311 N   0  0  0  0  0  0  0  0  0  0  0  0\\n    2.0861   -0.6699    1.7561 C   0  0  0  0  0  0  0  0  0  0  0  0\\n    0.6174   -0.3307    1.9833 C   0  0  0  0  0  0  0  0  0  0  0  0\\n   -0.2197   -0.4939    0.6978 C   0  0  2  0  0  0  0  0  0  0  0  0\\n    0.6573   -1.0229   -0.4466 C   0  0  2  0  0  0  0  0  0  0  0  0\\n    1.8209   -0.0272   -0.6025 C   0  0  1  0  0  0  0  0  0  0  0  0\\n    1.3657    1.4018   -0.9988 C   0  0  0  0  0  0  0  0  0  0  0  0\\n   -0.0248    1.7437   -0.5504 C   0  0  0  0  0  0  0  0  0  0  0  0\\n   -0.7228    0.8258    0.1977 C   0  0  0  0  0  0  0  0  0  0  0  0\\n   -2.0807    0.9158    0.4274 C   0  0  0  0  0  0  0  0  0  0  0  0\\n   -2.7867    2.0461    0.0433 C   0  0  0  0  0  0  0  0  0  0  0  0\\n   -2.0655    3.0394   -0.6191 C   0  0  0  0  0  0  0  0  0  0  0  0\\n   -0.7270    2.8812   -0.9408 C   0  0  0  0  0  0  0  0  0  0  0  0\\n   -4.1242    2.1863    0.2604 O   0  0  0  0  0  0  0  0  0  0  0  0\\n   -2.5890   -0.2299    0.9831 O   0  0  0  0  0  0  0  0  0  0  0  0\\n   -1.5642   -1.2238    0.9236 C   0  0  1  0  0  0  0  0  0  0  0  0\\n   -1.8480   -2.2364   -0.2195 C   0  0  2  0  0  0  0  0  0  0  0  0\\n   -1.4024   -1.6946   -1.5471 C   0  0  0  0  0  0  0  0  0  0  0  0\\n   -0.1988   -1.1553   -1.6678 C   0  0  0  0  0  0  0  0  0  0  0  0\\n   -3.2061   -2.5910   -0.1645 O   0  0  0  0  0  0  0  0  0  0  0  0\\n    4.3780    0.5202   -0.3531 H   0  0  0  0  0  0  0  0  0  0  0  0\\n    4.5476    0.1011    1.3544 H   0  0  0  0  0  0  0  0  0  0  0  0\\n    4.2648   -1.1821    0.1580 H   0  0  0  0  0  0  0  0  0  0  0  0\\n    2.2123   -1.7631    1.6380 H   0  0  0  0  0  0  0  0  0  0  0  0\\n    2.6606   -0.3749    2.6393 H   0  0  0  0  0  0  0  0  0  0  0  0\\n    0.2275   -0.9686    2.7780 H   0  0  0  0  0  0  0  0  0  0  0  0\\n    0.5466    0.7055    2.3184 H   0  0  0  0  0  0  0  0  0  0  0  0\\n    1.0649   -2.0105   -0.1964 H   0  0  0  0  0  0  0  0  0  0  0  0\\n    2.4701   -0.4029   -1.4065 H   0  0  0  0  0  0  0  0  0  0  0  0\\n    1.4063    1.5157   -2.0855 H   0  0  0  0  0  0  0  0  0  0  0  0\\n    2.0868    2.1016   -0.5707 H   0  0  0  0  0  0  0  0  0  0  0  0\\n   -2.5994    3.9241   -0.9278 H   0  0  0  0  0  0  0  0  0  0  0  0\\n   -0.2311    3.6448   -1.5210 H   0  0  0  0  0  0  0  0  0  0  0  0\\n   -4.4453    1.3749    0.6747 H   0  0  0  0  0  0  0  0  0  0  0  0\\n   -1.6142   -1.7643    1.8729 H   0  0  0  0  0  0  0  0  0  0  0  0\\n   -1.2251   -3.1271    0.0053 H   0  0  0  0  0  0  0  0  0  0  0  0\\n   -2.0852   -1.7864   -2.3789 H   0  0  0  0  0  0  0  0  0  0  0  0\\n    0.1692   -0.7781   -2.6084 H   0  0  0  0  0  0  0  0  0  0  0  0\\n   -3.4480   -3.0252   -0.9897 H   0  0  0  0  0  0  0  0  0  0  0  0\\n  1  2  1  0\\n  2  3  1  0\\n  3  4  1  0\\n  5  4  1  1\\n  5  6  1  0\\n  6  7  1  0\\n  7  8  1  0\\n  8  9  1  0\\n  9 10  2  0\\n 10 11  1  0\\n 11 12  2  0\\n 12 13  1  0\\n 13 14  2  0\\n 12 15  1  0\\n 11 16  1  0\\n 16 17  1  0\\n 17 18  1  0\\n 18 19  1  0\\n 19 20  2  0\\n 18 21  1  0\\n  7  2  1  0\\n 10  5  1  0\\n 17  5  1  0\\n 20  6  1  0\\n 14  9  1  0\\n  1 22  1  0\\n  1 23  1  0\\n  1 24  1  0\\n  3 25  1  0\\n  3 26  1  0\\n  4 27  1  0\\n  4 28  1  0\\n  6 29  1  1\\n  7 30  1  6\\n  8 31  1  0\\n  8 32  1  0\\n 13 33  1  0\\n 14 34  1  0\\n 15 35  1  0\\n 17 36  1  1\\n 18 37  1  1\\n 19 38  1  0\\n 20 39  1  0\\n 21 40  1  0\\nM  END\\n\",\"sdf\");\n",
              "\tviewer_175325763482354.setStyle({\"stick\": {}});\n",
              "\tviewer_175325763482354.setBackgroundColor(\"0xeeeeee\");\n",
              "\tviewer_175325763482354.zoomTo();\n",
              "viewer_175325763482354.render();\n",
              "});\n",
              "</script>"
            ]
          },
          "metadata": {}
        },
        {
          "output_type": "display_data",
          "data": {
            "text/plain": [
              "<rdkit.Chem.rdchem.Mol at 0x783e4d013f40>"
            ],
            "text/html": [],
            "image/png": "[encoded data removed]"
          },
          "metadata": {}
        }
      ]
    },
    {
      "cell_type": "code",
      "source": [
        "energies = []\n",
        "for conf in mol_opt.GetConformers():\n",
        "    energy = conf.GetDoubleProp('conf_energy')\n",
        "    energies.append(energy)\n",
        "print(energies)\n",
        "print(f'min E: {min(energies)}')"
      ],
      "metadata": {
        "colab": {
          "base_uri": "https://localhost:8080/"
        },
        "id": "sReIJJNbRq_1",
        "outputId": "10595488-93b8-4cec-d8b8-e62a11b5e893"
      },
      "execution_count": 25,
      "outputs": [
        {
          "output_type": "stream",
          "name": "stdout",
          "text": [
            "[-61.235850998327, -61.24428961909, -61.23524552023, -61.235247308801, -61.239401464263, -61.237663760284, -61.235879801304, -61.235233616699, -61.241818692235, -61.239387985125]\n",
            "min E: -61.24428961909\n"
          ]
        }
      ]
    },
    {
      "cell_type": "code",
      "source": [
        "print(-61.195817638543 - (-61.24428961909))"
      ],
      "metadata": {
        "colab": {
          "base_uri": "https://localhost:8080/"
        },
        "id": "nkr5HHanR39I",
        "outputId": "8c698c60-b8ef-4ac5-d025-282f91ef9486"
      },
      "execution_count": 26,
      "outputs": [
        {
          "output_type": "stream",
          "name": "stdout",
          "text": [
            "0.048471980546999305\n"
          ]
        }
      ]
    },
    {
      "cell_type": "markdown",
      "source": [
        "## 3. Conformer sampling"
      ],
      "metadata": {
        "id": "Nhjc4BpnZonY"
      }
    },
    {
      "cell_type": "code",
      "source": [
        "# mol_crest = conformer_search()"
      ],
      "metadata": {
        "id": "sijBqnaeSalM"
      },
      "execution_count": null,
      "outputs": []
    }
  ]
}